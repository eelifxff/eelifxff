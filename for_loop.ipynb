{
  "nbformat": 4,
  "nbformat_minor": 0,
  "metadata": {
    "colab": {
      "provenance": [],
      "authorship_tag": "ABX9TyPKoiv8Dj4+0YoJm4tXtU03",
      "include_colab_link": true
    },
    "kernelspec": {
      "name": "python3",
      "display_name": "Python 3"
    },
    "language_info": {
      "name": "python"
    }
  },
  "cells": [
    {
      "cell_type": "markdown",
      "metadata": {
        "id": "view-in-github",
        "colab_type": "text"
      },
      "source": [
        "<a href=\"https://colab.research.google.com/github/elifnuryaygin03/elifnuryaygin/blob/main/for_loop.ipynb\" target=\"_parent\"><img src=\"https://colab.research.google.com/assets/colab-badge.svg\" alt=\"Open In Colab\"/></a>"
      ]
    },
    {
      "cell_type": "markdown",
      "source": [
        "## Exercise 1: Tokenizing a Sentence\n",
        "\n",
        "**Problem Statement**:\n",
        "Given a sentence, tokenize it into individual words and print each word on a new line. This is a common step in NLP to prepare text data for further analysis.\n",
        "\n",
        "**Instructions**:\n",
        "1. Create a list of words from a sentence.\n",
        "2. Use a for loop to print each word on a new line.\n",
        "\n",
        "**Example Input**:\n",
        "```python\n",
        "sentence = \"the quick brown fox jumped over the lazy dog\"\n",
        "```"
      ],
      "metadata": {
        "id": "D6uLp84fLvuw"
      }
    },
    {
      "cell_type": "code",
      "source": [
        "# Define the sentence\n",
        "sentence = \"the quick brown fox jumped over the lazy dog\"\n",
        "\n",
        "# Tokenize the sentence into words\n",
        "words = sentence.split()\n",
        "\n",
        "# Print each word on a new line\n",
        "for word in words:\n",
        "    print(word)"
      ],
      "metadata": {
        "colab": {
          "base_uri": "https://localhost:8080/"
        },
        "id": "yQ3rWSatMGIl",
        "outputId": "f03e107c-6a00-44ac-f485-7ea7a471ab60"
      },
      "execution_count": 2,
      "outputs": [
        {
          "output_type": "stream",
          "name": "stdout",
          "text": [
            "the\n",
            "quick\n",
            "brown\n",
            "fox\n",
            "jumped\n",
            "over\n",
            "the\n",
            "lazy\n",
            "dog\n"
          ]
        }
      ]
    },
    {
      "cell_type": "markdown",
      "source": [
        "Exercise 2: Batching Data for Model Training\n",
        "In this exercise, you will simulate the process of batching data for model training, where data is processed in fixed-size batches.\n",
        "\n",
        "Problem Statement: Given a dataset, divide it into batches of a specified size and print each batch. This simulates the process of batching data during model training.\n",
        "\n",
        "Instructions:\n",
        "\n",
        "Create a list of numbers from 1 to 30.\n",
        "Use a for loop to divide the list into batches of 5 items each and print each batch."
      ],
      "metadata": {
        "id": "0LjQyJdNMOd3"
      }
    },
    {
      "cell_type": "code",
      "source": [
        "# Define the dataset\n",
        "data = list(range(1, 31))\n",
        "\n",
        "# Define the batch size\n",
        "batch_size = 5\n",
        "\n",
        "# Process the data in batches\n",
        "for i in range(0, len(data), batch_size):\n",
        "    batch = data[i:i + batch_size]\n",
        "    print(f\"Batch {i // batch_size + 1}: {batch}\")"
      ],
      "metadata": {
        "colab": {
          "base_uri": "https://localhost:8080/"
        },
        "id": "tHaLeOzuMUk2",
        "outputId": "13a8e747-a363-46d2-962c-e490bef229e6"
      },
      "execution_count": 3,
      "outputs": [
        {
          "output_type": "stream",
          "name": "stdout",
          "text": [
            "Batch 1: [1, 2, 3, 4, 5]\n",
            "Batch 2: [6, 7, 8, 9, 10]\n",
            "Batch 3: [11, 12, 13, 14, 15]\n",
            "Batch 4: [16, 17, 18, 19, 20]\n",
            "Batch 5: [21, 22, 23, 24, 25]\n",
            "Batch 6: [26, 27, 28, 29, 30]\n"
          ]
        }
      ]
    }
  ]
}