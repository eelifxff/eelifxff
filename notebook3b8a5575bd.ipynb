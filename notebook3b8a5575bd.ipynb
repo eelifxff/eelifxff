{
 "cells": [
  {
   "cell_type": "markdown",
   "id": "cc216802",
   "metadata": {
    "papermill": {
     "duration": 0.013832,
     "end_time": "2024-11-23T08:26:16.802524",
     "exception": false,
     "start_time": "2024-11-23T08:26:16.788692",
     "status": "completed"
    },
    "tags": []
   },
   "source": [
    "0. VERİ SETİNİN HAZIRLANMASI\n",
    "   \n",
    "Veri Seti ve Adresi: \n",
    "\n",
    "Spotify Tracks Dataset : https://www.kaggle.com/datasets/maharshipandya/-spotify-tracks-dataset/data\n",
    "\n"
   ]
  },
  {
   "cell_type": "code",
   "execution_count": 1,
   "id": "9f58d11e",
   "metadata": {
    "execution": {
     "iopub.execute_input": "2024-11-23T08:26:16.830180Z",
     "iopub.status.busy": "2024-11-23T08:26:16.829793Z",
     "iopub.status.idle": "2024-11-23T08:26:19.455120Z",
     "shell.execute_reply": "2024-11-23T08:26:19.454125Z"
    },
    "papermill": {
     "duration": 2.641376,
     "end_time": "2024-11-23T08:26:19.457558",
     "exception": false,
     "start_time": "2024-11-23T08:26:16.816182",
     "status": "completed"
    },
    "tags": []
   },
   "outputs": [],
   "source": [
    "#kullanacaagımız kütüphaneleri yükleyelim\n",
    "#pandas ve numpy\n",
    "import pandas as pd\n",
    "import numpy as np\n",
    "\n",
    "#görsellestirme kütüphaneleri\n",
    "import matplotlib.pyplot as plt\n",
    "import seaborn as sns \n",
    "\n",
    "#diğer örnek görsellestirme kütüphaneleri\n",
    "#ggplot\n",
    "#Bokeh\n",
    "#Plotly\n",
    "\n"
   ]
  },
  {
   "cell_type": "code",
   "execution_count": 2,
   "id": "4dbeea67",
   "metadata": {
    "execution": {
     "iopub.execute_input": "2024-11-23T08:26:19.484924Z",
     "iopub.status.busy": "2024-11-23T08:26:19.484427Z",
     "iopub.status.idle": "2024-11-23T08:26:20.365269Z",
     "shell.execute_reply": "2024-11-23T08:26:20.364304Z"
    },
    "papermill": {
     "duration": 0.89726,
     "end_time": "2024-11-23T08:26:20.367760",
     "exception": false,
     "start_time": "2024-11-23T08:26:19.470500",
     "status": "completed"
    },
    "tags": []
   },
   "outputs": [],
   "source": [
    "df_ = pd.read_csv(filepath_or_buffer = '/kaggle/input/-spotify-tracks-dataset/dataset.csv')\n",
    "df = df_.copy()"
   ]
  },
  {
   "cell_type": "code",
   "execution_count": 3,
   "id": "f1bf1658",
   "metadata": {
    "execution": {
     "iopub.execute_input": "2024-11-23T08:26:20.393947Z",
     "iopub.status.busy": "2024-11-23T08:26:20.393595Z",
     "iopub.status.idle": "2024-11-23T08:26:21.517302Z",
     "shell.execute_reply": "2024-11-23T08:26:21.516210Z"
    },
    "papermill": {
     "duration": 1.139492,
     "end_time": "2024-11-23T08:26:21.519664",
     "exception": false,
     "start_time": "2024-11-23T08:26:20.380172",
     "status": "completed"
    },
    "tags": []
   },
   "outputs": [
    {
     "name": "stderr",
     "output_type": "stream",
     "text": [
      "/tmp/ipykernel_17/3584719152.py:27: FutureWarning: Setting an item of incompatible dtype is deprecated and will raise an error in a future version of pandas. Value 'nan' has dtype incompatible with bool, please explicitly cast to a compatible dtype first.\n",
      "  df_missing.iat[row_idx, col_idx] = np.nan\n"
     ]
    }
   ],
   "source": [
    "#Veri setinde rastgele eksik veriler oluşturalım\n",
    "\n",
    "import random\n",
    "\n",
    "def add_random_missing_values(dataframe: pd.DataFrame,\n",
    "                            missing_rate: float = 0.05,\n",
    "                            seed: random = 42) ->pd.DataFrame:\n",
    "\n",
    "\n",
    "    #get copy of datarame\n",
    "    df_missing = dataframe.copy()\n",
    "\n",
    "    #obtain sşze of data frame and number total number of missing values\n",
    "    df_size = dataframe.size\n",
    "    num_missing = int(df_size * missing_rate)\n",
    "\n",
    "    #Set seed\n",
    "\n",
    "    if seed:\n",
    "        random.seed(seed)\n",
    "\n",
    "    #get random row and column indexes to turn them NaN \n",
    "    for _ in range(num_missing):\n",
    "        row_idx = random.randint(0, dataframe.shape[0]-1)\n",
    "        col_idx = random.randint(0, dataframe.shape[1]-1)\n",
    "\n",
    "        df_missing.iat[row_idx, col_idx] = np.nan\n",
    "    return df_missing\n",
    "\n",
    "df = add_random_missing_values(dataframe = df, \n",
    "                              missing_rate = 0.03)\n",
    "                            "
   ]
  },
  {
   "cell_type": "markdown",
   "id": "553be946",
   "metadata": {
    "papermill": {
     "duration": 0.01201,
     "end_time": "2024-11-23T08:26:21.544352",
     "exception": false,
     "start_time": "2024-11-23T08:26:21.532342",
     "status": "completed"
    },
    "tags": []
   },
   "source": [
    "1.VERİYE İLK BAKIŞ"
   ]
  },
  {
   "cell_type": "code",
   "execution_count": 4,
   "id": "643c715d",
   "metadata": {
    "execution": {
     "iopub.execute_input": "2024-11-23T08:26:21.570739Z",
     "iopub.status.busy": "2024-11-23T08:26:21.570361Z",
     "iopub.status.idle": "2024-11-23T08:26:21.609503Z",
     "shell.execute_reply": "2024-11-23T08:26:21.608488Z"
    },
    "papermill": {
     "duration": 0.054851,
     "end_time": "2024-11-23T08:26:21.611620",
     "exception": false,
     "start_time": "2024-11-23T08:26:21.556769",
     "status": "completed"
    },
    "tags": []
   },
   "outputs": [
    {
     "data": {
      "text/html": [
       "<div>\n",
       "<style scoped>\n",
       "    .dataframe tbody tr th:only-of-type {\n",
       "        vertical-align: middle;\n",
       "    }\n",
       "\n",
       "    .dataframe tbody tr th {\n",
       "        vertical-align: top;\n",
       "    }\n",
       "\n",
       "    .dataframe thead th {\n",
       "        text-align: right;\n",
       "    }\n",
       "</style>\n",
       "<table border=\"1\" class=\"dataframe\">\n",
       "  <thead>\n",
       "    <tr style=\"text-align: right;\">\n",
       "      <th></th>\n",
       "      <th>Unnamed: 0</th>\n",
       "      <th>track_id</th>\n",
       "      <th>artists</th>\n",
       "      <th>album_name</th>\n",
       "      <th>track_name</th>\n",
       "      <th>popularity</th>\n",
       "      <th>duration_ms</th>\n",
       "      <th>explicit</th>\n",
       "      <th>danceability</th>\n",
       "      <th>energy</th>\n",
       "      <th>...</th>\n",
       "      <th>loudness</th>\n",
       "      <th>mode</th>\n",
       "      <th>speechiness</th>\n",
       "      <th>acousticness</th>\n",
       "      <th>instrumentalness</th>\n",
       "      <th>liveness</th>\n",
       "      <th>valence</th>\n",
       "      <th>tempo</th>\n",
       "      <th>time_signature</th>\n",
       "      <th>track_genre</th>\n",
       "    </tr>\n",
       "  </thead>\n",
       "  <tbody>\n",
       "    <tr>\n",
       "      <th>0</th>\n",
       "      <td>0.0</td>\n",
       "      <td>5SuOikwiRyPMVoIQDJUgSV</td>\n",
       "      <td>Gen Hoshino</td>\n",
       "      <td>Comedy</td>\n",
       "      <td>Comedy</td>\n",
       "      <td>73.0</td>\n",
       "      <td>230666.0</td>\n",
       "      <td>False</td>\n",
       "      <td>0.676</td>\n",
       "      <td>0.461</td>\n",
       "      <td>...</td>\n",
       "      <td>-6.746</td>\n",
       "      <td>NaN</td>\n",
       "      <td>0.1430</td>\n",
       "      <td>0.0322</td>\n",
       "      <td>0.000001</td>\n",
       "      <td>0.358</td>\n",
       "      <td>0.715</td>\n",
       "      <td>87.917</td>\n",
       "      <td>4.0</td>\n",
       "      <td>acoustic</td>\n",
       "    </tr>\n",
       "    <tr>\n",
       "      <th>1</th>\n",
       "      <td>1.0</td>\n",
       "      <td>4qPNDBW1i3p13qLCt0Ki3A</td>\n",
       "      <td>Ben Woodward</td>\n",
       "      <td>Ghost (Acoustic)</td>\n",
       "      <td>Ghost - Acoustic</td>\n",
       "      <td>55.0</td>\n",
       "      <td>149610.0</td>\n",
       "      <td>False</td>\n",
       "      <td>0.420</td>\n",
       "      <td>0.166</td>\n",
       "      <td>...</td>\n",
       "      <td>-17.235</td>\n",
       "      <td>1.0</td>\n",
       "      <td>0.0763</td>\n",
       "      <td>0.9240</td>\n",
       "      <td>0.000006</td>\n",
       "      <td>0.101</td>\n",
       "      <td>0.267</td>\n",
       "      <td>77.489</td>\n",
       "      <td>4.0</td>\n",
       "      <td>acoustic</td>\n",
       "    </tr>\n",
       "    <tr>\n",
       "      <th>2</th>\n",
       "      <td>2.0</td>\n",
       "      <td>1iJBSr7s7jYXzM8EGcbK5b</td>\n",
       "      <td>Ingrid Michaelson;ZAYN</td>\n",
       "      <td>To Begin Again</td>\n",
       "      <td>To Begin Again</td>\n",
       "      <td>57.0</td>\n",
       "      <td>210826.0</td>\n",
       "      <td>False</td>\n",
       "      <td>0.438</td>\n",
       "      <td>0.359</td>\n",
       "      <td>...</td>\n",
       "      <td>-9.734</td>\n",
       "      <td>1.0</td>\n",
       "      <td>0.0557</td>\n",
       "      <td>0.2100</td>\n",
       "      <td>0.000000</td>\n",
       "      <td>0.117</td>\n",
       "      <td>0.120</td>\n",
       "      <td>76.332</td>\n",
       "      <td>4.0</td>\n",
       "      <td>acoustic</td>\n",
       "    </tr>\n",
       "  </tbody>\n",
       "</table>\n",
       "<p>3 rows × 21 columns</p>\n",
       "</div>"
      ],
      "text/plain": [
       "   Unnamed: 0                track_id                 artists  \\\n",
       "0         0.0  5SuOikwiRyPMVoIQDJUgSV             Gen Hoshino   \n",
       "1         1.0  4qPNDBW1i3p13qLCt0Ki3A            Ben Woodward   \n",
       "2         2.0  1iJBSr7s7jYXzM8EGcbK5b  Ingrid Michaelson;ZAYN   \n",
       "\n",
       "         album_name        track_name  popularity  duration_ms explicit  \\\n",
       "0            Comedy            Comedy        73.0     230666.0    False   \n",
       "1  Ghost (Acoustic)  Ghost - Acoustic        55.0     149610.0    False   \n",
       "2    To Begin Again    To Begin Again        57.0     210826.0    False   \n",
       "\n",
       "   danceability  energy  ...  loudness  mode  speechiness  acousticness  \\\n",
       "0         0.676   0.461  ...    -6.746   NaN       0.1430        0.0322   \n",
       "1         0.420   0.166  ...   -17.235   1.0       0.0763        0.9240   \n",
       "2         0.438   0.359  ...    -9.734   1.0       0.0557        0.2100   \n",
       "\n",
       "   instrumentalness  liveness  valence   tempo  time_signature  track_genre  \n",
       "0          0.000001     0.358    0.715  87.917             4.0     acoustic  \n",
       "1          0.000006     0.101    0.267  77.489             4.0     acoustic  \n",
       "2          0.000000     0.117    0.120  76.332             4.0     acoustic  \n",
       "\n",
       "[3 rows x 21 columns]"
      ]
     },
     "execution_count": 4,
     "metadata": {},
     "output_type": "execute_result"
    }
   ],
   "source": [
    "#Veri setinin ilk 3 gözlemini görelim.\n",
    "df.head(n = 3)\n",
    "\n",
    "#sondan 3 gözlem için tail() metodu kullanılabilir\n",
    "#d.tail(3)"
   ]
  },
  {
   "cell_type": "markdown",
   "id": "3923f869",
   "metadata": {
    "papermill": {
     "duration": 0.012167,
     "end_time": "2024-11-23T08:26:21.636593",
     "exception": false,
     "start_time": "2024-11-23T08:26:21.624426",
     "status": "completed"
    },
    "tags": []
   },
   "source": [
    "Veri setindeki satır ve sütun sayılarını .shape kullanarak görebiliriz"
   ]
  },
  {
   "cell_type": "code",
   "execution_count": 5,
   "id": "cd23d7a0",
   "metadata": {
    "execution": {
     "iopub.execute_input": "2024-11-23T08:26:21.663212Z",
     "iopub.status.busy": "2024-11-23T08:26:21.662822Z",
     "iopub.status.idle": "2024-11-23T08:26:21.668947Z",
     "shell.execute_reply": "2024-11-23T08:26:21.668032Z"
    },
    "papermill": {
     "duration": 0.021916,
     "end_time": "2024-11-23T08:26:21.671200",
     "exception": false,
     "start_time": "2024-11-23T08:26:21.649284",
     "status": "completed"
    },
    "tags": []
   },
   "outputs": [
    {
     "data": {
      "text/plain": [
       "(114000, 21)"
      ]
     },
     "execution_count": 5,
     "metadata": {},
     "output_type": "execute_result"
    }
   ],
   "source": [
    "df.shape #-> (satır,sütun)"
   ]
  },
  {
   "cell_type": "markdown",
   "id": "1f9eec7e",
   "metadata": {
    "papermill": {
     "duration": 0.012472,
     "end_time": "2024-11-23T08:26:21.697442",
     "exception": false,
     "start_time": "2024-11-23T08:26:21.684970",
     "status": "completed"
    },
    "tags": []
   },
   "source": [
    "Veri setindeki değişkenlerin isimlerine ulaşmak istersek df.columns kullanabiliriz"
   ]
  },
  {
   "cell_type": "code",
   "execution_count": 6,
   "id": "9ce8a5f8",
   "metadata": {
    "execution": {
     "iopub.execute_input": "2024-11-23T08:26:21.724252Z",
     "iopub.status.busy": "2024-11-23T08:26:21.723874Z",
     "iopub.status.idle": "2024-11-23T08:26:21.729546Z",
     "shell.execute_reply": "2024-11-23T08:26:21.728543Z"
    },
    "papermill": {
     "duration": 0.021778,
     "end_time": "2024-11-23T08:26:21.731942",
     "exception": false,
     "start_time": "2024-11-23T08:26:21.710164",
     "status": "completed"
    },
    "tags": []
   },
   "outputs": [
    {
     "name": "stdout",
     "output_type": "stream",
     "text": [
      "['Unnamed: 0', 'track_id', 'artists', 'album_name', 'track_name', 'popularity', 'duration_ms', 'explicit', 'danceability', 'energy', 'key', 'loudness', 'mode', 'speechiness', 'acousticness', 'instrumentalness', 'liveness', 'valence', 'tempo', 'time_signature', 'track_genre'] \n",
      "\n",
      "Veri seti içerisinde toplam 21 kolon vardır.\n",
      "\n",
      "df.columns'un döndüğü veri tipi: <class 'pandas.core.indexes.base.Index'>\n",
      "\n"
     ]
    }
   ],
   "source": [
    "#veri setindeki kolonları yazdırır\n",
    "print(list(df.columns),'\\n')\n",
    "\n",
    "#len() fonksiyonuyla toplam kolon sayısına ulaşıyoruz\n",
    "print(f\"Veri seti içerisinde toplam {len(df.columns)} kolon vardır.\\n\")\n",
    "\n",
    "#columns hangi veri tipi döndürdüğüne bakmak için :\n",
    "print(f\"df.columns'un döndüğü veri tipi: {type(df.columns)}\\n\")"
   ]
  },
  {
   "cell_type": "markdown",
   "id": "1a8e84fc",
   "metadata": {
    "papermill": {
     "duration": 0.012499,
     "end_time": "2024-11-23T08:26:21.757257",
     "exception": false,
     "start_time": "2024-11-23T08:26:21.744758",
     "status": "completed"
    },
    "tags": []
   },
   "source": [
    "info() metodu kullanarak, veri setine ait yapısal bilgilere ulaşabiliriz.\n",
    "Bu noktada elimizdeki kolonların veri tiplerinin doğru olup olmadığını, kayıt sayılarını , kolon isimlerini mutlaka kontrol etmeliyiz."
   ]
  },
  {
   "cell_type": "code",
   "execution_count": 7,
   "id": "14aea208",
   "metadata": {
    "execution": {
     "iopub.execute_input": "2024-11-23T08:26:21.784757Z",
     "iopub.status.busy": "2024-11-23T08:26:21.783864Z",
     "iopub.status.idle": "2024-11-23T08:26:21.845099Z",
     "shell.execute_reply": "2024-11-23T08:26:21.843948Z"
    },
    "papermill": {
     "duration": 0.077522,
     "end_time": "2024-11-23T08:26:21.847391",
     "exception": false,
     "start_time": "2024-11-23T08:26:21.769869",
     "status": "completed"
    },
    "tags": []
   },
   "outputs": [
    {
     "name": "stdout",
     "output_type": "stream",
     "text": [
      "<class 'pandas.core.frame.DataFrame'>\n",
      "RangeIndex: 114000 entries, 0 to 113999\n",
      "Data columns (total 21 columns):\n",
      " #   Column            Non-Null Count   Dtype  \n",
      "---  ------            --------------   -----  \n",
      " 0   Unnamed: 0        110642 non-null  float64\n",
      " 1   track_id          110674 non-null  object \n",
      " 2   artists           110656 non-null  object \n",
      " 3   album_name        110599 non-null  object \n",
      " 4   track_name        110614 non-null  object \n",
      " 5   popularity        110734 non-null  float64\n",
      " 6   duration_ms       110726 non-null  float64\n",
      " 7   explicit          110643 non-null  object \n",
      " 8   danceability      110659 non-null  float64\n",
      " 9   energy            110626 non-null  float64\n",
      " 10  key               110640 non-null  float64\n",
      " 11  loudness          110648 non-null  float64\n",
      " 12  mode              110549 non-null  float64\n",
      " 13  speechiness       110631 non-null  float64\n",
      " 14  acousticness      110597 non-null  float64\n",
      " 15  instrumentalness  110584 non-null  float64\n",
      " 16  liveness          110610 non-null  float64\n",
      " 17  valence           110594 non-null  float64\n",
      " 18  tempo             110582 non-null  float64\n",
      " 19  time_signature    110679 non-null  float64\n",
      " 20  track_genre       110552 non-null  object \n",
      "dtypes: float64(15), object(6)\n",
      "memory usage: 18.3+ MB\n"
     ]
    }
   ],
   "source": [
    "df.info()  #non-null:eksik olmayan değer"
   ]
  },
  {
   "cell_type": "markdown",
   "id": "3898433f",
   "metadata": {
    "papermill": {
     "duration": 0.012509,
     "end_time": "2024-11-23T08:26:21.872971",
     "exception": false,
     "start_time": "2024-11-23T08:26:21.860462",
     "status": "completed"
    },
    "tags": []
   },
   "source": [
    "Sadece elimizdeki değişkenleri görmek ve tiplerini görüntülemek istersek, dtypes kullanabiliriz."
   ]
  },
  {
   "cell_type": "code",
   "execution_count": 8,
   "id": "896e07e3",
   "metadata": {
    "execution": {
     "iopub.execute_input": "2024-11-23T08:26:21.901103Z",
     "iopub.status.busy": "2024-11-23T08:26:21.900182Z",
     "iopub.status.idle": "2024-11-23T08:26:21.907860Z",
     "shell.execute_reply": "2024-11-23T08:26:21.906930Z"
    },
    "papermill": {
     "duration": 0.024147,
     "end_time": "2024-11-23T08:26:21.910188",
     "exception": false,
     "start_time": "2024-11-23T08:26:21.886041",
     "status": "completed"
    },
    "tags": []
   },
   "outputs": [
    {
     "data": {
      "text/plain": [
       "Unnamed: 0          float64\n",
       "track_id             object\n",
       "artists              object\n",
       "album_name           object\n",
       "track_name           object\n",
       "popularity          float64\n",
       "duration_ms         float64\n",
       "explicit             object\n",
       "danceability        float64\n",
       "energy              float64\n",
       "key                 float64\n",
       "loudness            float64\n",
       "mode                float64\n",
       "speechiness         float64\n",
       "acousticness        float64\n",
       "instrumentalness    float64\n",
       "liveness            float64\n",
       "valence             float64\n",
       "tempo               float64\n",
       "time_signature      float64\n",
       "track_genre          object\n",
       "dtype: object"
      ]
     },
     "execution_count": 8,
     "metadata": {},
     "output_type": "execute_result"
    }
   ],
   "source": [
    "df.dtypes"
   ]
  },
  {
   "cell_type": "markdown",
   "id": "963cb331",
   "metadata": {
    "papermill": {
     "duration": 0.012871,
     "end_time": "2024-11-23T08:26:21.936480",
     "exception": false,
     "start_time": "2024-11-23T08:26:21.923609",
     "status": "completed"
    },
    "tags": []
   },
   "source": [
    "Elimizdeki veri setinde kategorik ve numerik özellikler birlikte bulunmakta. Bu özellikleri ayırmak ve farklı değişken listelerinde kullanmak bizim için faydaalı olabilir, özellikle kolon bazlı işler yapmak istersek bu listeleri bir filtre olarak kullanabiliriz.\n",
    "UYARI: Veri setinin ham halinde, kolonların veri tipleri her zaman olması gerektiği haliyle olmayabilir. Kategorik ve numerik kolonları ayırırken öncelikle her değişkenin doğru veri tipinde olduğunden emin ol."
   ]
  },
  {
   "cell_type": "code",
   "execution_count": 9,
   "id": "33071c4c",
   "metadata": {
    "execution": {
     "iopub.execute_input": "2024-11-23T08:26:21.965418Z",
     "iopub.status.busy": "2024-11-23T08:26:21.964305Z",
     "iopub.status.idle": "2024-11-23T08:26:21.970521Z",
     "shell.execute_reply": "2024-11-23T08:26:21.969375Z"
    },
    "papermill": {
     "duration": 0.022658,
     "end_time": "2024-11-23T08:26:21.972684",
     "exception": false,
     "start_time": "2024-11-23T08:26:21.950026",
     "status": "completed"
    },
    "tags": []
   },
   "outputs": [],
   "source": [
    "categorical_features = []\n",
    "numerical_features = []\n",
    "\n",
    "for col in df.columns:\n",
    "    if (df[col].dtype == \"object\") or (df[col].dtype == \"categorical\"):\n",
    "        categorical_features.append(col)\n",
    "    else:\n",
    "        numerical_features.append(col)\n",
    "\n",
    "#yukarıdakı listeleri list comprehenion kullanarak yap"
   ]
  },
  {
   "cell_type": "code",
   "execution_count": 10,
   "id": "324fcc53",
   "metadata": {
    "execution": {
     "iopub.execute_input": "2024-11-23T08:26:22.001682Z",
     "iopub.status.busy": "2024-11-23T08:26:22.000758Z",
     "iopub.status.idle": "2024-11-23T08:26:22.007119Z",
     "shell.execute_reply": "2024-11-23T08:26:22.006079Z"
    },
    "papermill": {
     "duration": 0.023236,
     "end_time": "2024-11-23T08:26:22.009115",
     "exception": false,
     "start_time": "2024-11-23T08:26:21.985879",
     "status": "completed"
    },
    "tags": []
   },
   "outputs": [
    {
     "data": {
      "text/plain": [
       "(['track_id',\n",
       "  'artists',\n",
       "  'album_name',\n",
       "  'track_name',\n",
       "  'explicit',\n",
       "  'track_genre'],\n",
       " ['Unnamed: 0',\n",
       "  'popularity',\n",
       "  'duration_ms',\n",
       "  'danceability',\n",
       "  'energy',\n",
       "  'key',\n",
       "  'loudness',\n",
       "  'mode',\n",
       "  'speechiness',\n",
       "  'acousticness',\n",
       "  'instrumentalness',\n",
       "  'liveness',\n",
       "  'valence',\n",
       "  'tempo',\n",
       "  'time_signature'])"
      ]
     },
     "execution_count": 10,
     "metadata": {},
     "output_type": "execute_result"
    }
   ],
   "source": [
    "categorical_features, numerical_features"
   ]
  },
  {
   "cell_type": "markdown",
   "id": "e8c5a5a4",
   "metadata": {
    "papermill": {
     "duration": 0.012855,
     "end_time": "2024-11-23T08:26:22.034943",
     "exception": false,
     "start_time": "2024-11-23T08:26:22.022088",
     "status": "completed"
    },
    "tags": []
   },
   "source": [
    "Örneğin veri tipi Object olan kategorik değişkenlerin veri tipini Categorical olarak değiştirmek istersek, basitçe kolon isimleriüzerinde bir döngü kurarak filtreleme yapabiliriz.\n",
    "Döngü içerisinde, mevcut kolon ismi categorical_featuresiçerisinde bulunuyorsa, o zaman o kolonun tipini Categorical olarak değiştirelim, bulunmuyorsabir işlem yapmayalım."
   ]
  },
  {
   "cell_type": "code",
   "execution_count": 11,
   "id": "4d4e3f82",
   "metadata": {
    "execution": {
     "iopub.execute_input": "2024-11-23T08:26:22.062681Z",
     "iopub.status.busy": "2024-11-23T08:26:22.062313Z",
     "iopub.status.idle": "2024-11-23T08:26:22.506759Z",
     "shell.execute_reply": "2024-11-23T08:26:22.505628Z"
    },
    "papermill": {
     "duration": 0.461091,
     "end_time": "2024-11-23T08:26:22.509234",
     "exception": false,
     "start_time": "2024-11-23T08:26:22.048143",
     "status": "completed"
    },
    "tags": []
   },
   "outputs": [],
   "source": [
    "for col in df.columns:\n",
    "    if col in categorical_features:\n",
    "        \n",
    "        df[col] = pd.Categorical(df[col])"
   ]
  },
  {
   "cell_type": "code",
   "execution_count": 12,
   "id": "a54f6203",
   "metadata": {
    "execution": {
     "iopub.execute_input": "2024-11-23T08:26:22.538191Z",
     "iopub.status.busy": "2024-11-23T08:26:22.537777Z",
     "iopub.status.idle": "2024-11-23T08:26:22.683029Z",
     "shell.execute_reply": "2024-11-23T08:26:22.681855Z"
    },
    "papermill": {
     "duration": 0.16201,
     "end_time": "2024-11-23T08:26:22.685176",
     "exception": false,
     "start_time": "2024-11-23T08:26:22.523166",
     "status": "completed"
    },
    "tags": []
   },
   "outputs": [
    {
     "name": "stdout",
     "output_type": "stream",
     "text": [
      "<class 'pandas.core.frame.DataFrame'>\n",
      "RangeIndex: 114000 entries, 0 to 113999\n",
      "Data columns (total 21 columns):\n",
      " #   Column            Non-Null Count   Dtype   \n",
      "---  ------            --------------   -----   \n",
      " 0   Unnamed: 0        110642 non-null  float64 \n",
      " 1   track_id          110674 non-null  category\n",
      " 2   artists           110656 non-null  category\n",
      " 3   album_name        110599 non-null  category\n",
      " 4   track_name        110614 non-null  category\n",
      " 5   popularity        110734 non-null  float64 \n",
      " 6   duration_ms       110726 non-null  float64 \n",
      " 7   explicit          110643 non-null  category\n",
      " 8   danceability      110659 non-null  float64 \n",
      " 9   energy            110626 non-null  float64 \n",
      " 10  key               110640 non-null  float64 \n",
      " 11  loudness          110648 non-null  float64 \n",
      " 12  mode              110549 non-null  float64 \n",
      " 13  speechiness       110631 non-null  float64 \n",
      " 14  acousticness      110597 non-null  float64 \n",
      " 15  instrumentalness  110584 non-null  float64 \n",
      " 16  liveness          110610 non-null  float64 \n",
      " 17  valence           110594 non-null  float64 \n",
      " 18  tempo             110582 non-null  float64 \n",
      " 19  time_signature    110679 non-null  float64 \n",
      " 20  track_genre       110552 non-null  category\n",
      "dtypes: category(6), float64(15)\n",
      "memory usage: 22.6 MB\n"
     ]
    }
   ],
   "source": [
    "df.info()"
   ]
  },
  {
   "cell_type": "code",
   "execution_count": 13,
   "id": "20642ce8",
   "metadata": {
    "execution": {
     "iopub.execute_input": "2024-11-23T08:26:22.713025Z",
     "iopub.status.busy": "2024-11-23T08:26:22.712634Z",
     "iopub.status.idle": "2024-11-23T08:26:22.721123Z",
     "shell.execute_reply": "2024-11-23T08:26:22.720097Z"
    },
    "papermill": {
     "duration": 0.024731,
     "end_time": "2024-11-23T08:26:22.723056",
     "exception": false,
     "start_time": "2024-11-23T08:26:22.698325",
     "status": "completed"
    },
    "tags": []
   },
   "outputs": [
    {
     "data": {
      "text/plain": [
       "0    acoustic\n",
       "1    acoustic\n",
       "2    acoustic\n",
       "Name: track_genre, dtype: category\n",
       "Categories (114, object): ['acoustic', 'afrobeat', 'alt-rock', 'alternative', ..., 'trance', 'trip-hop', 'turkish', 'world-music']"
      ]
     },
     "execution_count": 13,
     "metadata": {},
     "output_type": "execute_result"
    }
   ],
   "source": [
    "df['track_genre'][:3]"
   ]
  },
  {
   "cell_type": "code",
   "execution_count": 14,
   "id": "a95d96c9",
   "metadata": {
    "execution": {
     "iopub.execute_input": "2024-11-23T08:26:22.752167Z",
     "iopub.status.busy": "2024-11-23T08:26:22.751757Z",
     "iopub.status.idle": "2024-11-23T08:26:22.889832Z",
     "shell.execute_reply": "2024-11-23T08:26:22.888844Z"
    },
    "papermill": {
     "duration": 0.155781,
     "end_time": "2024-11-23T08:26:22.892186",
     "exception": false,
     "start_time": "2024-11-23T08:26:22.736405",
     "status": "completed"
    },
    "tags": []
   },
   "outputs": [
    {
     "data": {
      "text/html": [
       "<div>\n",
       "<style scoped>\n",
       "    .dataframe tbody tr th:only-of-type {\n",
       "        vertical-align: middle;\n",
       "    }\n",
       "\n",
       "    .dataframe tbody tr th {\n",
       "        vertical-align: top;\n",
       "    }\n",
       "\n",
       "    .dataframe thead th {\n",
       "        text-align: right;\n",
       "    }\n",
       "</style>\n",
       "<table border=\"1\" class=\"dataframe\">\n",
       "  <thead>\n",
       "    <tr style=\"text-align: right;\">\n",
       "      <th></th>\n",
       "      <th>count</th>\n",
       "      <th>mean</th>\n",
       "      <th>std</th>\n",
       "      <th>min</th>\n",
       "      <th>25%</th>\n",
       "      <th>50%</th>\n",
       "      <th>75%</th>\n",
       "      <th>max</th>\n",
       "    </tr>\n",
       "  </thead>\n",
       "  <tbody>\n",
       "    <tr>\n",
       "      <th>Unnamed: 0</th>\n",
       "      <td>110642.0</td>\n",
       "      <td>57011.701976</td>\n",
       "      <td>32912.912897</td>\n",
       "      <td>0.000</td>\n",
       "      <td>28501.2500</td>\n",
       "      <td>57014.500000</td>\n",
       "      <td>85520.7500</td>\n",
       "      <td>113999.000</td>\n",
       "    </tr>\n",
       "    <tr>\n",
       "      <th>popularity</th>\n",
       "      <td>110734.0</td>\n",
       "      <td>33.234472</td>\n",
       "      <td>22.307304</td>\n",
       "      <td>0.000</td>\n",
       "      <td>17.0000</td>\n",
       "      <td>35.000000</td>\n",
       "      <td>50.0000</td>\n",
       "      <td>100.000</td>\n",
       "    </tr>\n",
       "    <tr>\n",
       "      <th>duration_ms</th>\n",
       "      <td>110726.0</td>\n",
       "      <td>227964.627540</td>\n",
       "      <td>107001.540874</td>\n",
       "      <td>0.000</td>\n",
       "      <td>174066.0000</td>\n",
       "      <td>212909.000000</td>\n",
       "      <td>261519.0000</td>\n",
       "      <td>5237295.000</td>\n",
       "    </tr>\n",
       "    <tr>\n",
       "      <th>danceability</th>\n",
       "      <td>110659.0</td>\n",
       "      <td>0.566812</td>\n",
       "      <td>0.173618</td>\n",
       "      <td>0.000</td>\n",
       "      <td>0.4560</td>\n",
       "      <td>0.580000</td>\n",
       "      <td>0.6950</td>\n",
       "      <td>0.985</td>\n",
       "    </tr>\n",
       "    <tr>\n",
       "      <th>energy</th>\n",
       "      <td>110626.0</td>\n",
       "      <td>0.641429</td>\n",
       "      <td>0.251481</td>\n",
       "      <td>0.000</td>\n",
       "      <td>0.4720</td>\n",
       "      <td>0.685000</td>\n",
       "      <td>0.8540</td>\n",
       "      <td>1.000</td>\n",
       "    </tr>\n",
       "    <tr>\n",
       "      <th>key</th>\n",
       "      <td>110640.0</td>\n",
       "      <td>5.309716</td>\n",
       "      <td>3.559819</td>\n",
       "      <td>0.000</td>\n",
       "      <td>2.0000</td>\n",
       "      <td>5.000000</td>\n",
       "      <td>8.0000</td>\n",
       "      <td>11.000</td>\n",
       "    </tr>\n",
       "    <tr>\n",
       "      <th>loudness</th>\n",
       "      <td>110648.0</td>\n",
       "      <td>-8.259733</td>\n",
       "      <td>5.034470</td>\n",
       "      <td>-49.531</td>\n",
       "      <td>-10.0120</td>\n",
       "      <td>-7.004000</td>\n",
       "      <td>-5.0000</td>\n",
       "      <td>4.532</td>\n",
       "    </tr>\n",
       "    <tr>\n",
       "      <th>mode</th>\n",
       "      <td>110549.0</td>\n",
       "      <td>0.637618</td>\n",
       "      <td>0.480691</td>\n",
       "      <td>0.000</td>\n",
       "      <td>0.0000</td>\n",
       "      <td>1.000000</td>\n",
       "      <td>1.0000</td>\n",
       "      <td>1.000</td>\n",
       "    </tr>\n",
       "    <tr>\n",
       "      <th>speechiness</th>\n",
       "      <td>110631.0</td>\n",
       "      <td>0.084545</td>\n",
       "      <td>0.105461</td>\n",
       "      <td>0.000</td>\n",
       "      <td>0.0359</td>\n",
       "      <td>0.048900</td>\n",
       "      <td>0.0845</td>\n",
       "      <td>0.965</td>\n",
       "    </tr>\n",
       "    <tr>\n",
       "      <th>acousticness</th>\n",
       "      <td>110597.0</td>\n",
       "      <td>0.314974</td>\n",
       "      <td>0.332527</td>\n",
       "      <td>0.000</td>\n",
       "      <td>0.0169</td>\n",
       "      <td>0.169000</td>\n",
       "      <td>0.5980</td>\n",
       "      <td>0.996</td>\n",
       "    </tr>\n",
       "    <tr>\n",
       "      <th>instrumentalness</th>\n",
       "      <td>110584.0</td>\n",
       "      <td>0.156025</td>\n",
       "      <td>0.309550</td>\n",
       "      <td>0.000</td>\n",
       "      <td>0.0000</td>\n",
       "      <td>0.000042</td>\n",
       "      <td>0.0489</td>\n",
       "      <td>1.000</td>\n",
       "    </tr>\n",
       "    <tr>\n",
       "      <th>liveness</th>\n",
       "      <td>110610.0</td>\n",
       "      <td>0.213393</td>\n",
       "      <td>0.190249</td>\n",
       "      <td>0.000</td>\n",
       "      <td>0.0980</td>\n",
       "      <td>0.132000</td>\n",
       "      <td>0.2730</td>\n",
       "      <td>1.000</td>\n",
       "    </tr>\n",
       "    <tr>\n",
       "      <th>valence</th>\n",
       "      <td>110594.0</td>\n",
       "      <td>0.474130</td>\n",
       "      <td>0.259244</td>\n",
       "      <td>0.000</td>\n",
       "      <td>0.2590</td>\n",
       "      <td>0.464000</td>\n",
       "      <td>0.6830</td>\n",
       "      <td>0.995</td>\n",
       "    </tr>\n",
       "    <tr>\n",
       "      <th>tempo</th>\n",
       "      <td>110582.0</td>\n",
       "      <td>122.157132</td>\n",
       "      <td>29.970544</td>\n",
       "      <td>0.000</td>\n",
       "      <td>99.2130</td>\n",
       "      <td>122.020000</td>\n",
       "      <td>140.0730</td>\n",
       "      <td>243.372</td>\n",
       "    </tr>\n",
       "    <tr>\n",
       "      <th>time_signature</th>\n",
       "      <td>110679.0</td>\n",
       "      <td>3.903966</td>\n",
       "      <td>0.432617</td>\n",
       "      <td>0.000</td>\n",
       "      <td>4.0000</td>\n",
       "      <td>4.000000</td>\n",
       "      <td>4.0000</td>\n",
       "      <td>5.000</td>\n",
       "    </tr>\n",
       "  </tbody>\n",
       "</table>\n",
       "</div>"
      ],
      "text/plain": [
       "                     count           mean            std     min          25%  \\\n",
       "Unnamed: 0        110642.0   57011.701976   32912.912897   0.000   28501.2500   \n",
       "popularity        110734.0      33.234472      22.307304   0.000      17.0000   \n",
       "duration_ms       110726.0  227964.627540  107001.540874   0.000  174066.0000   \n",
       "danceability      110659.0       0.566812       0.173618   0.000       0.4560   \n",
       "energy            110626.0       0.641429       0.251481   0.000       0.4720   \n",
       "key               110640.0       5.309716       3.559819   0.000       2.0000   \n",
       "loudness          110648.0      -8.259733       5.034470 -49.531     -10.0120   \n",
       "mode              110549.0       0.637618       0.480691   0.000       0.0000   \n",
       "speechiness       110631.0       0.084545       0.105461   0.000       0.0359   \n",
       "acousticness      110597.0       0.314974       0.332527   0.000       0.0169   \n",
       "instrumentalness  110584.0       0.156025       0.309550   0.000       0.0000   \n",
       "liveness          110610.0       0.213393       0.190249   0.000       0.0980   \n",
       "valence           110594.0       0.474130       0.259244   0.000       0.2590   \n",
       "tempo             110582.0     122.157132      29.970544   0.000      99.2130   \n",
       "time_signature    110679.0       3.903966       0.432617   0.000       4.0000   \n",
       "\n",
       "                            50%          75%          max  \n",
       "Unnamed: 0         57014.500000   85520.7500   113999.000  \n",
       "popularity            35.000000      50.0000      100.000  \n",
       "duration_ms       212909.000000  261519.0000  5237295.000  \n",
       "danceability           0.580000       0.6950        0.985  \n",
       "energy                 0.685000       0.8540        1.000  \n",
       "key                    5.000000       8.0000       11.000  \n",
       "loudness              -7.004000      -5.0000        4.532  \n",
       "mode                   1.000000       1.0000        1.000  \n",
       "speechiness            0.048900       0.0845        0.965  \n",
       "acousticness           0.169000       0.5980        0.996  \n",
       "instrumentalness       0.000042       0.0489        1.000  \n",
       "liveness               0.132000       0.2730        1.000  \n",
       "valence                0.464000       0.6830        0.995  \n",
       "tempo                122.020000     140.0730      243.372  \n",
       "time_signature         4.000000       4.0000        5.000  "
      ]
     },
     "execution_count": 14,
     "metadata": {},
     "output_type": "execute_result"
    }
   ],
   "source": [
    "df.describe().T #->.T eklentisi elde edeceğiniz çıktıyı transpoze eder\n",
    "#df.describe(include = \"all\")-> veri setindeki tüm değişkenleri dahil etmek için iclude parametresine \"all\" değerini verebiliriz."
   ]
  },
  {
   "cell_type": "markdown",
   "id": "d106e0c2",
   "metadata": {
    "papermill": {
     "duration": 0.013439,
     "end_time": "2024-11-23T08:26:22.919400",
     "exception": false,
     "start_time": "2024-11-23T08:26:22.905961",
     "status": "completed"
    },
    "tags": []
   },
   "source": [
    "2.EKSİK VERİ ANALİZİ\n",
    "\n",
    "Eksik veri analizi ile, veri stimizdeki eksik verileri tespit edip bu durumu uygun bir şekilde düzeltmeyi hedefleriz.\n",
    "Veri seti içinde eksik değerler bulunması yapısal bir bozukluğa işaret eder ve mutlaka uygun yöntemlerle ele alınmalıdır."
   ]
  },
  {
   "cell_type": "markdown",
   "id": "8ca915f3",
   "metadata": {
    "papermill": {
     "duration": 0.013366,
     "end_time": "2024-11-23T08:26:22.946428",
     "exception": false,
     "start_time": "2024-11-23T08:26:22.933062",
     "status": "completed"
    },
    "tags": []
   },
   "source": [
    "2.1 Eksik Verilerin Gözlemlenmesi"
   ]
  },
  {
   "cell_type": "code",
   "execution_count": 15,
   "id": "c8ea6382",
   "metadata": {
    "execution": {
     "iopub.execute_input": "2024-11-23T08:26:22.975199Z",
     "iopub.status.busy": "2024-11-23T08:26:22.974806Z",
     "iopub.status.idle": "2024-11-23T08:26:22.986380Z",
     "shell.execute_reply": "2024-11-23T08:26:22.985473Z"
    },
    "papermill": {
     "duration": 0.028329,
     "end_time": "2024-11-23T08:26:22.988391",
     "exception": false,
     "start_time": "2024-11-23T08:26:22.960062",
     "status": "completed"
    },
    "tags": []
   },
   "outputs": [
    {
     "data": {
      "text/plain": [
       "Unnamed: 0          3358\n",
       "track_id            3326\n",
       "artists             3344\n",
       "album_name          3401\n",
       "track_name          3386\n",
       "popularity          3266\n",
       "duration_ms         3274\n",
       "explicit            3357\n",
       "danceability        3341\n",
       "energy              3374\n",
       "key                 3360\n",
       "loudness            3352\n",
       "mode                3451\n",
       "speechiness         3369\n",
       "acousticness        3403\n",
       "instrumentalness    3416\n",
       "liveness            3390\n",
       "valence             3406\n",
       "tempo               3418\n",
       "time_signature      3321\n",
       "track_genre         3448\n",
       "dtype: int64"
      ]
     },
     "execution_count": 15,
     "metadata": {},
     "output_type": "execute_result"
    }
   ],
   "source": [
    "df.isna().sum() # -> isna() metodu yerine isnull() metodu da kullanılabilir.\n",
    "#ALIŞTIRMA: Her bir değişken için, o değişkendeki eksik değer sayısının toplam kayıt sayısının % kaçı old. bulunuz."
   ]
  },
  {
   "cell_type": "markdown",
   "id": "574baa7b",
   "metadata": {
    "papermill": {
     "duration": 0.013305,
     "end_time": "2024-11-23T08:26:23.015491",
     "exception": false,
     "start_time": "2024-11-23T08:26:23.002186",
     "status": "completed"
    },
    "tags": []
   },
   "source": [
    "Veri setindeki toplam eksik değer sayısını görmek için tekrar sum() fonksiyonu ekleyebiliriz."
   ]
  },
  {
   "cell_type": "code",
   "execution_count": 16,
   "id": "6b2bd409",
   "metadata": {
    "execution": {
     "iopub.execute_input": "2024-11-23T08:26:23.044945Z",
     "iopub.status.busy": "2024-11-23T08:26:23.044589Z",
     "iopub.status.idle": "2024-11-23T08:26:23.055834Z",
     "shell.execute_reply": "2024-11-23T08:26:23.054841Z"
    },
    "papermill": {
     "duration": 0.028716,
     "end_time": "2024-11-23T08:26:23.058240",
     "exception": false,
     "start_time": "2024-11-23T08:26:23.029524",
     "status": "completed"
    },
    "tags": []
   },
   "outputs": [
    {
     "data": {
      "text/plain": [
       "70761"
      ]
     },
     "execution_count": 16,
     "metadata": {},
     "output_type": "execute_result"
    }
   ],
   "source": [
    "df.isna().sum().sum()"
   ]
  },
  {
   "cell_type": "code",
   "execution_count": 17,
   "id": "deeea4f2",
   "metadata": {
    "execution": {
     "iopub.execute_input": "2024-11-23T08:26:23.087160Z",
     "iopub.status.busy": "2024-11-23T08:26:23.086763Z",
     "iopub.status.idle": "2024-11-23T08:26:23.099980Z",
     "shell.execute_reply": "2024-11-23T08:26:23.098950Z"
    },
    "papermill": {
     "duration": 0.030088,
     "end_time": "2024-11-23T08:26:23.102031",
     "exception": false,
     "start_time": "2024-11-23T08:26:23.071943",
     "status": "completed"
    },
    "tags": []
   },
   "outputs": [
    {
     "data": {
      "text/plain": [
       "Unnamed: 0          110642\n",
       "track_id            110674\n",
       "artists             110656\n",
       "album_name          110599\n",
       "track_name          110614\n",
       "popularity          110734\n",
       "duration_ms         110726\n",
       "explicit            110643\n",
       "danceability        110659\n",
       "energy              110626\n",
       "key                 110640\n",
       "loudness            110648\n",
       "mode                110549\n",
       "speechiness         110631\n",
       "acousticness        110597\n",
       "instrumentalness    110584\n",
       "liveness            110610\n",
       "valence             110594\n",
       "tempo               110582\n",
       "time_signature      110679\n",
       "track_genre         110552\n",
       "dtype: int64"
      ]
     },
     "execution_count": 17,
     "metadata": {},
     "output_type": "execute_result"
    }
   ],
   "source": [
    "#eksik olmayan değerlerin sayısı:\n",
    "df.notnull().sum()"
   ]
  },
  {
   "cell_type": "code",
   "execution_count": 18,
   "id": "4784bd30",
   "metadata": {
    "execution": {
     "iopub.execute_input": "2024-11-23T08:26:23.130945Z",
     "iopub.status.busy": "2024-11-23T08:26:23.130588Z",
     "iopub.status.idle": "2024-11-23T08:26:23.135167Z",
     "shell.execute_reply": "2024-11-23T08:26:23.133993Z"
    },
    "papermill": {
     "duration": 0.021785,
     "end_time": "2024-11-23T08:26:23.137393",
     "exception": false,
     "start_time": "2024-11-23T08:26:23.115608",
     "status": "completed"
    },
    "tags": []
   },
   "outputs": [],
   "source": [
    "##None ve NaN değerleri arasındaki fark nedir?\n",
    "##...."
   ]
  },
  {
   "cell_type": "code",
   "execution_count": 19,
   "id": "7cc104f1",
   "metadata": {
    "execution": {
     "iopub.execute_input": "2024-11-23T08:26:23.166994Z",
     "iopub.status.busy": "2024-11-23T08:26:23.166127Z",
     "iopub.status.idle": "2024-11-23T08:26:23.180661Z",
     "shell.execute_reply": "2024-11-23T08:26:23.179651Z"
    },
    "papermill": {
     "duration": 0.03146,
     "end_time": "2024-11-23T08:26:23.182678",
     "exception": false,
     "start_time": "2024-11-23T08:26:23.151218",
     "status": "completed"
    },
    "tags": []
   },
   "outputs": [
    {
     "name": "stdout",
     "output_type": "stream",
     "text": [
      "Veri seti içerisinde toplam 2323239 adet eksik olmayan , 70761 eksik gözlem var.\n"
     ]
    }
   ],
   "source": [
    "print(f\"Veri seti içerisinde toplam {df.notnull().sum().sum()} adet eksik olmayan , {df.isnull().sum().sum()} eksik gözlem var.\")"
   ]
  },
  {
   "cell_type": "code",
   "execution_count": 20,
   "id": "39805aba",
   "metadata": {
    "execution": {
     "iopub.execute_input": "2024-11-23T08:26:23.211916Z",
     "iopub.status.busy": "2024-11-23T08:26:23.211540Z",
     "iopub.status.idle": "2024-11-23T08:26:23.269955Z",
     "shell.execute_reply": "2024-11-23T08:26:23.268677Z"
    },
    "papermill": {
     "duration": 0.075622,
     "end_time": "2024-11-23T08:26:23.272147",
     "exception": false,
     "start_time": "2024-11-23T08:26:23.196525",
     "status": "completed"
    },
    "tags": []
   },
   "outputs": [
    {
     "data": {
      "text/html": [
       "<div>\n",
       "<style scoped>\n",
       "    .dataframe tbody tr th:only-of-type {\n",
       "        vertical-align: middle;\n",
       "    }\n",
       "\n",
       "    .dataframe tbody tr th {\n",
       "        vertical-align: top;\n",
       "    }\n",
       "\n",
       "    .dataframe thead th {\n",
       "        text-align: right;\n",
       "    }\n",
       "</style>\n",
       "<table border=\"1\" class=\"dataframe\">\n",
       "  <thead>\n",
       "    <tr style=\"text-align: right;\">\n",
       "      <th></th>\n",
       "      <th>Unnamed: 0</th>\n",
       "      <th>track_id</th>\n",
       "      <th>artists</th>\n",
       "      <th>album_name</th>\n",
       "      <th>track_name</th>\n",
       "      <th>popularity</th>\n",
       "      <th>duration_ms</th>\n",
       "      <th>explicit</th>\n",
       "      <th>danceability</th>\n",
       "      <th>energy</th>\n",
       "      <th>...</th>\n",
       "      <th>loudness</th>\n",
       "      <th>mode</th>\n",
       "      <th>speechiness</th>\n",
       "      <th>acousticness</th>\n",
       "      <th>instrumentalness</th>\n",
       "      <th>liveness</th>\n",
       "      <th>valence</th>\n",
       "      <th>tempo</th>\n",
       "      <th>time_signature</th>\n",
       "      <th>track_genre</th>\n",
       "    </tr>\n",
       "  </thead>\n",
       "  <tbody>\n",
       "    <tr>\n",
       "      <th>0</th>\n",
       "      <td>0.0</td>\n",
       "      <td>5SuOikwiRyPMVoIQDJUgSV</td>\n",
       "      <td>Gen Hoshino</td>\n",
       "      <td>Comedy</td>\n",
       "      <td>Comedy</td>\n",
       "      <td>73.0</td>\n",
       "      <td>230666.0</td>\n",
       "      <td>False</td>\n",
       "      <td>0.676</td>\n",
       "      <td>0.461</td>\n",
       "      <td>...</td>\n",
       "      <td>-6.746</td>\n",
       "      <td>NaN</td>\n",
       "      <td>0.1430</td>\n",
       "      <td>0.03220</td>\n",
       "      <td>0.000001</td>\n",
       "      <td>0.3580</td>\n",
       "      <td>0.7150</td>\n",
       "      <td>87.917</td>\n",
       "      <td>4.0</td>\n",
       "      <td>acoustic</td>\n",
       "    </tr>\n",
       "    <tr>\n",
       "      <th>4</th>\n",
       "      <td>4.0</td>\n",
       "      <td>5vjLSffimiIP26QG5WcN2K</td>\n",
       "      <td>Chord Overstreet</td>\n",
       "      <td>Hold On</td>\n",
       "      <td>NaN</td>\n",
       "      <td>82.0</td>\n",
       "      <td>198853.0</td>\n",
       "      <td>False</td>\n",
       "      <td>0.618</td>\n",
       "      <td>0.443</td>\n",
       "      <td>...</td>\n",
       "      <td>-9.681</td>\n",
       "      <td>1.0</td>\n",
       "      <td>0.0526</td>\n",
       "      <td>0.46900</td>\n",
       "      <td>0.000000</td>\n",
       "      <td>0.0829</td>\n",
       "      <td>0.1670</td>\n",
       "      <td>119.949</td>\n",
       "      <td>4.0</td>\n",
       "      <td>acoustic</td>\n",
       "    </tr>\n",
       "    <tr>\n",
       "      <th>6</th>\n",
       "      <td>NaN</td>\n",
       "      <td>6Vc5wAMmXdKIAM7WUoEb7N</td>\n",
       "      <td>A Great Big World;Christina Aguilera</td>\n",
       "      <td>Is There Anybody Out There?</td>\n",
       "      <td>Say Something</td>\n",
       "      <td>74.0</td>\n",
       "      <td>229400.0</td>\n",
       "      <td>False</td>\n",
       "      <td>0.407</td>\n",
       "      <td>0.147</td>\n",
       "      <td>...</td>\n",
       "      <td>-8.822</td>\n",
       "      <td>1.0</td>\n",
       "      <td>0.0355</td>\n",
       "      <td>0.85700</td>\n",
       "      <td>0.000003</td>\n",
       "      <td>0.0913</td>\n",
       "      <td>0.0765</td>\n",
       "      <td>141.284</td>\n",
       "      <td>3.0</td>\n",
       "      <td>NaN</td>\n",
       "    </tr>\n",
       "    <tr>\n",
       "      <th>7</th>\n",
       "      <td>7.0</td>\n",
       "      <td>1EzrEOXmMH3G43AXT1y7pA</td>\n",
       "      <td>Jason Mraz</td>\n",
       "      <td>We Sing. We Dance. We Steal Things.</td>\n",
       "      <td>I'm Yours</td>\n",
       "      <td>80.0</td>\n",
       "      <td>242946.0</td>\n",
       "      <td>False</td>\n",
       "      <td>0.703</td>\n",
       "      <td>0.444</td>\n",
       "      <td>...</td>\n",
       "      <td>NaN</td>\n",
       "      <td>1.0</td>\n",
       "      <td>0.0417</td>\n",
       "      <td>0.55900</td>\n",
       "      <td>0.000000</td>\n",
       "      <td>0.0973</td>\n",
       "      <td>0.7120</td>\n",
       "      <td>150.960</td>\n",
       "      <td>4.0</td>\n",
       "      <td>acoustic</td>\n",
       "    </tr>\n",
       "    <tr>\n",
       "      <th>9</th>\n",
       "      <td>9.0</td>\n",
       "      <td>7k9GuJYLp2AzqokyEdwEw2</td>\n",
       "      <td>Ross Copperman</td>\n",
       "      <td>Hunger</td>\n",
       "      <td>Hunger</td>\n",
       "      <td>56.0</td>\n",
       "      <td>205594.0</td>\n",
       "      <td>False</td>\n",
       "      <td>0.442</td>\n",
       "      <td>0.632</td>\n",
       "      <td>...</td>\n",
       "      <td>-6.770</td>\n",
       "      <td>1.0</td>\n",
       "      <td>0.0295</td>\n",
       "      <td>0.42600</td>\n",
       "      <td>0.004190</td>\n",
       "      <td>0.0735</td>\n",
       "      <td>0.1960</td>\n",
       "      <td>78.899</td>\n",
       "      <td>4.0</td>\n",
       "      <td>acoustic</td>\n",
       "    </tr>\n",
       "    <tr>\n",
       "      <th>...</th>\n",
       "      <td>...</td>\n",
       "      <td>...</td>\n",
       "      <td>...</td>\n",
       "      <td>...</td>\n",
       "      <td>...</td>\n",
       "      <td>...</td>\n",
       "      <td>...</td>\n",
       "      <td>...</td>\n",
       "      <td>...</td>\n",
       "      <td>...</td>\n",
       "      <td>...</td>\n",
       "      <td>...</td>\n",
       "      <td>...</td>\n",
       "      <td>...</td>\n",
       "      <td>...</td>\n",
       "      <td>...</td>\n",
       "      <td>...</td>\n",
       "      <td>...</td>\n",
       "      <td>...</td>\n",
       "      <td>...</td>\n",
       "      <td>...</td>\n",
       "    </tr>\n",
       "    <tr>\n",
       "      <th>113983</th>\n",
       "      <td>113983.0</td>\n",
       "      <td>6X6wIzuxsh7GVNMPz1xTNa</td>\n",
       "      <td>Hillsong Worship</td>\n",
       "      <td>No Other Name</td>\n",
       "      <td>Depths</td>\n",
       "      <td>37.0</td>\n",
       "      <td>377697.0</td>\n",
       "      <td>False</td>\n",
       "      <td>0.363</td>\n",
       "      <td>0.462</td>\n",
       "      <td>...</td>\n",
       "      <td>-8.232</td>\n",
       "      <td>1.0</td>\n",
       "      <td>NaN</td>\n",
       "      <td>0.00887</td>\n",
       "      <td>0.000009</td>\n",
       "      <td>0.7060</td>\n",
       "      <td>0.0687</td>\n",
       "      <td>80.003</td>\n",
       "      <td>4.0</td>\n",
       "      <td>world-music</td>\n",
       "    </tr>\n",
       "    <tr>\n",
       "      <th>113984</th>\n",
       "      <td>113984.0</td>\n",
       "      <td>0PjyOURxQ6wiHaBYXf53G2</td>\n",
       "      <td>Tenth Avenue North</td>\n",
       "      <td>The Light Meets The Dark</td>\n",
       "      <td>Healing Begins</td>\n",
       "      <td>44.0</td>\n",
       "      <td>NaN</td>\n",
       "      <td>False</td>\n",
       "      <td>0.541</td>\n",
       "      <td>0.583</td>\n",
       "      <td>...</td>\n",
       "      <td>-7.047</td>\n",
       "      <td>1.0</td>\n",
       "      <td>NaN</td>\n",
       "      <td>0.01420</td>\n",
       "      <td>0.000000</td>\n",
       "      <td>0.1020</td>\n",
       "      <td>0.2760</td>\n",
       "      <td>96.008</td>\n",
       "      <td>4.0</td>\n",
       "      <td>world-music</td>\n",
       "    </tr>\n",
       "    <tr>\n",
       "      <th>113992</th>\n",
       "      <td>113992.0</td>\n",
       "      <td>3FjOBB4EyIXHYUtSgrIdY9</td>\n",
       "      <td>Jesus Culture</td>\n",
       "      <td>Revelation Songs</td>\n",
       "      <td>NaN</td>\n",
       "      <td>38.0</td>\n",
       "      <td>312566.0</td>\n",
       "      <td>False</td>\n",
       "      <td>0.475</td>\n",
       "      <td>0.860</td>\n",
       "      <td>...</td>\n",
       "      <td>-4.722</td>\n",
       "      <td>1.0</td>\n",
       "      <td>0.0421</td>\n",
       "      <td>0.00650</td>\n",
       "      <td>0.000002</td>\n",
       "      <td>0.2460</td>\n",
       "      <td>0.4270</td>\n",
       "      <td>NaN</td>\n",
       "      <td>4.0</td>\n",
       "      <td>NaN</td>\n",
       "    </tr>\n",
       "    <tr>\n",
       "      <th>113996</th>\n",
       "      <td>113996.0</td>\n",
       "      <td>1hIz5L4IB9hN3WRYPOCGPw</td>\n",
       "      <td>Rainy Lullaby</td>\n",
       "      <td>#mindfulness - Soft Rain for Mindful Meditatio...</td>\n",
       "      <td>Water Into Light</td>\n",
       "      <td>22.0</td>\n",
       "      <td>385000.0</td>\n",
       "      <td>False</td>\n",
       "      <td>0.174</td>\n",
       "      <td>0.117</td>\n",
       "      <td>...</td>\n",
       "      <td>-18.318</td>\n",
       "      <td>0.0</td>\n",
       "      <td>NaN</td>\n",
       "      <td>0.99400</td>\n",
       "      <td>0.976000</td>\n",
       "      <td>0.1050</td>\n",
       "      <td>0.0350</td>\n",
       "      <td>85.239</td>\n",
       "      <td>4.0</td>\n",
       "      <td>world-music</td>\n",
       "    </tr>\n",
       "    <tr>\n",
       "      <th>113997</th>\n",
       "      <td>113997.0</td>\n",
       "      <td>6x8ZfSoqDjuNa5SVP5QjvX</td>\n",
       "      <td>Cesária Evora</td>\n",
       "      <td>Best Of</td>\n",
       "      <td>NaN</td>\n",
       "      <td>22.0</td>\n",
       "      <td>271466.0</td>\n",
       "      <td>False</td>\n",
       "      <td>0.629</td>\n",
       "      <td>0.329</td>\n",
       "      <td>...</td>\n",
       "      <td>-10.895</td>\n",
       "      <td>0.0</td>\n",
       "      <td>NaN</td>\n",
       "      <td>0.86700</td>\n",
       "      <td>0.000000</td>\n",
       "      <td>0.0839</td>\n",
       "      <td>0.7430</td>\n",
       "      <td>132.378</td>\n",
       "      <td>4.0</td>\n",
       "      <td>world-music</td>\n",
       "    </tr>\n",
       "  </tbody>\n",
       "</table>\n",
       "<p>53379 rows × 21 columns</p>\n",
       "</div>"
      ],
      "text/plain": [
       "        Unnamed: 0                track_id  \\\n",
       "0              0.0  5SuOikwiRyPMVoIQDJUgSV   \n",
       "4              4.0  5vjLSffimiIP26QG5WcN2K   \n",
       "6              NaN  6Vc5wAMmXdKIAM7WUoEb7N   \n",
       "7              7.0  1EzrEOXmMH3G43AXT1y7pA   \n",
       "9              9.0  7k9GuJYLp2AzqokyEdwEw2   \n",
       "...            ...                     ...   \n",
       "113983    113983.0  6X6wIzuxsh7GVNMPz1xTNa   \n",
       "113984    113984.0  0PjyOURxQ6wiHaBYXf53G2   \n",
       "113992    113992.0  3FjOBB4EyIXHYUtSgrIdY9   \n",
       "113996    113996.0  1hIz5L4IB9hN3WRYPOCGPw   \n",
       "113997    113997.0  6x8ZfSoqDjuNa5SVP5QjvX   \n",
       "\n",
       "                                     artists  \\\n",
       "0                                Gen Hoshino   \n",
       "4                           Chord Overstreet   \n",
       "6       A Great Big World;Christina Aguilera   \n",
       "7                                 Jason Mraz   \n",
       "9                             Ross Copperman   \n",
       "...                                      ...   \n",
       "113983                      Hillsong Worship   \n",
       "113984                    Tenth Avenue North   \n",
       "113992                         Jesus Culture   \n",
       "113996                         Rainy Lullaby   \n",
       "113997                         Cesária Evora   \n",
       "\n",
       "                                               album_name        track_name  \\\n",
       "0                                                  Comedy            Comedy   \n",
       "4                                                 Hold On               NaN   \n",
       "6                             Is There Anybody Out There?     Say Something   \n",
       "7                     We Sing. We Dance. We Steal Things.         I'm Yours   \n",
       "9                                                  Hunger            Hunger   \n",
       "...                                                   ...               ...   \n",
       "113983                                      No Other Name            Depths   \n",
       "113984                           The Light Meets The Dark    Healing Begins   \n",
       "113992                                   Revelation Songs               NaN   \n",
       "113996  #mindfulness - Soft Rain for Mindful Meditatio...  Water Into Light   \n",
       "113997                                            Best Of               NaN   \n",
       "\n",
       "        popularity  duration_ms explicit  danceability  energy  ...  loudness  \\\n",
       "0             73.0     230666.0    False         0.676   0.461  ...    -6.746   \n",
       "4             82.0     198853.0    False         0.618   0.443  ...    -9.681   \n",
       "6             74.0     229400.0    False         0.407   0.147  ...    -8.822   \n",
       "7             80.0     242946.0    False         0.703   0.444  ...       NaN   \n",
       "9             56.0     205594.0    False         0.442   0.632  ...    -6.770   \n",
       "...            ...          ...      ...           ...     ...  ...       ...   \n",
       "113983        37.0     377697.0    False         0.363   0.462  ...    -8.232   \n",
       "113984        44.0          NaN    False         0.541   0.583  ...    -7.047   \n",
       "113992        38.0     312566.0    False         0.475   0.860  ...    -4.722   \n",
       "113996        22.0     385000.0    False         0.174   0.117  ...   -18.318   \n",
       "113997        22.0     271466.0    False         0.629   0.329  ...   -10.895   \n",
       "\n",
       "        mode  speechiness  acousticness  instrumentalness  liveness  valence  \\\n",
       "0        NaN       0.1430       0.03220          0.000001    0.3580   0.7150   \n",
       "4        1.0       0.0526       0.46900          0.000000    0.0829   0.1670   \n",
       "6        1.0       0.0355       0.85700          0.000003    0.0913   0.0765   \n",
       "7        1.0       0.0417       0.55900          0.000000    0.0973   0.7120   \n",
       "9        1.0       0.0295       0.42600          0.004190    0.0735   0.1960   \n",
       "...      ...          ...           ...               ...       ...      ...   \n",
       "113983   1.0          NaN       0.00887          0.000009    0.7060   0.0687   \n",
       "113984   1.0          NaN       0.01420          0.000000    0.1020   0.2760   \n",
       "113992   1.0       0.0421       0.00650          0.000002    0.2460   0.4270   \n",
       "113996   0.0          NaN       0.99400          0.976000    0.1050   0.0350   \n",
       "113997   0.0          NaN       0.86700          0.000000    0.0839   0.7430   \n",
       "\n",
       "          tempo  time_signature  track_genre  \n",
       "0        87.917             4.0     acoustic  \n",
       "4       119.949             4.0     acoustic  \n",
       "6       141.284             3.0          NaN  \n",
       "7       150.960             4.0     acoustic  \n",
       "9        78.899             4.0     acoustic  \n",
       "...         ...             ...          ...  \n",
       "113983   80.003             4.0  world-music  \n",
       "113984   96.008             4.0  world-music  \n",
       "113992      NaN             4.0          NaN  \n",
       "113996   85.239             4.0  world-music  \n",
       "113997  132.378             4.0  world-music  \n",
       "\n",
       "[53379 rows x 21 columns]"
      ]
     },
     "execution_count": 20,
     "metadata": {},
     "output_type": "execute_result"
    }
   ],
   "source": [
    "#veri setinde en az bir gözlemi eksik olan kayıtlara da ulaşabiliriz.\n",
    "df[df.isnull().any(axis = 1)]"
   ]
  },
  {
   "cell_type": "code",
   "execution_count": 21,
   "id": "e654f278",
   "metadata": {
    "execution": {
     "iopub.execute_input": "2024-11-23T08:26:23.304064Z",
     "iopub.status.busy": "2024-11-23T08:26:23.303619Z",
     "iopub.status.idle": "2024-11-23T08:26:23.338821Z",
     "shell.execute_reply": "2024-11-23T08:26:23.337654Z"
    },
    "papermill": {
     "duration": 0.054694,
     "end_time": "2024-11-23T08:26:23.341328",
     "exception": false,
     "start_time": "2024-11-23T08:26:23.286634",
     "status": "completed"
    },
    "tags": []
   },
   "outputs": [
    {
     "data": {
      "text/html": [
       "<div>\n",
       "<style scoped>\n",
       "    .dataframe tbody tr th:only-of-type {\n",
       "        vertical-align: middle;\n",
       "    }\n",
       "\n",
       "    .dataframe tbody tr th {\n",
       "        vertical-align: top;\n",
       "    }\n",
       "\n",
       "    .dataframe thead th {\n",
       "        text-align: right;\n",
       "    }\n",
       "</style>\n",
       "<table border=\"1\" class=\"dataframe\">\n",
       "  <thead>\n",
       "    <tr style=\"text-align: right;\">\n",
       "      <th></th>\n",
       "      <th>Unnamed: 0</th>\n",
       "      <th>track_id</th>\n",
       "      <th>artists</th>\n",
       "      <th>album_name</th>\n",
       "      <th>track_name</th>\n",
       "      <th>popularity</th>\n",
       "      <th>duration_ms</th>\n",
       "      <th>explicit</th>\n",
       "      <th>danceability</th>\n",
       "      <th>energy</th>\n",
       "      <th>...</th>\n",
       "      <th>loudness</th>\n",
       "      <th>mode</th>\n",
       "      <th>speechiness</th>\n",
       "      <th>acousticness</th>\n",
       "      <th>instrumentalness</th>\n",
       "      <th>liveness</th>\n",
       "      <th>valence</th>\n",
       "      <th>tempo</th>\n",
       "      <th>time_signature</th>\n",
       "      <th>track_genre</th>\n",
       "    </tr>\n",
       "  </thead>\n",
       "  <tbody>\n",
       "    <tr>\n",
       "      <th>1</th>\n",
       "      <td>1.0</td>\n",
       "      <td>4qPNDBW1i3p13qLCt0Ki3A</td>\n",
       "      <td>Ben Woodward</td>\n",
       "      <td>Ghost (Acoustic)</td>\n",
       "      <td>Ghost - Acoustic</td>\n",
       "      <td>55.0</td>\n",
       "      <td>149610.0</td>\n",
       "      <td>False</td>\n",
       "      <td>0.420</td>\n",
       "      <td>0.1660</td>\n",
       "      <td>...</td>\n",
       "      <td>-17.235</td>\n",
       "      <td>1.0</td>\n",
       "      <td>0.0763</td>\n",
       "      <td>0.924</td>\n",
       "      <td>0.000006</td>\n",
       "      <td>0.101</td>\n",
       "      <td>0.267</td>\n",
       "      <td>77.489</td>\n",
       "      <td>4.0</td>\n",
       "      <td>acoustic</td>\n",
       "    </tr>\n",
       "    <tr>\n",
       "      <th>2</th>\n",
       "      <td>2.0</td>\n",
       "      <td>1iJBSr7s7jYXzM8EGcbK5b</td>\n",
       "      <td>Ingrid Michaelson;ZAYN</td>\n",
       "      <td>To Begin Again</td>\n",
       "      <td>To Begin Again</td>\n",
       "      <td>57.0</td>\n",
       "      <td>210826.0</td>\n",
       "      <td>False</td>\n",
       "      <td>0.438</td>\n",
       "      <td>0.3590</td>\n",
       "      <td>...</td>\n",
       "      <td>-9.734</td>\n",
       "      <td>1.0</td>\n",
       "      <td>0.0557</td>\n",
       "      <td>0.210</td>\n",
       "      <td>0.000000</td>\n",
       "      <td>0.117</td>\n",
       "      <td>0.120</td>\n",
       "      <td>76.332</td>\n",
       "      <td>4.0</td>\n",
       "      <td>acoustic</td>\n",
       "    </tr>\n",
       "    <tr>\n",
       "      <th>3</th>\n",
       "      <td>3.0</td>\n",
       "      <td>6lfxq3CG4xtTiEg7opyCyx</td>\n",
       "      <td>Kina Grannis</td>\n",
       "      <td>Crazy Rich Asians (Original Motion Picture Sou...</td>\n",
       "      <td>Can't Help Falling In Love</td>\n",
       "      <td>71.0</td>\n",
       "      <td>201933.0</td>\n",
       "      <td>False</td>\n",
       "      <td>0.266</td>\n",
       "      <td>0.0596</td>\n",
       "      <td>...</td>\n",
       "      <td>-18.515</td>\n",
       "      <td>1.0</td>\n",
       "      <td>0.0363</td>\n",
       "      <td>0.905</td>\n",
       "      <td>0.000071</td>\n",
       "      <td>0.132</td>\n",
       "      <td>0.143</td>\n",
       "      <td>181.740</td>\n",
       "      <td>3.0</td>\n",
       "      <td>acoustic</td>\n",
       "    </tr>\n",
       "    <tr>\n",
       "      <th>5</th>\n",
       "      <td>5.0</td>\n",
       "      <td>01MVOl9KtVTNfFiBU9I7dc</td>\n",
       "      <td>Tyrone Wells</td>\n",
       "      <td>Days I Will Remember</td>\n",
       "      <td>Days I Will Remember</td>\n",
       "      <td>58.0</td>\n",
       "      <td>214240.0</td>\n",
       "      <td>False</td>\n",
       "      <td>0.688</td>\n",
       "      <td>0.4810</td>\n",
       "      <td>...</td>\n",
       "      <td>-8.807</td>\n",
       "      <td>1.0</td>\n",
       "      <td>0.1050</td>\n",
       "      <td>0.289</td>\n",
       "      <td>0.000000</td>\n",
       "      <td>0.189</td>\n",
       "      <td>0.666</td>\n",
       "      <td>98.017</td>\n",
       "      <td>4.0</td>\n",
       "      <td>acoustic</td>\n",
       "    </tr>\n",
       "    <tr>\n",
       "      <th>8</th>\n",
       "      <td>8.0</td>\n",
       "      <td>0IktbUcnAGrvD03AWnz3Q8</td>\n",
       "      <td>Jason Mraz;Colbie Caillat</td>\n",
       "      <td>We Sing. We Dance. We Steal Things.</td>\n",
       "      <td>Lucky</td>\n",
       "      <td>74.0</td>\n",
       "      <td>189613.0</td>\n",
       "      <td>False</td>\n",
       "      <td>0.625</td>\n",
       "      <td>0.4140</td>\n",
       "      <td>...</td>\n",
       "      <td>-8.700</td>\n",
       "      <td>1.0</td>\n",
       "      <td>0.0369</td>\n",
       "      <td>0.294</td>\n",
       "      <td>0.000000</td>\n",
       "      <td>0.151</td>\n",
       "      <td>0.669</td>\n",
       "      <td>130.088</td>\n",
       "      <td>4.0</td>\n",
       "      <td>acoustic</td>\n",
       "    </tr>\n",
       "  </tbody>\n",
       "</table>\n",
       "<p>5 rows × 21 columns</p>\n",
       "</div>"
      ],
      "text/plain": [
       "   Unnamed: 0                track_id                    artists  \\\n",
       "1         1.0  4qPNDBW1i3p13qLCt0Ki3A               Ben Woodward   \n",
       "2         2.0  1iJBSr7s7jYXzM8EGcbK5b     Ingrid Michaelson;ZAYN   \n",
       "3         3.0  6lfxq3CG4xtTiEg7opyCyx               Kina Grannis   \n",
       "5         5.0  01MVOl9KtVTNfFiBU9I7dc               Tyrone Wells   \n",
       "8         8.0  0IktbUcnAGrvD03AWnz3Q8  Jason Mraz;Colbie Caillat   \n",
       "\n",
       "                                          album_name  \\\n",
       "1                                   Ghost (Acoustic)   \n",
       "2                                     To Begin Again   \n",
       "3  Crazy Rich Asians (Original Motion Picture Sou...   \n",
       "5                               Days I Will Remember   \n",
       "8                We Sing. We Dance. We Steal Things.   \n",
       "\n",
       "                   track_name  popularity  duration_ms explicit  danceability  \\\n",
       "1            Ghost - Acoustic        55.0     149610.0    False         0.420   \n",
       "2              To Begin Again        57.0     210826.0    False         0.438   \n",
       "3  Can't Help Falling In Love        71.0     201933.0    False         0.266   \n",
       "5        Days I Will Remember        58.0     214240.0    False         0.688   \n",
       "8                       Lucky        74.0     189613.0    False         0.625   \n",
       "\n",
       "   energy  ...  loudness  mode  speechiness  acousticness  instrumentalness  \\\n",
       "1  0.1660  ...   -17.235   1.0       0.0763         0.924          0.000006   \n",
       "2  0.3590  ...    -9.734   1.0       0.0557         0.210          0.000000   \n",
       "3  0.0596  ...   -18.515   1.0       0.0363         0.905          0.000071   \n",
       "5  0.4810  ...    -8.807   1.0       0.1050         0.289          0.000000   \n",
       "8  0.4140  ...    -8.700   1.0       0.0369         0.294          0.000000   \n",
       "\n",
       "   liveness  valence    tempo  time_signature  track_genre  \n",
       "1     0.101    0.267   77.489             4.0     acoustic  \n",
       "2     0.117    0.120   76.332             4.0     acoustic  \n",
       "3     0.132    0.143  181.740             3.0     acoustic  \n",
       "5     0.189    0.666   98.017             4.0     acoustic  \n",
       "8     0.151    0.669  130.088             4.0     acoustic  \n",
       "\n",
       "[5 rows x 21 columns]"
      ]
     },
     "execution_count": 21,
     "metadata": {},
     "output_type": "execute_result"
    }
   ],
   "source": [
    "#hiç eksik gözlemi bulunmayan kayıtları getirelim.\n",
    "df[df.notnull().all(axis = 1)][:5]"
   ]
  },
  {
   "cell_type": "code",
   "execution_count": 22,
   "id": "6e645ee2",
   "metadata": {
    "execution": {
     "iopub.execute_input": "2024-11-23T08:26:23.373975Z",
     "iopub.status.busy": "2024-11-23T08:26:23.373069Z",
     "iopub.status.idle": "2024-11-23T08:26:24.911773Z",
     "shell.execute_reply": "2024-11-23T08:26:24.910731Z"
    },
    "papermill": {
     "duration": 1.557965,
     "end_time": "2024-11-23T08:26:24.914371",
     "exception": false,
     "start_time": "2024-11-23T08:26:23.356406",
     "status": "completed"
    },
    "tags": []
   },
   "outputs": [
    {
     "data": {
      "image/png": "[encoded data removed]",
      "text/plain": [
       "<Figure size 800x400 with 3 Axes>"
      ]
     },
     "metadata": {},
     "output_type": "display_data"
    }
   ],
   "source": [
    "#!pip insall missingno -> missingno kütüphanesini kullanabilmek için öncelikle yüklemek lazım.\n",
    "\n",
    "import missingno as msno \n",
    "\n",
    "msno.bar( df = df, \n",
    "        figsize = (8,4),\n",
    "        fontsize = 10);"
   ]
  },
  {
   "cell_type": "code",
   "execution_count": 23,
   "id": "90012677",
   "metadata": {
    "execution": {
     "iopub.execute_input": "2024-11-23T08:26:24.948798Z",
     "iopub.status.busy": "2024-11-23T08:26:24.948419Z",
     "iopub.status.idle": "2024-11-23T08:26:25.399502Z",
     "shell.execute_reply": "2024-11-23T08:26:25.398119Z"
    },
    "papermill": {
     "duration": 0.471851,
     "end_time": "2024-11-23T08:26:25.402553",
     "exception": false,
     "start_time": "2024-11-23T08:26:24.930702",
     "status": "completed"
    },
    "tags": []
   },
   "outputs": [
    {
     "data": {
      "image/png": "[encoded data removed]",
      "text/plain": [
       "<Figure size 1000x600 with 2 Axes>"
      ]
     },
     "metadata": {},
     "output_type": "display_data"
    }
   ],
   "source": [
    "#msno.matric() deişkenlerde bulunan eksik değerlerin ilişkili olup olmadığını görsel yolla \n",
    "#tespit etmek için kullanılabilir. Beyaz bölüm eksik olan siyah bölümler eksik olmayan bölümleri gösterir.\n",
    "msno.matrix(df = df[['album_name','track_name']],\n",
    "           figsize = (10,6),\n",
    "           fontsize = 10);"
   ]
  },
  {
   "cell_type": "code",
   "execution_count": 24,
   "id": "a2aa46ea",
   "metadata": {
    "execution": {
     "iopub.execute_input": "2024-11-23T08:26:25.437860Z",
     "iopub.status.busy": "2024-11-23T08:26:25.437476Z",
     "iopub.status.idle": "2024-11-23T08:26:26.296533Z",
     "shell.execute_reply": "2024-11-23T08:26:26.295423Z"
    },
    "papermill": {
     "duration": 0.880891,
     "end_time": "2024-11-23T08:26:26.299577",
     "exception": false,
     "start_time": "2024-11-23T08:26:25.418686",
     "status": "completed"
    },
    "tags": []
   },
   "outputs": [
    {
     "data": {
      "image/png": "[encoded data removed]",
      "text/plain": [
       "<Figure size 1000x600 with 2 Axes>"
      ]
     },
     "metadata": {},
     "output_type": "display_data"
    }
   ],
   "source": [
    "#Nullity Correlation (Heatmap)\n",
    "#1'e ne kadar yakınsa, ilişki ihtimali o kadar yükesek.\n",
    "#0 ise birbirlerini etkileyen bir durum yok.\n",
    "\n",
    "msno.heatmap(df = df,\n",
    "            figsize = (10,6),\n",
    "            fontsize = 10);"
   ]
  },
  {
   "cell_type": "markdown",
   "id": "2b9431f2",
   "metadata": {
    "papermill": {
     "duration": 0.017291,
     "end_time": "2024-11-23T08:26:26.335188",
     "exception": false,
     "start_time": "2024-11-23T08:26:26.317897",
     "status": "completed"
    },
    "tags": []
   },
   "source": [
    "2.2 Yöntem 1: Eksik Verilerin Silinmesi\r\n",
    "Veri setinde bulunan eksik verilere müdahale yöntemlerinden birisi, eksik verilerin silinmesidir. Uygulaması oldukça kolay bir yöntem olsa da eksik verileri silmeden önce dikkat edilmesi gereken önemli hususlar vardır.\r",
    "1.\n",
    "\r\n",
    "Eksik bir verinin bulunduğu gözlemi silmeya karar verebilmek için, bu eksikliğin doğal olmayan bir şekilde ortaya çıktığından emin olmamız gerekir. Örneğin elimizdeki bir araç veri setinde elektrikli araçlar için motor hacmi kolonunda Na değer bulunması doğal bir eksikliğe işaret eder. Bu durumda silme işlemi yerine uygun bir şekilde doldurmak tercih edilebilir2..\r\n",
    "\r\n",
    "Eksik veriler veri setinde kayda değer bir yüzdeyi oluşturuyorsa, eksik verilerin silinmesi durumunda veri setindeki birçok gözlemi kaybedeceğimiz unutulmamalıdır. Bu durumda veri seti içerisinde bize bilgi sağlayabilecek birçok veriyi de kaybetmiş olacağız. Verinin olabildiğince fazla olması, hem analitik yöntemler hem de makine öğrenmesi yöntemleri için oldukça önemli olduğuna göre, veri setinden olabildiğince az kayıp verecek yöntemler denemeliyiz."
   ]
  },
  {
   "cell_type": "code",
   "execution_count": 25,
   "id": "189a1e86",
   "metadata": {
    "execution": {
     "iopub.execute_input": "2024-11-23T08:26:26.372109Z",
     "iopub.status.busy": "2024-11-23T08:26:26.371705Z",
     "iopub.status.idle": "2024-11-23T08:26:26.406104Z",
     "shell.execute_reply": "2024-11-23T08:26:26.404958Z"
    },
    "papermill": {
     "duration": 0.055478,
     "end_time": "2024-11-23T08:26:26.408064",
     "exception": false,
     "start_time": "2024-11-23T08:26:26.352586",
     "status": "completed"
    },
    "tags": []
   },
   "outputs": [
    {
     "data": {
      "text/html": [
       "<div>\n",
       "<style scoped>\n",
       "    .dataframe tbody tr th:only-of-type {\n",
       "        vertical-align: middle;\n",
       "    }\n",
       "\n",
       "    .dataframe tbody tr th {\n",
       "        vertical-align: top;\n",
       "    }\n",
       "\n",
       "    .dataframe thead th {\n",
       "        text-align: right;\n",
       "    }\n",
       "</style>\n",
       "<table border=\"1\" class=\"dataframe\">\n",
       "  <thead>\n",
       "    <tr style=\"text-align: right;\">\n",
       "      <th></th>\n",
       "      <th>Unnamed: 0</th>\n",
       "      <th>track_id</th>\n",
       "      <th>artists</th>\n",
       "      <th>album_name</th>\n",
       "      <th>track_name</th>\n",
       "      <th>popularity</th>\n",
       "      <th>duration_ms</th>\n",
       "      <th>explicit</th>\n",
       "      <th>danceability</th>\n",
       "      <th>energy</th>\n",
       "      <th>...</th>\n",
       "      <th>loudness</th>\n",
       "      <th>mode</th>\n",
       "      <th>speechiness</th>\n",
       "      <th>acousticness</th>\n",
       "      <th>instrumentalness</th>\n",
       "      <th>liveness</th>\n",
       "      <th>valence</th>\n",
       "      <th>tempo</th>\n",
       "      <th>time_signature</th>\n",
       "      <th>track_genre</th>\n",
       "    </tr>\n",
       "  </thead>\n",
       "  <tbody>\n",
       "    <tr>\n",
       "      <th>1</th>\n",
       "      <td>1.0</td>\n",
       "      <td>4qPNDBW1i3p13qLCt0Ki3A</td>\n",
       "      <td>Ben Woodward</td>\n",
       "      <td>Ghost (Acoustic)</td>\n",
       "      <td>Ghost - Acoustic</td>\n",
       "      <td>55.0</td>\n",
       "      <td>149610.0</td>\n",
       "      <td>False</td>\n",
       "      <td>0.420</td>\n",
       "      <td>0.1660</td>\n",
       "      <td>...</td>\n",
       "      <td>-17.235</td>\n",
       "      <td>1.0</td>\n",
       "      <td>0.0763</td>\n",
       "      <td>0.924</td>\n",
       "      <td>0.000006</td>\n",
       "      <td>0.101</td>\n",
       "      <td>0.267</td>\n",
       "      <td>77.489</td>\n",
       "      <td>4.0</td>\n",
       "      <td>acoustic</td>\n",
       "    </tr>\n",
       "    <tr>\n",
       "      <th>2</th>\n",
       "      <td>2.0</td>\n",
       "      <td>1iJBSr7s7jYXzM8EGcbK5b</td>\n",
       "      <td>Ingrid Michaelson;ZAYN</td>\n",
       "      <td>To Begin Again</td>\n",
       "      <td>To Begin Again</td>\n",
       "      <td>57.0</td>\n",
       "      <td>210826.0</td>\n",
       "      <td>False</td>\n",
       "      <td>0.438</td>\n",
       "      <td>0.3590</td>\n",
       "      <td>...</td>\n",
       "      <td>-9.734</td>\n",
       "      <td>1.0</td>\n",
       "      <td>0.0557</td>\n",
       "      <td>0.210</td>\n",
       "      <td>0.000000</td>\n",
       "      <td>0.117</td>\n",
       "      <td>0.120</td>\n",
       "      <td>76.332</td>\n",
       "      <td>4.0</td>\n",
       "      <td>acoustic</td>\n",
       "    </tr>\n",
       "    <tr>\n",
       "      <th>3</th>\n",
       "      <td>3.0</td>\n",
       "      <td>6lfxq3CG4xtTiEg7opyCyx</td>\n",
       "      <td>Kina Grannis</td>\n",
       "      <td>Crazy Rich Asians (Original Motion Picture Sou...</td>\n",
       "      <td>Can't Help Falling In Love</td>\n",
       "      <td>71.0</td>\n",
       "      <td>201933.0</td>\n",
       "      <td>False</td>\n",
       "      <td>0.266</td>\n",
       "      <td>0.0596</td>\n",
       "      <td>...</td>\n",
       "      <td>-18.515</td>\n",
       "      <td>1.0</td>\n",
       "      <td>0.0363</td>\n",
       "      <td>0.905</td>\n",
       "      <td>0.000071</td>\n",
       "      <td>0.132</td>\n",
       "      <td>0.143</td>\n",
       "      <td>181.740</td>\n",
       "      <td>3.0</td>\n",
       "      <td>acoustic</td>\n",
       "    </tr>\n",
       "    <tr>\n",
       "      <th>5</th>\n",
       "      <td>5.0</td>\n",
       "      <td>01MVOl9KtVTNfFiBU9I7dc</td>\n",
       "      <td>Tyrone Wells</td>\n",
       "      <td>Days I Will Remember</td>\n",
       "      <td>Days I Will Remember</td>\n",
       "      <td>58.0</td>\n",
       "      <td>214240.0</td>\n",
       "      <td>False</td>\n",
       "      <td>0.688</td>\n",
       "      <td>0.4810</td>\n",
       "      <td>...</td>\n",
       "      <td>-8.807</td>\n",
       "      <td>1.0</td>\n",
       "      <td>0.1050</td>\n",
       "      <td>0.289</td>\n",
       "      <td>0.000000</td>\n",
       "      <td>0.189</td>\n",
       "      <td>0.666</td>\n",
       "      <td>98.017</td>\n",
       "      <td>4.0</td>\n",
       "      <td>acoustic</td>\n",
       "    </tr>\n",
       "    <tr>\n",
       "      <th>8</th>\n",
       "      <td>8.0</td>\n",
       "      <td>0IktbUcnAGrvD03AWnz3Q8</td>\n",
       "      <td>Jason Mraz;Colbie Caillat</td>\n",
       "      <td>We Sing. We Dance. We Steal Things.</td>\n",
       "      <td>Lucky</td>\n",
       "      <td>74.0</td>\n",
       "      <td>189613.0</td>\n",
       "      <td>False</td>\n",
       "      <td>0.625</td>\n",
       "      <td>0.4140</td>\n",
       "      <td>...</td>\n",
       "      <td>-8.700</td>\n",
       "      <td>1.0</td>\n",
       "      <td>0.0369</td>\n",
       "      <td>0.294</td>\n",
       "      <td>0.000000</td>\n",
       "      <td>0.151</td>\n",
       "      <td>0.669</td>\n",
       "      <td>130.088</td>\n",
       "      <td>4.0</td>\n",
       "      <td>acoustic</td>\n",
       "    </tr>\n",
       "  </tbody>\n",
       "</table>\n",
       "<p>5 rows × 21 columns</p>\n",
       "</div>"
      ],
      "text/plain": [
       "   Unnamed: 0                track_id                    artists  \\\n",
       "1         1.0  4qPNDBW1i3p13qLCt0Ki3A               Ben Woodward   \n",
       "2         2.0  1iJBSr7s7jYXzM8EGcbK5b     Ingrid Michaelson;ZAYN   \n",
       "3         3.0  6lfxq3CG4xtTiEg7opyCyx               Kina Grannis   \n",
       "5         5.0  01MVOl9KtVTNfFiBU9I7dc               Tyrone Wells   \n",
       "8         8.0  0IktbUcnAGrvD03AWnz3Q8  Jason Mraz;Colbie Caillat   \n",
       "\n",
       "                                          album_name  \\\n",
       "1                                   Ghost (Acoustic)   \n",
       "2                                     To Begin Again   \n",
       "3  Crazy Rich Asians (Original Motion Picture Sou...   \n",
       "5                               Days I Will Remember   \n",
       "8                We Sing. We Dance. We Steal Things.   \n",
       "\n",
       "                   track_name  popularity  duration_ms explicit  danceability  \\\n",
       "1            Ghost - Acoustic        55.0     149610.0    False         0.420   \n",
       "2              To Begin Again        57.0     210826.0    False         0.438   \n",
       "3  Can't Help Falling In Love        71.0     201933.0    False         0.266   \n",
       "5        Days I Will Remember        58.0     214240.0    False         0.688   \n",
       "8                       Lucky        74.0     189613.0    False         0.625   \n",
       "\n",
       "   energy  ...  loudness  mode  speechiness  acousticness  instrumentalness  \\\n",
       "1  0.1660  ...   -17.235   1.0       0.0763         0.924          0.000006   \n",
       "2  0.3590  ...    -9.734   1.0       0.0557         0.210          0.000000   \n",
       "3  0.0596  ...   -18.515   1.0       0.0363         0.905          0.000071   \n",
       "5  0.4810  ...    -8.807   1.0       0.1050         0.289          0.000000   \n",
       "8  0.4140  ...    -8.700   1.0       0.0369         0.294          0.000000   \n",
       "\n",
       "   liveness  valence    tempo  time_signature  track_genre  \n",
       "1     0.101    0.267   77.489             4.0     acoustic  \n",
       "2     0.117    0.120   76.332             4.0     acoustic  \n",
       "3     0.132    0.143  181.740             3.0     acoustic  \n",
       "5     0.189    0.666   98.017             4.0     acoustic  \n",
       "8     0.151    0.669  130.088             4.0     acoustic  \n",
       "\n",
       "[5 rows x 21 columns]"
      ]
     },
     "execution_count": 25,
     "metadata": {},
     "output_type": "execute_result"
    }
   ],
   "source": [
    "# Eksik verilerin dropna ile silinmesi.\n",
    "# Kalıcı bir değişiklik yapmaz, bunu yapmak için inplace argümanı kullanılmalı veya atama yapılmalıdır.\n",
    "\n",
    "df.dropna(inplace = False)[:5]\n",
    "#df = df.dropna()"
   ]
  },
  {
   "cell_type": "code",
   "execution_count": 26,
   "id": "377e2c7f",
   "metadata": {
    "execution": {
     "iopub.execute_input": "2024-11-23T08:26:26.445344Z",
     "iopub.status.busy": "2024-11-23T08:26:26.444939Z",
     "iopub.status.idle": "2024-11-23T08:26:26.487800Z",
     "shell.execute_reply": "2024-11-23T08:26:26.486689Z"
    },
    "papermill": {
     "duration": 0.064088,
     "end_time": "2024-11-23T08:26:26.489948",
     "exception": false,
     "start_time": "2024-11-23T08:26:26.425860",
     "status": "completed"
    },
    "tags": []
   },
   "outputs": [
    {
     "data": {
      "text/html": [
       "<div>\n",
       "<style scoped>\n",
       "    .dataframe tbody tr th:only-of-type {\n",
       "        vertical-align: middle;\n",
       "    }\n",
       "\n",
       "    .dataframe tbody tr th {\n",
       "        vertical-align: top;\n",
       "    }\n",
       "\n",
       "    .dataframe thead th {\n",
       "        text-align: right;\n",
       "    }\n",
       "</style>\n",
       "<table border=\"1\" class=\"dataframe\">\n",
       "  <thead>\n",
       "    <tr style=\"text-align: right;\">\n",
       "      <th></th>\n",
       "      <th>Unnamed: 0</th>\n",
       "      <th>track_id</th>\n",
       "      <th>artists</th>\n",
       "      <th>album_name</th>\n",
       "      <th>track_name</th>\n",
       "      <th>popularity</th>\n",
       "      <th>duration_ms</th>\n",
       "      <th>explicit</th>\n",
       "      <th>danceability</th>\n",
       "      <th>energy</th>\n",
       "      <th>...</th>\n",
       "      <th>loudness</th>\n",
       "      <th>mode</th>\n",
       "      <th>speechiness</th>\n",
       "      <th>acousticness</th>\n",
       "      <th>instrumentalness</th>\n",
       "      <th>liveness</th>\n",
       "      <th>valence</th>\n",
       "      <th>tempo</th>\n",
       "      <th>time_signature</th>\n",
       "      <th>track_genre</th>\n",
       "    </tr>\n",
       "  </thead>\n",
       "  <tbody>\n",
       "    <tr>\n",
       "      <th>0</th>\n",
       "      <td>0.0</td>\n",
       "      <td>5SuOikwiRyPMVoIQDJUgSV</td>\n",
       "      <td>Gen Hoshino</td>\n",
       "      <td>Comedy</td>\n",
       "      <td>Comedy</td>\n",
       "      <td>73.0</td>\n",
       "      <td>230666.0</td>\n",
       "      <td>False</td>\n",
       "      <td>0.676</td>\n",
       "      <td>0.4610</td>\n",
       "      <td>...</td>\n",
       "      <td>-6.746</td>\n",
       "      <td>NaN</td>\n",
       "      <td>0.1430</td>\n",
       "      <td>0.0322</td>\n",
       "      <td>0.000001</td>\n",
       "      <td>0.3580</td>\n",
       "      <td>0.715</td>\n",
       "      <td>87.917</td>\n",
       "      <td>4.0</td>\n",
       "      <td>acoustic</td>\n",
       "    </tr>\n",
       "    <tr>\n",
       "      <th>1</th>\n",
       "      <td>1.0</td>\n",
       "      <td>4qPNDBW1i3p13qLCt0Ki3A</td>\n",
       "      <td>Ben Woodward</td>\n",
       "      <td>Ghost (Acoustic)</td>\n",
       "      <td>Ghost - Acoustic</td>\n",
       "      <td>55.0</td>\n",
       "      <td>149610.0</td>\n",
       "      <td>False</td>\n",
       "      <td>0.420</td>\n",
       "      <td>0.1660</td>\n",
       "      <td>...</td>\n",
       "      <td>-17.235</td>\n",
       "      <td>1.0</td>\n",
       "      <td>0.0763</td>\n",
       "      <td>0.9240</td>\n",
       "      <td>0.000006</td>\n",
       "      <td>0.1010</td>\n",
       "      <td>0.267</td>\n",
       "      <td>77.489</td>\n",
       "      <td>4.0</td>\n",
       "      <td>acoustic</td>\n",
       "    </tr>\n",
       "    <tr>\n",
       "      <th>2</th>\n",
       "      <td>2.0</td>\n",
       "      <td>1iJBSr7s7jYXzM8EGcbK5b</td>\n",
       "      <td>Ingrid Michaelson;ZAYN</td>\n",
       "      <td>To Begin Again</td>\n",
       "      <td>To Begin Again</td>\n",
       "      <td>57.0</td>\n",
       "      <td>210826.0</td>\n",
       "      <td>False</td>\n",
       "      <td>0.438</td>\n",
       "      <td>0.3590</td>\n",
       "      <td>...</td>\n",
       "      <td>-9.734</td>\n",
       "      <td>1.0</td>\n",
       "      <td>0.0557</td>\n",
       "      <td>0.2100</td>\n",
       "      <td>0.000000</td>\n",
       "      <td>0.1170</td>\n",
       "      <td>0.120</td>\n",
       "      <td>76.332</td>\n",
       "      <td>4.0</td>\n",
       "      <td>acoustic</td>\n",
       "    </tr>\n",
       "    <tr>\n",
       "      <th>3</th>\n",
       "      <td>3.0</td>\n",
       "      <td>6lfxq3CG4xtTiEg7opyCyx</td>\n",
       "      <td>Kina Grannis</td>\n",
       "      <td>Crazy Rich Asians (Original Motion Picture Sou...</td>\n",
       "      <td>Can't Help Falling In Love</td>\n",
       "      <td>71.0</td>\n",
       "      <td>201933.0</td>\n",
       "      <td>False</td>\n",
       "      <td>0.266</td>\n",
       "      <td>0.0596</td>\n",
       "      <td>...</td>\n",
       "      <td>-18.515</td>\n",
       "      <td>1.0</td>\n",
       "      <td>0.0363</td>\n",
       "      <td>0.9050</td>\n",
       "      <td>0.000071</td>\n",
       "      <td>0.1320</td>\n",
       "      <td>0.143</td>\n",
       "      <td>181.740</td>\n",
       "      <td>3.0</td>\n",
       "      <td>acoustic</td>\n",
       "    </tr>\n",
       "    <tr>\n",
       "      <th>4</th>\n",
       "      <td>4.0</td>\n",
       "      <td>5vjLSffimiIP26QG5WcN2K</td>\n",
       "      <td>Chord Overstreet</td>\n",
       "      <td>Hold On</td>\n",
       "      <td>NaN</td>\n",
       "      <td>82.0</td>\n",
       "      <td>198853.0</td>\n",
       "      <td>False</td>\n",
       "      <td>0.618</td>\n",
       "      <td>0.4430</td>\n",
       "      <td>...</td>\n",
       "      <td>-9.681</td>\n",
       "      <td>1.0</td>\n",
       "      <td>0.0526</td>\n",
       "      <td>0.4690</td>\n",
       "      <td>0.000000</td>\n",
       "      <td>0.0829</td>\n",
       "      <td>0.167</td>\n",
       "      <td>119.949</td>\n",
       "      <td>4.0</td>\n",
       "      <td>acoustic</td>\n",
       "    </tr>\n",
       "  </tbody>\n",
       "</table>\n",
       "<p>5 rows × 21 columns</p>\n",
       "</div>"
      ],
      "text/plain": [
       "   Unnamed: 0                track_id                 artists  \\\n",
       "0         0.0  5SuOikwiRyPMVoIQDJUgSV             Gen Hoshino   \n",
       "1         1.0  4qPNDBW1i3p13qLCt0Ki3A            Ben Woodward   \n",
       "2         2.0  1iJBSr7s7jYXzM8EGcbK5b  Ingrid Michaelson;ZAYN   \n",
       "3         3.0  6lfxq3CG4xtTiEg7opyCyx            Kina Grannis   \n",
       "4         4.0  5vjLSffimiIP26QG5WcN2K        Chord Overstreet   \n",
       "\n",
       "                                          album_name  \\\n",
       "0                                             Comedy   \n",
       "1                                   Ghost (Acoustic)   \n",
       "2                                     To Begin Again   \n",
       "3  Crazy Rich Asians (Original Motion Picture Sou...   \n",
       "4                                            Hold On   \n",
       "\n",
       "                   track_name  popularity  duration_ms explicit  danceability  \\\n",
       "0                      Comedy        73.0     230666.0    False         0.676   \n",
       "1            Ghost - Acoustic        55.0     149610.0    False         0.420   \n",
       "2              To Begin Again        57.0     210826.0    False         0.438   \n",
       "3  Can't Help Falling In Love        71.0     201933.0    False         0.266   \n",
       "4                         NaN        82.0     198853.0    False         0.618   \n",
       "\n",
       "   energy  ...  loudness  mode  speechiness  acousticness  instrumentalness  \\\n",
       "0  0.4610  ...    -6.746   NaN       0.1430        0.0322          0.000001   \n",
       "1  0.1660  ...   -17.235   1.0       0.0763        0.9240          0.000006   \n",
       "2  0.3590  ...    -9.734   1.0       0.0557        0.2100          0.000000   \n",
       "3  0.0596  ...   -18.515   1.0       0.0363        0.9050          0.000071   \n",
       "4  0.4430  ...    -9.681   1.0       0.0526        0.4690          0.000000   \n",
       "\n",
       "   liveness  valence    tempo  time_signature  track_genre  \n",
       "0    0.3580    0.715   87.917             4.0     acoustic  \n",
       "1    0.1010    0.267   77.489             4.0     acoustic  \n",
       "2    0.1170    0.120   76.332             4.0     acoustic  \n",
       "3    0.1320    0.143  181.740             3.0     acoustic  \n",
       "4    0.0829    0.167  119.949             4.0     acoustic  \n",
       "\n",
       "[5 rows x 21 columns]"
      ]
     },
     "execution_count": 26,
     "metadata": {},
     "output_type": "execute_result"
    }
   ],
   "source": [
    "# Sadece bütün değerleri eksik olan bir gözlemi silmek istersek;\n",
    "df.dropna(how = 'all')[:5]"
   ]
  },
  {
   "cell_type": "code",
   "execution_count": 27,
   "id": "5e6be60d",
   "metadata": {
    "execution": {
     "iopub.execute_input": "2024-11-23T08:26:26.528859Z",
     "iopub.status.busy": "2024-11-23T08:26:26.528460Z",
     "iopub.status.idle": "2024-11-23T08:26:26.541795Z",
     "shell.execute_reply": "2024-11-23T08:26:26.540757Z"
    },
    "papermill": {
     "duration": 0.035708,
     "end_time": "2024-11-23T08:26:26.543887",
     "exception": false,
     "start_time": "2024-11-23T08:26:26.508179",
     "status": "completed"
    },
    "tags": []
   },
   "outputs": [
    {
     "data": {
      "text/html": [
       "<div>\n",
       "<style scoped>\n",
       "    .dataframe tbody tr th:only-of-type {\n",
       "        vertical-align: middle;\n",
       "    }\n",
       "\n",
       "    .dataframe tbody tr th {\n",
       "        vertical-align: top;\n",
       "    }\n",
       "\n",
       "    .dataframe thead th {\n",
       "        text-align: right;\n",
       "    }\n",
       "</style>\n",
       "<table border=\"1\" class=\"dataframe\">\n",
       "  <thead>\n",
       "    <tr style=\"text-align: right;\">\n",
       "      <th></th>\n",
       "    </tr>\n",
       "  </thead>\n",
       "  <tbody>\n",
       "    <tr>\n",
       "      <th>0</th>\n",
       "    </tr>\n",
       "    <tr>\n",
       "      <th>1</th>\n",
       "    </tr>\n",
       "    <tr>\n",
       "      <th>2</th>\n",
       "    </tr>\n",
       "    <tr>\n",
       "      <th>3</th>\n",
       "    </tr>\n",
       "    <tr>\n",
       "      <th>4</th>\n",
       "    </tr>\n",
       "    <tr>\n",
       "      <th>...</th>\n",
       "    </tr>\n",
       "    <tr>\n",
       "      <th>113995</th>\n",
       "    </tr>\n",
       "    <tr>\n",
       "      <th>113996</th>\n",
       "    </tr>\n",
       "    <tr>\n",
       "      <th>113997</th>\n",
       "    </tr>\n",
       "    <tr>\n",
       "      <th>113998</th>\n",
       "    </tr>\n",
       "    <tr>\n",
       "      <th>113999</th>\n",
       "    </tr>\n",
       "  </tbody>\n",
       "</table>\n",
       "<p>114000 rows × 0 columns</p>\n",
       "</div>"
      ],
      "text/plain": [
       "Empty DataFrame\n",
       "Columns: []\n",
       "Index: [0, 1, 2, 3, 4, 5, 6, 7, 8, 9, 10, 11, 12, 13, 14, 15, 16, 17, 18, 19, 20, 21, 22, 23, 24, 25, 26, 27, 28, 29, 30, 31, 32, 33, 34, 35, 36, 37, 38, 39, 40, 41, 42, 43, 44, 45, 46, 47, 48, 49, 50, 51, 52, 53, 54, 55, 56, 57, 58, 59, 60, 61, 62, 63, 64, 65, 66, 67, 68, 69, 70, 71, 72, 73, 74, 75, 76, 77, 78, 79, 80, 81, 82, 83, 84, 85, 86, 87, 88, 89, 90, 91, 92, 93, 94, 95, 96, 97, 98, 99, ...]\n",
       "\n",
       "[114000 rows x 0 columns]"
      ]
     },
     "execution_count": 27,
     "metadata": {},
     "output_type": "execute_result"
    }
   ],
   "source": [
    "# Değişken bazında silmek için;\n",
    "df.dropna(axis = 1)"
   ]
  },
  {
   "cell_type": "markdown",
   "id": "8315e788",
   "metadata": {
    "papermill": {
     "duration": 0.018357,
     "end_time": "2024-11-23T08:26:26.580686",
     "exception": false,
     "start_time": "2024-11-23T08:26:26.562329",
     "status": "completed"
    },
    "tags": []
   },
   "source": [
    "2.3 Yöntem 2: Eksik Verilerin Doldurulması\r\n",
    "Eksik verilerin doldurulması kararı, silinmesi işleminde olduğu gibi hassas ve bilinçli bir şekilde değerlendirilmesi gereken bir karardır. Zira doldurma işlemi veride gürültü (noise) oluşturabilir ve verinin istatistiksel olarak güvenilirliğini zedeleyebilir. Analitik durumlar içinse yanlış bilgi çıkarımlarına sebebiyet verebilir. Bu nedenle en sağlıklı doldurma kararının alındığı durumlarda dahi bu yanlılık durumu mutlaka göz önünde bulundurulmalıdır."
   ]
  },
  {
   "cell_type": "code",
   "execution_count": 28,
   "id": "0df3185c",
   "metadata": {
    "execution": {
     "iopub.execute_input": "2024-11-23T08:26:26.621653Z",
     "iopub.status.busy": "2024-11-23T08:26:26.620713Z",
     "iopub.status.idle": "2024-11-23T08:26:26.661766Z",
     "shell.execute_reply": "2024-11-23T08:26:26.660706Z"
    },
    "papermill": {
     "duration": 0.063697,
     "end_time": "2024-11-23T08:26:26.664111",
     "exception": false,
     "start_time": "2024-11-23T08:26:26.600414",
     "status": "completed"
    },
    "tags": []
   },
   "outputs": [
    {
     "data": {
      "text/html": [
       "<div>\n",
       "<style scoped>\n",
       "    .dataframe tbody tr th:only-of-type {\n",
       "        vertical-align: middle;\n",
       "    }\n",
       "\n",
       "    .dataframe tbody tr th {\n",
       "        vertical-align: top;\n",
       "    }\n",
       "\n",
       "    .dataframe thead th {\n",
       "        text-align: right;\n",
       "    }\n",
       "</style>\n",
       "<table border=\"1\" class=\"dataframe\">\n",
       "  <thead>\n",
       "    <tr style=\"text-align: right;\">\n",
       "      <th></th>\n",
       "      <th>Unnamed: 0</th>\n",
       "      <th>track_id</th>\n",
       "      <th>artists</th>\n",
       "      <th>album_name</th>\n",
       "      <th>track_name</th>\n",
       "      <th>popularity</th>\n",
       "      <th>duration_ms</th>\n",
       "      <th>explicit</th>\n",
       "      <th>danceability</th>\n",
       "      <th>energy</th>\n",
       "      <th>...</th>\n",
       "      <th>loudness</th>\n",
       "      <th>mode</th>\n",
       "      <th>speechiness</th>\n",
       "      <th>acousticness</th>\n",
       "      <th>instrumentalness</th>\n",
       "      <th>liveness</th>\n",
       "      <th>valence</th>\n",
       "      <th>tempo</th>\n",
       "      <th>time_signature</th>\n",
       "      <th>track_genre</th>\n",
       "    </tr>\n",
       "  </thead>\n",
       "  <tbody>\n",
       "    <tr>\n",
       "      <th>0</th>\n",
       "      <td>0.0</td>\n",
       "      <td>5SuOikwiRyPMVoIQDJUgSV</td>\n",
       "      <td>Gen Hoshino</td>\n",
       "      <td>Comedy</td>\n",
       "      <td>Comedy</td>\n",
       "      <td>73.0</td>\n",
       "      <td>230666.0</td>\n",
       "      <td>False</td>\n",
       "      <td>0.676</td>\n",
       "      <td>0.461</td>\n",
       "      <td>...</td>\n",
       "      <td>-6.746</td>\n",
       "      <td>NaN</td>\n",
       "      <td>0.1430</td>\n",
       "      <td>0.0322</td>\n",
       "      <td>0.000001</td>\n",
       "      <td>0.358</td>\n",
       "      <td>0.715</td>\n",
       "      <td>87.917</td>\n",
       "      <td>4.0</td>\n",
       "      <td>acoustic</td>\n",
       "    </tr>\n",
       "    <tr>\n",
       "      <th>1</th>\n",
       "      <td>1.0</td>\n",
       "      <td>4qPNDBW1i3p13qLCt0Ki3A</td>\n",
       "      <td>Ben Woodward</td>\n",
       "      <td>Ghost (Acoustic)</td>\n",
       "      <td>Ghost - Acoustic</td>\n",
       "      <td>55.0</td>\n",
       "      <td>149610.0</td>\n",
       "      <td>False</td>\n",
       "      <td>0.420</td>\n",
       "      <td>0.166</td>\n",
       "      <td>...</td>\n",
       "      <td>-17.235</td>\n",
       "      <td>1.0</td>\n",
       "      <td>0.0763</td>\n",
       "      <td>0.9240</td>\n",
       "      <td>0.000006</td>\n",
       "      <td>0.101</td>\n",
       "      <td>0.267</td>\n",
       "      <td>77.489</td>\n",
       "      <td>4.0</td>\n",
       "      <td>acoustic</td>\n",
       "    </tr>\n",
       "    <tr>\n",
       "      <th>2</th>\n",
       "      <td>2.0</td>\n",
       "      <td>1iJBSr7s7jYXzM8EGcbK5b</td>\n",
       "      <td>Ingrid Michaelson;ZAYN</td>\n",
       "      <td>To Begin Again</td>\n",
       "      <td>To Begin Again</td>\n",
       "      <td>57.0</td>\n",
       "      <td>210826.0</td>\n",
       "      <td>False</td>\n",
       "      <td>0.438</td>\n",
       "      <td>0.359</td>\n",
       "      <td>...</td>\n",
       "      <td>-9.734</td>\n",
       "      <td>1.0</td>\n",
       "      <td>0.0557</td>\n",
       "      <td>0.2100</td>\n",
       "      <td>0.000000</td>\n",
       "      <td>0.117</td>\n",
       "      <td>0.120</td>\n",
       "      <td>76.332</td>\n",
       "      <td>4.0</td>\n",
       "      <td>acoustic</td>\n",
       "    </tr>\n",
       "  </tbody>\n",
       "</table>\n",
       "<p>3 rows × 21 columns</p>\n",
       "</div>"
      ],
      "text/plain": [
       "   Unnamed: 0                track_id                 artists  \\\n",
       "0         0.0  5SuOikwiRyPMVoIQDJUgSV             Gen Hoshino   \n",
       "1         1.0  4qPNDBW1i3p13qLCt0Ki3A            Ben Woodward   \n",
       "2         2.0  1iJBSr7s7jYXzM8EGcbK5b  Ingrid Michaelson;ZAYN   \n",
       "\n",
       "         album_name        track_name  popularity  duration_ms explicit  \\\n",
       "0            Comedy            Comedy        73.0     230666.0    False   \n",
       "1  Ghost (Acoustic)  Ghost - Acoustic        55.0     149610.0    False   \n",
       "2    To Begin Again    To Begin Again        57.0     210826.0    False   \n",
       "\n",
       "   danceability  energy  ...  loudness  mode  speechiness  acousticness  \\\n",
       "0         0.676   0.461  ...    -6.746   NaN       0.1430        0.0322   \n",
       "1         0.420   0.166  ...   -17.235   1.0       0.0763        0.9240   \n",
       "2         0.438   0.359  ...    -9.734   1.0       0.0557        0.2100   \n",
       "\n",
       "   instrumentalness  liveness  valence   tempo  time_signature  track_genre  \n",
       "0          0.000001     0.358    0.715  87.917             4.0     acoustic  \n",
       "1          0.000006     0.101    0.267  77.489             4.0     acoustic  \n",
       "2          0.000000     0.117    0.120  76.332             4.0     acoustic  \n",
       "\n",
       "[3 rows x 21 columns]"
      ]
     },
     "execution_count": 28,
     "metadata": {},
     "output_type": "execute_result"
    }
   ],
   "source": [
    "# Doldurma işlemlerini gerçekleştirmek için veri setimin bir kopyasını oluşturuyorum.\n",
    "df_fillna = df.copy()\n",
    "\n",
    "df_fillna.head(3)"
   ]
  },
  {
   "cell_type": "code",
   "execution_count": 29,
   "id": "efe0b125",
   "metadata": {
    "execution": {
     "iopub.execute_input": "2024-11-23T08:26:26.704164Z",
     "iopub.status.busy": "2024-11-23T08:26:26.703792Z",
     "iopub.status.idle": "2024-11-23T08:26:26.715440Z",
     "shell.execute_reply": "2024-11-23T08:26:26.714464Z"
    },
    "papermill": {
     "duration": 0.035184,
     "end_time": "2024-11-23T08:26:26.717848",
     "exception": false,
     "start_time": "2024-11-23T08:26:26.682664",
     "status": "completed"
    },
    "tags": []
   },
   "outputs": [
    {
     "data": {
      "text/plain": [
       "Unnamed: 0          3358\n",
       "track_id            3326\n",
       "artists             3344\n",
       "album_name          3401\n",
       "track_name          3386\n",
       "popularity          3266\n",
       "duration_ms         3274\n",
       "explicit            3357\n",
       "danceability        3341\n",
       "energy              3374\n",
       "key                 3360\n",
       "loudness            3352\n",
       "mode                3451\n",
       "speechiness         3369\n",
       "acousticness        3403\n",
       "instrumentalness    3416\n",
       "liveness            3390\n",
       "valence             3406\n",
       "tempo               3418\n",
       "time_signature      3321\n",
       "track_genre         3448\n",
       "dtype: int64"
      ]
     },
     "execution_count": 29,
     "metadata": {},
     "output_type": "execute_result"
    }
   ],
   "source": [
    "df_fillna.isna().sum()"
   ]
  },
  {
   "cell_type": "markdown",
   "id": "8c4544ba",
   "metadata": {
    "papermill": {
     "duration": 0.018395,
     "end_time": "2024-11-23T08:26:26.755512",
     "exception": false,
     "start_time": "2024-11-23T08:26:26.737117",
     "status": "completed"
    },
    "tags": []
   },
   "source": [
    "2.3.1 Sayısal Değişkenlerin Doldurulması"
   ]
  },
  {
   "cell_type": "code",
   "execution_count": 30,
   "id": "e43883a0",
   "metadata": {
    "execution": {
     "iopub.execute_input": "2024-11-23T08:26:26.796331Z",
     "iopub.status.busy": "2024-11-23T08:26:26.795050Z",
     "iopub.status.idle": "2024-11-23T08:26:26.810558Z",
     "shell.execute_reply": "2024-11-23T08:26:26.809406Z"
    },
    "papermill": {
     "duration": 0.038056,
     "end_time": "2024-11-23T08:26:26.812685",
     "exception": false,
     "start_time": "2024-11-23T08:26:26.774629",
     "status": "completed"
    },
    "tags": []
   },
   "outputs": [
    {
     "name": "stderr",
     "output_type": "stream",
     "text": [
      "/tmp/ipykernel_17/2732627382.py:4: FutureWarning: A value is trying to be set on a copy of a DataFrame or Series through chained assignment using an inplace method.\n",
      "The behavior will change in pandas 3.0. This inplace method will never work because the intermediate object on which we are setting values always behaves as a copy.\n",
      "\n",
      "For example, when doing 'df[col].method(value, inplace=True)', try using 'df.method({col: value}, inplace=True)' or df[col] = df[col].method(value) instead, to perform the operation inplace on the original object.\n",
      "\n",
      "\n",
      "  df_fillna['popularity'].fillna(value = mean_popularity, inplace = True)\n"
     ]
    },
    {
     "data": {
      "text/plain": [
       "Unnamed: 0          3358\n",
       "track_id            3326\n",
       "artists             3344\n",
       "album_name          3401\n",
       "track_name          3386\n",
       "popularity             0\n",
       "duration_ms         3274\n",
       "explicit            3357\n",
       "danceability        3341\n",
       "energy              3374\n",
       "key                 3360\n",
       "loudness            3352\n",
       "mode                3451\n",
       "speechiness         3369\n",
       "acousticness        3403\n",
       "instrumentalness    3416\n",
       "liveness            3390\n",
       "valence             3406\n",
       "tempo               3418\n",
       "time_signature      3321\n",
       "track_genre         3448\n",
       "dtype: int64"
      ]
     },
     "execution_count": 30,
     "metadata": {},
     "output_type": "execute_result"
    }
   ],
   "source": [
    "# Numerik bir değişkenin mean değeriyle doldurulması\n",
    "mean_popularity = df_fillna['popularity'].mean()\n",
    "\n",
    "df_fillna['popularity'].fillna(value = mean_popularity, inplace = True)\n",
    "\n",
    "df_fillna.isna().sum()\n"
   ]
  },
  {
   "cell_type": "code",
   "execution_count": 31,
   "id": "76a70e0e",
   "metadata": {
    "execution": {
     "iopub.execute_input": "2024-11-23T08:26:26.852532Z",
     "iopub.status.busy": "2024-11-23T08:26:26.852170Z",
     "iopub.status.idle": "2024-11-23T08:26:26.864193Z",
     "shell.execute_reply": "2024-11-23T08:26:26.863201Z"
    },
    "papermill": {
     "duration": 0.034477,
     "end_time": "2024-11-23T08:26:26.866264",
     "exception": false,
     "start_time": "2024-11-23T08:26:26.831787",
     "status": "completed"
    },
    "tags": []
   },
   "outputs": [
    {
     "data": {
      "text/plain": [
       "Unnamed: 0          3358\n",
       "track_id            3326\n",
       "artists             3344\n",
       "album_name          3401\n",
       "track_name          3386\n",
       "popularity             0\n",
       "duration_ms         3274\n",
       "explicit            3357\n",
       "danceability        3341\n",
       "energy              3374\n",
       "key                 3360\n",
       "loudness            3352\n",
       "mode                3451\n",
       "speechiness         3369\n",
       "acousticness        3403\n",
       "instrumentalness    3416\n",
       "liveness            3390\n",
       "valence             3406\n",
       "tempo               3418\n",
       "time_signature      3321\n",
       "track_genre         3448\n",
       "dtype: int64"
      ]
     },
     "execution_count": 31,
     "metadata": {},
     "output_type": "execute_result"
    }
   ],
   "source": [
    "df_fillna.isna().sum()"
   ]
  },
  {
   "cell_type": "markdown",
   "id": "faeb86ba",
   "metadata": {
    "papermill": {
     "duration": 0.018557,
     "end_time": "2024-11-23T08:26:26.904449",
     "exception": false,
     "start_time": "2024-11-23T08:26:26.885892",
     "status": "completed"
    },
    "tags": []
   },
   "source": [
    "2.3.1 Sayısal Değişkenlerin Doldurulması"
   ]
  },
  {
   "cell_type": "code",
   "execution_count": 32,
   "id": "cbd2462f",
   "metadata": {
    "execution": {
     "iopub.execute_input": "2024-11-23T08:26:26.961196Z",
     "iopub.status.busy": "2024-11-23T08:26:26.960593Z",
     "iopub.status.idle": "2024-11-23T08:26:26.978908Z",
     "shell.execute_reply": "2024-11-23T08:26:26.977757Z"
    },
    "papermill": {
     "duration": 0.049312,
     "end_time": "2024-11-23T08:26:26.981376",
     "exception": false,
     "start_time": "2024-11-23T08:26:26.932064",
     "status": "completed"
    },
    "tags": []
   },
   "outputs": [
    {
     "name": "stderr",
     "output_type": "stream",
     "text": [
      "/tmp/ipykernel_17/583210911.py:4: FutureWarning: A value is trying to be set on a copy of a DataFrame or Series through chained assignment using an inplace method.\n",
      "The behavior will change in pandas 3.0. This inplace method will never work because the intermediate object on which we are setting values always behaves as a copy.\n",
      "\n",
      "For example, when doing 'df[col].method(value, inplace=True)', try using 'df.method({col: value}, inplace=True)' or df[col] = df[col].method(value) instead, to perform the operation inplace on the original object.\n",
      "\n",
      "\n",
      "  df_fillna['danceability'].fillna(value = mean_danceability, inplace = True)\n"
     ]
    },
    {
     "data": {
      "text/plain": [
       "Unnamed: 0          3358\n",
       "track_id            3326\n",
       "artists             3344\n",
       "album_name          3401\n",
       "track_name          3386\n",
       "popularity             0\n",
       "duration_ms         3274\n",
       "explicit            3357\n",
       "danceability           0\n",
       "energy              3374\n",
       "key                 3360\n",
       "loudness            3352\n",
       "mode                3451\n",
       "speechiness         3369\n",
       "acousticness        3403\n",
       "instrumentalness    3416\n",
       "liveness            3390\n",
       "valence             3406\n",
       "tempo               3418\n",
       "time_signature      3321\n",
       "track_genre         3448\n",
       "dtype: int64"
      ]
     },
     "execution_count": 32,
     "metadata": {},
     "output_type": "execute_result"
    }
   ],
   "source": [
    "# Numerik bir değişkenin mean değeriyle doldurulması\n",
    "mean_danceability = df_fillna['danceability'].mean()\n",
    "\n",
    "df_fillna['danceability'].fillna(value = mean_danceability, inplace = True)\n",
    "\n",
    "df_fillna.isna().sum()"
   ]
  },
  {
   "cell_type": "code",
   "execution_count": 33,
   "id": "5f28de55",
   "metadata": {
    "execution": {
     "iopub.execute_input": "2024-11-23T08:26:27.038968Z",
     "iopub.status.busy": "2024-11-23T08:26:27.038028Z",
     "iopub.status.idle": "2024-11-23T08:26:27.060181Z",
     "shell.execute_reply": "2024-11-23T08:26:27.058887Z"
    },
    "papermill": {
     "duration": 0.058906,
     "end_time": "2024-11-23T08:26:27.062760",
     "exception": false,
     "start_time": "2024-11-23T08:26:27.003854",
     "status": "completed"
    },
    "tags": []
   },
   "outputs": [
    {
     "name": "stderr",
     "output_type": "stream",
     "text": [
      "/tmp/ipykernel_17/2093098731.py:5: FutureWarning: A value is trying to be set on a copy of a DataFrame or Series through chained assignment using an inplace method.\n",
      "The behavior will change in pandas 3.0. This inplace method will never work because the intermediate object on which we are setting values always behaves as a copy.\n",
      "\n",
      "For example, when doing 'df[col].method(value, inplace=True)', try using 'df.method({col: value}, inplace=True)' or df[col] = df[col].method(value) instead, to perform the operation inplace on the original object.\n",
      "\n",
      "\n",
      "  df_fillna[col].fillna(df[col].mean(), inplace = True)\n"
     ]
    }
   ],
   "source": [
    "# Doldurma işleminin döngüyle yapılması\n",
    "to_be_filled = numerical_features[1:]\n",
    "\n",
    "for col in to_be_filled:\n",
    "    df_fillna[col].fillna(df[col].mean(), inplace = True)"
   ]
  },
  {
   "cell_type": "code",
   "execution_count": 34,
   "id": "236b59ff",
   "metadata": {
    "execution": {
     "iopub.execute_input": "2024-11-23T08:26:27.104970Z",
     "iopub.status.busy": "2024-11-23T08:26:27.103943Z",
     "iopub.status.idle": "2024-11-23T08:26:27.116714Z",
     "shell.execute_reply": "2024-11-23T08:26:27.115601Z"
    },
    "papermill": {
     "duration": 0.036499,
     "end_time": "2024-11-23T08:26:27.118953",
     "exception": false,
     "start_time": "2024-11-23T08:26:27.082454",
     "status": "completed"
    },
    "tags": []
   },
   "outputs": [
    {
     "data": {
      "text/plain": [
       "Unnamed: 0          3358\n",
       "track_id            3326\n",
       "artists             3344\n",
       "album_name          3401\n",
       "track_name          3386\n",
       "popularity             0\n",
       "duration_ms            0\n",
       "explicit            3357\n",
       "danceability           0\n",
       "energy                 0\n",
       "key                    0\n",
       "loudness               0\n",
       "mode                   0\n",
       "speechiness            0\n",
       "acousticness           0\n",
       "instrumentalness       0\n",
       "liveness               0\n",
       "valence                0\n",
       "tempo                  0\n",
       "time_signature         0\n",
       "track_genre         3448\n",
       "dtype: int64"
      ]
     },
     "execution_count": 34,
     "metadata": {},
     "output_type": "execute_result"
    }
   ],
   "source": [
    "df_fillna.isna().sum()"
   ]
  },
  {
   "cell_type": "code",
   "execution_count": 35,
   "id": "36705d9a",
   "metadata": {
    "execution": {
     "iopub.execute_input": "2024-11-23T08:26:27.166440Z",
     "iopub.status.busy": "2024-11-23T08:26:27.166075Z",
     "iopub.status.idle": "2024-11-23T08:26:27.295492Z",
     "shell.execute_reply": "2024-11-23T08:26:27.294346Z"
    },
    "papermill": {
     "duration": 0.154262,
     "end_time": "2024-11-23T08:26:27.298423",
     "exception": false,
     "start_time": "2024-11-23T08:26:27.144161",
     "status": "completed"
    },
    "tags": []
   },
   "outputs": [
    {
     "data": {
      "text/html": [
       "<div>\n",
       "<style scoped>\n",
       "    .dataframe tbody tr th:only-of-type {\n",
       "        vertical-align: middle;\n",
       "    }\n",
       "\n",
       "    .dataframe tbody tr th {\n",
       "        vertical-align: top;\n",
       "    }\n",
       "\n",
       "    .dataframe thead th {\n",
       "        text-align: right;\n",
       "    }\n",
       "</style>\n",
       "<table border=\"1\" class=\"dataframe\">\n",
       "  <thead>\n",
       "    <tr style=\"text-align: right;\">\n",
       "      <th></th>\n",
       "      <th>count</th>\n",
       "      <th>mean</th>\n",
       "      <th>std</th>\n",
       "      <th>min</th>\n",
       "      <th>25%</th>\n",
       "      <th>50%</th>\n",
       "      <th>75%</th>\n",
       "      <th>max</th>\n",
       "    </tr>\n",
       "  </thead>\n",
       "  <tbody>\n",
       "    <tr>\n",
       "      <th>Unnamed: 0</th>\n",
       "      <td>110642.0</td>\n",
       "      <td>57011.701976</td>\n",
       "      <td>32912.912897</td>\n",
       "      <td>0.000</td>\n",
       "      <td>28501.2500</td>\n",
       "      <td>57014.500000</td>\n",
       "      <td>85520.7500</td>\n",
       "      <td>113999.000</td>\n",
       "    </tr>\n",
       "    <tr>\n",
       "      <th>popularity</th>\n",
       "      <td>110734.0</td>\n",
       "      <td>33.234472</td>\n",
       "      <td>22.307304</td>\n",
       "      <td>0.000</td>\n",
       "      <td>17.0000</td>\n",
       "      <td>35.000000</td>\n",
       "      <td>50.0000</td>\n",
       "      <td>100.000</td>\n",
       "    </tr>\n",
       "    <tr>\n",
       "      <th>duration_ms</th>\n",
       "      <td>110726.0</td>\n",
       "      <td>227964.627540</td>\n",
       "      <td>107001.540874</td>\n",
       "      <td>0.000</td>\n",
       "      <td>174066.0000</td>\n",
       "      <td>212909.000000</td>\n",
       "      <td>261519.0000</td>\n",
       "      <td>5237295.000</td>\n",
       "    </tr>\n",
       "    <tr>\n",
       "      <th>danceability</th>\n",
       "      <td>110659.0</td>\n",
       "      <td>0.566812</td>\n",
       "      <td>0.173618</td>\n",
       "      <td>0.000</td>\n",
       "      <td>0.4560</td>\n",
       "      <td>0.580000</td>\n",
       "      <td>0.6950</td>\n",
       "      <td>0.985</td>\n",
       "    </tr>\n",
       "    <tr>\n",
       "      <th>energy</th>\n",
       "      <td>110626.0</td>\n",
       "      <td>0.641429</td>\n",
       "      <td>0.251481</td>\n",
       "      <td>0.000</td>\n",
       "      <td>0.4720</td>\n",
       "      <td>0.685000</td>\n",
       "      <td>0.8540</td>\n",
       "      <td>1.000</td>\n",
       "    </tr>\n",
       "    <tr>\n",
       "      <th>key</th>\n",
       "      <td>110640.0</td>\n",
       "      <td>5.309716</td>\n",
       "      <td>3.559819</td>\n",
       "      <td>0.000</td>\n",
       "      <td>2.0000</td>\n",
       "      <td>5.000000</td>\n",
       "      <td>8.0000</td>\n",
       "      <td>11.000</td>\n",
       "    </tr>\n",
       "    <tr>\n",
       "      <th>loudness</th>\n",
       "      <td>110648.0</td>\n",
       "      <td>-8.259733</td>\n",
       "      <td>5.034470</td>\n",
       "      <td>-49.531</td>\n",
       "      <td>-10.0120</td>\n",
       "      <td>-7.004000</td>\n",
       "      <td>-5.0000</td>\n",
       "      <td>4.532</td>\n",
       "    </tr>\n",
       "    <tr>\n",
       "      <th>mode</th>\n",
       "      <td>110549.0</td>\n",
       "      <td>0.637618</td>\n",
       "      <td>0.480691</td>\n",
       "      <td>0.000</td>\n",
       "      <td>0.0000</td>\n",
       "      <td>1.000000</td>\n",
       "      <td>1.0000</td>\n",
       "      <td>1.000</td>\n",
       "    </tr>\n",
       "    <tr>\n",
       "      <th>speechiness</th>\n",
       "      <td>110631.0</td>\n",
       "      <td>0.084545</td>\n",
       "      <td>0.105461</td>\n",
       "      <td>0.000</td>\n",
       "      <td>0.0359</td>\n",
       "      <td>0.048900</td>\n",
       "      <td>0.0845</td>\n",
       "      <td>0.965</td>\n",
       "    </tr>\n",
       "    <tr>\n",
       "      <th>acousticness</th>\n",
       "      <td>110597.0</td>\n",
       "      <td>0.314974</td>\n",
       "      <td>0.332527</td>\n",
       "      <td>0.000</td>\n",
       "      <td>0.0169</td>\n",
       "      <td>0.169000</td>\n",
       "      <td>0.5980</td>\n",
       "      <td>0.996</td>\n",
       "    </tr>\n",
       "    <tr>\n",
       "      <th>instrumentalness</th>\n",
       "      <td>110584.0</td>\n",
       "      <td>0.156025</td>\n",
       "      <td>0.309550</td>\n",
       "      <td>0.000</td>\n",
       "      <td>0.0000</td>\n",
       "      <td>0.000042</td>\n",
       "      <td>0.0489</td>\n",
       "      <td>1.000</td>\n",
       "    </tr>\n",
       "    <tr>\n",
       "      <th>liveness</th>\n",
       "      <td>110610.0</td>\n",
       "      <td>0.213393</td>\n",
       "      <td>0.190249</td>\n",
       "      <td>0.000</td>\n",
       "      <td>0.0980</td>\n",
       "      <td>0.132000</td>\n",
       "      <td>0.2730</td>\n",
       "      <td>1.000</td>\n",
       "    </tr>\n",
       "    <tr>\n",
       "      <th>valence</th>\n",
       "      <td>110594.0</td>\n",
       "      <td>0.474130</td>\n",
       "      <td>0.259244</td>\n",
       "      <td>0.000</td>\n",
       "      <td>0.2590</td>\n",
       "      <td>0.464000</td>\n",
       "      <td>0.6830</td>\n",
       "      <td>0.995</td>\n",
       "    </tr>\n",
       "    <tr>\n",
       "      <th>tempo</th>\n",
       "      <td>110582.0</td>\n",
       "      <td>122.157132</td>\n",
       "      <td>29.970544</td>\n",
       "      <td>0.000</td>\n",
       "      <td>99.2130</td>\n",
       "      <td>122.020000</td>\n",
       "      <td>140.0730</td>\n",
       "      <td>243.372</td>\n",
       "    </tr>\n",
       "    <tr>\n",
       "      <th>time_signature</th>\n",
       "      <td>110679.0</td>\n",
       "      <td>3.903966</td>\n",
       "      <td>0.432617</td>\n",
       "      <td>0.000</td>\n",
       "      <td>4.0000</td>\n",
       "      <td>4.000000</td>\n",
       "      <td>4.0000</td>\n",
       "      <td>5.000</td>\n",
       "    </tr>\n",
       "  </tbody>\n",
       "</table>\n",
       "</div>"
      ],
      "text/plain": [
       "                     count           mean            std     min          25%  \\\n",
       "Unnamed: 0        110642.0   57011.701976   32912.912897   0.000   28501.2500   \n",
       "popularity        110734.0      33.234472      22.307304   0.000      17.0000   \n",
       "duration_ms       110726.0  227964.627540  107001.540874   0.000  174066.0000   \n",
       "danceability      110659.0       0.566812       0.173618   0.000       0.4560   \n",
       "energy            110626.0       0.641429       0.251481   0.000       0.4720   \n",
       "key               110640.0       5.309716       3.559819   0.000       2.0000   \n",
       "loudness          110648.0      -8.259733       5.034470 -49.531     -10.0120   \n",
       "mode              110549.0       0.637618       0.480691   0.000       0.0000   \n",
       "speechiness       110631.0       0.084545       0.105461   0.000       0.0359   \n",
       "acousticness      110597.0       0.314974       0.332527   0.000       0.0169   \n",
       "instrumentalness  110584.0       0.156025       0.309550   0.000       0.0000   \n",
       "liveness          110610.0       0.213393       0.190249   0.000       0.0980   \n",
       "valence           110594.0       0.474130       0.259244   0.000       0.2590   \n",
       "tempo             110582.0     122.157132      29.970544   0.000      99.2130   \n",
       "time_signature    110679.0       3.903966       0.432617   0.000       4.0000   \n",
       "\n",
       "                            50%          75%          max  \n",
       "Unnamed: 0         57014.500000   85520.7500   113999.000  \n",
       "popularity            35.000000      50.0000      100.000  \n",
       "duration_ms       212909.000000  261519.0000  5237295.000  \n",
       "danceability           0.580000       0.6950        0.985  \n",
       "energy                 0.685000       0.8540        1.000  \n",
       "key                    5.000000       8.0000       11.000  \n",
       "loudness              -7.004000      -5.0000        4.532  \n",
       "mode                   1.000000       1.0000        1.000  \n",
       "speechiness            0.048900       0.0845        0.965  \n",
       "acousticness           0.169000       0.5980        0.996  \n",
       "instrumentalness       0.000042       0.0489        1.000  \n",
       "liveness               0.132000       0.2730        1.000  \n",
       "valence                0.464000       0.6830        0.995  \n",
       "tempo                122.020000     140.0730      243.372  \n",
       "time_signature         4.000000       4.0000        5.000  "
      ]
     },
     "execution_count": 35,
     "metadata": {},
     "output_type": "execute_result"
    }
   ],
   "source": [
    "df.describe().T"
   ]
  },
  {
   "cell_type": "markdown",
   "id": "5a6576b4",
   "metadata": {
    "papermill": {
     "duration": 0.019311,
     "end_time": "2024-11-23T08:26:27.345575",
     "exception": false,
     "start_time": "2024-11-23T08:26:27.326264",
     "status": "completed"
    },
    "tags": []
   },
   "source": [
    "Doldurma işlemini mean yerine median değer ile de gerçekleştirebiliriz, ancak bunu kuyruklu (skewed) dağılımlarda yapmayı tercih ediyoruz."
   ]
  },
  {
   "cell_type": "code",
   "execution_count": 36,
   "id": "82db84a0",
   "metadata": {
    "execution": {
     "iopub.execute_input": "2024-11-23T08:26:27.392352Z",
     "iopub.status.busy": "2024-11-23T08:26:27.391455Z",
     "iopub.status.idle": "2024-11-23T08:26:27.594975Z",
     "shell.execute_reply": "2024-11-23T08:26:27.593868Z"
    },
    "papermill": {
     "duration": 0.231763,
     "end_time": "2024-11-23T08:26:27.597748",
     "exception": false,
     "start_time": "2024-11-23T08:26:27.365985",
     "status": "completed"
    },
    "tags": []
   },
   "outputs": [
    {
     "data": {
      "image/png": "[encoded data removed]",
      "text/plain": [
       "<Figure size 640x480 with 1 Axes>"
      ]
     },
     "metadata": {},
     "output_type": "display_data"
    }
   ],
   "source": [
    "# Bir sayısal değişkenin dağılımını görmek için histogram kullanabiliriz.\n",
    "plt.hist(df['popularity'])\n",
    "plt.show()"
   ]
  },
  {
   "cell_type": "markdown",
   "id": "f3cea299",
   "metadata": {
    "papermill": {
     "duration": 0.019723,
     "end_time": "2024-11-23T08:26:27.644097",
     "exception": false,
     "start_time": "2024-11-23T08:26:27.624374",
     "status": "completed"
    },
    "tags": []
   },
   "source": [
    "2.3.2 Kategorik Değişkenlerin Doldurulması"
   ]
  },
  {
   "cell_type": "code",
   "execution_count": 37,
   "id": "379c849f",
   "metadata": {
    "execution": {
     "iopub.execute_input": "2024-11-23T08:26:27.686844Z",
     "iopub.status.busy": "2024-11-23T08:26:27.686378Z",
     "iopub.status.idle": "2024-11-23T08:26:27.707403Z",
     "shell.execute_reply": "2024-11-23T08:26:27.706324Z"
    },
    "papermill": {
     "duration": 0.045679,
     "end_time": "2024-11-23T08:26:27.709598",
     "exception": false,
     "start_time": "2024-11-23T08:26:27.663919",
     "status": "completed"
    },
    "tags": []
   },
   "outputs": [
    {
     "data": {
      "text/plain": [
       "Unnamed: 0          3358\n",
       "track_id            3326\n",
       "artists             3344\n",
       "album_name          3401\n",
       "track_name             0\n",
       "popularity             0\n",
       "duration_ms            0\n",
       "explicit            3357\n",
       "danceability           0\n",
       "energy                 0\n",
       "key                    0\n",
       "loudness               0\n",
       "mode                   0\n",
       "speechiness            0\n",
       "acousticness           0\n",
       "instrumentalness       0\n",
       "liveness               0\n",
       "valence                0\n",
       "tempo                  0\n",
       "time_signature         0\n",
       "track_genre         3448\n",
       "dtype: int64"
      ]
     },
     "execution_count": 37,
     "metadata": {},
     "output_type": "execute_result"
    }
   ],
   "source": [
    "# Kategorik bir değişkenin mode değeriyle doldurulması\n",
    "\n",
    "# track_name değişkeninde toplam kaç adet eksik değer olduğunu görelim.\n",
    "df_fillna['track_name'].isna().sum()\n",
    "\n",
    "# track_name değişkeninde en çok tekrar eden değeri(mode) alalım.\n",
    "track_name_mode = df_fillna['track_name'].mode()\n",
    "\n",
    "# work_setting değişkenini mode değeri ile dolduralım.\n",
    "df_fillna['track_name'] = df_fillna['track_name'].fillna(value = track_name_mode[0])\n",
    "\n",
    "# track_name değişkeninde toplam kaç adet eksik değer olduğunu tekrar görelim.\n",
    "df_fillna.isna().sum()"
   ]
  },
  {
   "cell_type": "code",
   "execution_count": 38,
   "id": "c7d855d4",
   "metadata": {
    "execution": {
     "iopub.execute_input": "2024-11-23T08:26:27.803783Z",
     "iopub.status.busy": "2024-11-23T08:26:27.803303Z",
     "iopub.status.idle": "2024-11-23T08:26:27.816678Z",
     "shell.execute_reply": "2024-11-23T08:26:27.815555Z"
    },
    "papermill": {
     "duration": 0.088857,
     "end_time": "2024-11-23T08:26:27.818897",
     "exception": false,
     "start_time": "2024-11-23T08:26:27.730040",
     "status": "completed"
    },
    "tags": []
   },
   "outputs": [
    {
     "data": {
      "text/html": [
       "<div>\n",
       "<style scoped>\n",
       "    .dataframe tbody tr th:only-of-type {\n",
       "        vertical-align: middle;\n",
       "    }\n",
       "\n",
       "    .dataframe tbody tr th {\n",
       "        vertical-align: top;\n",
       "    }\n",
       "\n",
       "    .dataframe thead th {\n",
       "        text-align: right;\n",
       "    }\n",
       "</style>\n",
       "<table border=\"1\" class=\"dataframe\">\n",
       "  <thead>\n",
       "    <tr style=\"text-align: right;\">\n",
       "      <th></th>\n",
       "      <th>album_name</th>\n",
       "    </tr>\n",
       "  </thead>\n",
       "  <tbody>\n",
       "    <tr>\n",
       "      <th>0</th>\n",
       "      <td>Comedy</td>\n",
       "    </tr>\n",
       "    <tr>\n",
       "      <th>1</th>\n",
       "      <td>Ghost (Acoustic)</td>\n",
       "    </tr>\n",
       "    <tr>\n",
       "      <th>2</th>\n",
       "      <td>To Begin Again</td>\n",
       "    </tr>\n",
       "    <tr>\n",
       "      <th>3</th>\n",
       "      <td>Crazy Rich Asians (Original Motion Picture Sou...</td>\n",
       "    </tr>\n",
       "    <tr>\n",
       "      <th>4</th>\n",
       "      <td>Hold On</td>\n",
       "    </tr>\n",
       "    <tr>\n",
       "      <th>5</th>\n",
       "      <td>Days I Will Remember</td>\n",
       "    </tr>\n",
       "    <tr>\n",
       "      <th>6</th>\n",
       "      <td>Is There Anybody Out There?</td>\n",
       "    </tr>\n",
       "    <tr>\n",
       "      <th>7</th>\n",
       "      <td>We Sing. We Dance. We Steal Things.</td>\n",
       "    </tr>\n",
       "    <tr>\n",
       "      <th>8</th>\n",
       "      <td>We Sing. We Dance. We Steal Things.</td>\n",
       "    </tr>\n",
       "    <tr>\n",
       "      <th>9</th>\n",
       "      <td>Hunger</td>\n",
       "    </tr>\n",
       "    <tr>\n",
       "      <th>10</th>\n",
       "      <td>Episode</td>\n",
       "    </tr>\n",
       "    <tr>\n",
       "      <th>11</th>\n",
       "      <td>Love Is a Four Letter Word</td>\n",
       "    </tr>\n",
       "    <tr>\n",
       "      <th>12</th>\n",
       "      <td>Solo</td>\n",
       "    </tr>\n",
       "    <tr>\n",
       "      <th>13</th>\n",
       "      <td>Bad Liar</td>\n",
       "    </tr>\n",
       "    <tr>\n",
       "      <th>14</th>\n",
       "      <td>Hold On (Remix)</td>\n",
       "    </tr>\n",
       "    <tr>\n",
       "      <th>15</th>\n",
       "      <td>The Boy Who Never</td>\n",
       "    </tr>\n",
       "    <tr>\n",
       "      <th>16</th>\n",
       "      <td>ily (i love you baby)</td>\n",
       "    </tr>\n",
       "    <tr>\n",
       "      <th>17</th>\n",
       "      <td>At My Worst</td>\n",
       "    </tr>\n",
       "    <tr>\n",
       "      <th>18</th>\n",
       "      <td>We Sing. We Dance. We Steal Things.</td>\n",
       "    </tr>\n",
       "    <tr>\n",
       "      <th>19</th>\n",
       "      <td>Cover Sessions, Vol. 4</td>\n",
       "    </tr>\n",
       "  </tbody>\n",
       "</table>\n",
       "</div>"
      ],
      "text/plain": [
       "                                           album_name\n",
       "0                                              Comedy\n",
       "1                                    Ghost (Acoustic)\n",
       "2                                      To Begin Again\n",
       "3   Crazy Rich Asians (Original Motion Picture Sou...\n",
       "4                                             Hold On\n",
       "5                                Days I Will Remember\n",
       "6                         Is There Anybody Out There?\n",
       "7                 We Sing. We Dance. We Steal Things.\n",
       "8                 We Sing. We Dance. We Steal Things.\n",
       "9                                              Hunger\n",
       "10                                            Episode\n",
       "11                         Love Is a Four Letter Word\n",
       "12                                               Solo\n",
       "13                                           Bad Liar\n",
       "14                                    Hold On (Remix)\n",
       "15                                  The Boy Who Never\n",
       "16                              ily (i love you baby)\n",
       "17                                        At My Worst\n",
       "18                We Sing. We Dance. We Steal Things.\n",
       "19                             Cover Sessions, Vol. 4"
      ]
     },
     "execution_count": 38,
     "metadata": {},
     "output_type": "execute_result"
    }
   ],
   "source": [
    "df_fillna[[\"album_name\"]][:20]"
   ]
  },
  {
   "cell_type": "code",
   "execution_count": 39,
   "id": "88705ac2",
   "metadata": {
    "execution": {
     "iopub.execute_input": "2024-11-23T08:26:27.862343Z",
     "iopub.status.busy": "2024-11-23T08:26:27.861822Z",
     "iopub.status.idle": "2024-11-23T08:26:27.876101Z",
     "shell.execute_reply": "2024-11-23T08:26:27.875120Z"
    },
    "papermill": {
     "duration": 0.039107,
     "end_time": "2024-11-23T08:26:27.879211",
     "exception": false,
     "start_time": "2024-11-23T08:26:27.840104",
     "status": "completed"
    },
    "tags": []
   },
   "outputs": [
    {
     "name": "stderr",
     "output_type": "stream",
     "text": [
      "/tmp/ipykernel_17/161892128.py:2: FutureWarning: Series.fillna with 'method' is deprecated and will raise in a future version. Use obj.ffill() or obj.bfill() instead.\n",
      "  df_fillna[\"album_name\"].fillna(method = \"bfill\")\n"
     ]
    },
    {
     "data": {
      "text/plain": [
       "0                                                    Comedy\n",
       "1                                          Ghost (Acoustic)\n",
       "2                                            To Begin Again\n",
       "3         Crazy Rich Asians (Original Motion Picture Sou...\n",
       "4                                                   Hold On\n",
       "                                ...                        \n",
       "113995    #mindfulness - Soft Rain for Mindful Meditatio...\n",
       "113996    #mindfulness - Soft Rain for Mindful Meditatio...\n",
       "113997                                              Best Of\n",
       "113998                                    Change Your World\n",
       "113999                                       Miss Perfumado\n",
       "Name: album_name, Length: 114000, dtype: category\n",
       "Categories (45727, object): ['! ! ! ! ! Whispers ! ! ! ! !', '! ! ! ! 300 Sounds of the Ocean ! ! ! !', '! ! % > (( Shelter )) < % ! !', '! !\"#Reboot#\"! !', ..., '공감 (Empathy) - The 1st Mini Album', '당신이 잠든 사이에 Pt. 1 Original Television Soundtrack', '당신이 잠든 사이에 Pt. 2 Original Television Soundtrack', '당신이 잠든 사이에 Pt. 4 Original Television Soundtrack']"
      ]
     },
     "execution_count": 39,
     "metadata": {},
     "output_type": "execute_result"
    }
   ],
   "source": [
    "# Önceki değer ile doldurma işlemi\n",
    "df_fillna[\"album_name\"].fillna(method = \"bfill\")"
   ]
  },
  {
   "cell_type": "code",
   "execution_count": 40,
   "id": "5cb66cce",
   "metadata": {
    "execution": {
     "iopub.execute_input": "2024-11-23T08:26:27.929621Z",
     "iopub.status.busy": "2024-11-23T08:26:27.929107Z",
     "iopub.status.idle": "2024-11-23T08:26:27.941256Z",
     "shell.execute_reply": "2024-11-23T08:26:27.940066Z"
    },
    "papermill": {
     "duration": 0.037182,
     "end_time": "2024-11-23T08:26:27.943716",
     "exception": false,
     "start_time": "2024-11-23T08:26:27.906534",
     "status": "completed"
    },
    "tags": []
   },
   "outputs": [
    {
     "name": "stderr",
     "output_type": "stream",
     "text": [
      "/tmp/ipykernel_17/2416085816.py:2: FutureWarning: Series.fillna with 'method' is deprecated and will raise in a future version. Use obj.ffill() or obj.bfill() instead.\n",
      "  df_fillna[\"album_name\"].fillna(method = \"ffill\")\n"
     ]
    },
    {
     "data": {
      "text/plain": [
       "0                                                    Comedy\n",
       "1                                          Ghost (Acoustic)\n",
       "2                                            To Begin Again\n",
       "3         Crazy Rich Asians (Original Motion Picture Sou...\n",
       "4                                                   Hold On\n",
       "                                ...                        \n",
       "113995    #mindfulness - Soft Rain for Mindful Meditatio...\n",
       "113996    #mindfulness - Soft Rain for Mindful Meditatio...\n",
       "113997                                              Best Of\n",
       "113998                                    Change Your World\n",
       "113999                                       Miss Perfumado\n",
       "Name: album_name, Length: 114000, dtype: category\n",
       "Categories (45727, object): ['! ! ! ! ! Whispers ! ! ! ! !', '! ! ! ! 300 Sounds of the Ocean ! ! ! !', '! ! % > (( Shelter )) < % ! !', '! !\"#Reboot#\"! !', ..., '공감 (Empathy) - The 1st Mini Album', '당신이 잠든 사이에 Pt. 1 Original Television Soundtrack', '당신이 잠든 사이에 Pt. 2 Original Television Soundtrack', '당신이 잠든 사이에 Pt. 4 Original Television Soundtrack']"
      ]
     },
     "execution_count": 40,
     "metadata": {},
     "output_type": "execute_result"
    }
   ],
   "source": [
    "# Sonraki değer ile doldurma işlemi\n",
    "df_fillna[\"album_name\"].fillna(method = \"ffill\")"
   ]
  },
  {
   "cell_type": "markdown",
   "id": "a8aba12b",
   "metadata": {
    "papermill": {
     "duration": 0.020483,
     "end_time": "2024-11-23T08:26:27.985762",
     "exception": false,
     "start_time": "2024-11-23T08:26:27.965279",
     "status": "completed"
    },
    "tags": []
   },
   "source": [
    "2.3.3 Kategorik Kırılım İle Doldurma İşlemi\r\n",
    "Burada basitçe mean ve median değerler ile doldurma işlemi yapmış olsak da, eksik veri durumunu bu kadar basit bir şekilde ele almak her zaman doğru olmayacaktır. Bu tarz basit doldurma işlemleri hızlı bir çözüm olarak ele alınmalıdır. Daha analitik bir yaklaşım için veri içerisinde benzetimler uygulayarak doldurma işlemlerini buna göre gerçekleştirebiliriz.\r\n",
    "\r\n",
    "Örneğin elimizdeki salary kolonunu basitçe mean değer ile doldurmuştuk. Ancak biz biliyoruz ki elimizde job_title isimli bir kolon var ve bu kolonda farklı pozisyonlar yer almakta. Bu durumda örneğin Data Engineer pozisyonuna ait eksik bir maaş verisini, veri setimizdeki Data Engineer pozisyonlarına ait maaşların ortalama (veya median) değeriyle doldurmamız daha doğru bir yaklaşım olacaktır. Çünkü farklı pozisyonların farklı maaş ortalamaları olacağı için, eksik maaş verisini o kaydın ait olduğu grubun istatistiksel değerine göre doldurmak daha doğrudur."
   ]
  },
  {
   "cell_type": "code",
   "execution_count": 41,
   "id": "a948529f",
   "metadata": {
    "execution": {
     "iopub.execute_input": "2024-11-23T08:26:28.030066Z",
     "iopub.status.busy": "2024-11-23T08:26:28.029669Z",
     "iopub.status.idle": "2024-11-23T08:26:28.051638Z",
     "shell.execute_reply": "2024-11-23T08:26:28.050553Z"
    },
    "papermill": {
     "duration": 0.046409,
     "end_time": "2024-11-23T08:26:28.053808",
     "exception": false,
     "start_time": "2024-11-23T08:26:28.007399",
     "status": "completed"
    },
    "tags": []
   },
   "outputs": [
    {
     "data": {
      "text/plain": [
       "Unnamed: 0          3358\n",
       "track_id            3326\n",
       "artists             3344\n",
       "album_name          3401\n",
       "track_name          3386\n",
       "popularity          3266\n",
       "duration_ms         3274\n",
       "explicit            3357\n",
       "danceability        3341\n",
       "energy              3374\n",
       "key                 3360\n",
       "loudness            3352\n",
       "mode                3451\n",
       "speechiness         3369\n",
       "acousticness        3403\n",
       "instrumentalness    3416\n",
       "liveness            3390\n",
       "valence             3406\n",
       "tempo               3418\n",
       "time_signature      3321\n",
       "track_genre         3448\n",
       "dtype: int64"
      ]
     },
     "execution_count": 41,
     "metadata": {},
     "output_type": "execute_result"
    }
   ],
   "source": [
    "df_categorical_fillna = df.copy()\n",
    "\n",
    "df_categorical_fillna.isna().sum()"
   ]
  },
  {
   "cell_type": "code",
   "execution_count": 42,
   "id": "d072e6b8",
   "metadata": {
    "execution": {
     "iopub.execute_input": "2024-11-23T08:26:28.098097Z",
     "iopub.status.busy": "2024-11-23T08:26:28.097595Z",
     "iopub.status.idle": "2024-11-23T08:26:28.102664Z",
     "shell.execute_reply": "2024-11-23T08:26:28.101659Z"
    },
    "papermill": {
     "duration": 0.030002,
     "end_time": "2024-11-23T08:26:28.104800",
     "exception": false,
     "start_time": "2024-11-23T08:26:28.074798",
     "status": "completed"
    },
    "tags": []
   },
   "outputs": [],
   "source": [
    "# Bu kodun ne yaptığını kodu çalıştırarak keşfedin.\n",
    "\n",
    "#loudness_mean_time_signature_df = df_categorical_fillna.groupby(\"loudness\", observed = False)[\"time_signature\"].mean().to_frame()"
   ]
  },
  {
   "cell_type": "code",
   "execution_count": 43,
   "id": "7dfbce25",
   "metadata": {
    "execution": {
     "iopub.execute_input": "2024-11-23T08:26:28.148598Z",
     "iopub.status.busy": "2024-11-23T08:26:28.148141Z",
     "iopub.status.idle": "2024-11-23T08:26:28.169559Z",
     "shell.execute_reply": "2024-11-23T08:26:28.168314Z"
    },
    "papermill": {
     "duration": 0.04634,
     "end_time": "2024-11-23T08:26:28.171971",
     "exception": false,
     "start_time": "2024-11-23T08:26:28.125631",
     "status": "completed"
    },
    "tags": []
   },
   "outputs": [
    {
     "name": "stderr",
     "output_type": "stream",
     "text": [
      "/tmp/ipykernel_17/734057794.py:1: FutureWarning: A value is trying to be set on a copy of a DataFrame or Series through chained assignment using an inplace method.\n",
      "The behavior will change in pandas 3.0. This inplace method will never work because the intermediate object on which we are setting values always behaves as a copy.\n",
      "\n",
      "For example, when doing 'df[col].method(value, inplace=True)', try using 'df.method({col: value}, inplace=True)' or df[col] = df[col].method(value) instead, to perform the operation inplace on the original object.\n",
      "\n",
      "\n",
      "  df_categorical_fillna[\"time_signature\"].fillna(value = df_categorical_fillna.groupby(\"loudness\")[\"time_signature\"].transform(\"mean\"),\n"
     ]
    }
   ],
   "source": [
    "df_categorical_fillna[\"time_signature\"].fillna(value = df_categorical_fillna.groupby(\"loudness\")[\"time_signature\"].transform(\"mean\"),\n",
    "                                       inplace = True)"
   ]
  },
  {
   "cell_type": "code",
   "execution_count": 44,
   "id": "7352428b",
   "metadata": {
    "execution": {
     "iopub.execute_input": "2024-11-23T08:26:28.215966Z",
     "iopub.status.busy": "2024-11-23T08:26:28.215494Z",
     "iopub.status.idle": "2024-11-23T08:26:28.230190Z",
     "shell.execute_reply": "2024-11-23T08:26:28.229044Z"
    },
    "papermill": {
     "duration": 0.039562,
     "end_time": "2024-11-23T08:26:28.232512",
     "exception": false,
     "start_time": "2024-11-23T08:26:28.192950",
     "status": "completed"
    },
    "tags": []
   },
   "outputs": [
    {
     "data": {
      "text/plain": [
       "Unnamed: 0          3358\n",
       "track_id            3326\n",
       "artists             3344\n",
       "album_name          3401\n",
       "track_name          3386\n",
       "popularity          3266\n",
       "duration_ms         3274\n",
       "explicit            3357\n",
       "danceability        3341\n",
       "energy              3374\n",
       "key                 3360\n",
       "loudness            3352\n",
       "mode                3451\n",
       "speechiness         3369\n",
       "acousticness        3403\n",
       "instrumentalness    3416\n",
       "liveness            3390\n",
       "valence             3406\n",
       "tempo               3418\n",
       "time_signature       252\n",
       "track_genre         3448\n",
       "dtype: int64"
      ]
     },
     "execution_count": 44,
     "metadata": {},
     "output_type": "execute_result"
    }
   ],
   "source": [
    "df_categorical_fillna.isna().sum()"
   ]
  },
  {
   "cell_type": "code",
   "execution_count": 45,
   "id": "2d20e795",
   "metadata": {
    "execution": {
     "iopub.execute_input": "2024-11-23T08:26:28.278567Z",
     "iopub.status.busy": "2024-11-23T08:26:28.278060Z",
     "iopub.status.idle": "2024-11-23T08:26:28.294137Z",
     "shell.execute_reply": "2024-11-23T08:26:28.292901Z"
    },
    "papermill": {
     "duration": 0.041785,
     "end_time": "2024-11-23T08:26:28.296464",
     "exception": false,
     "start_time": "2024-11-23T08:26:28.254679",
     "status": "completed"
    },
    "tags": []
   },
   "outputs": [
    {
     "data": {
      "text/html": [
       "<div>\n",
       "<style scoped>\n",
       "    .dataframe tbody tr th:only-of-type {\n",
       "        vertical-align: middle;\n",
       "    }\n",
       "\n",
       "    .dataframe tbody tr th {\n",
       "        vertical-align: top;\n",
       "    }\n",
       "\n",
       "    .dataframe thead th {\n",
       "        text-align: right;\n",
       "    }\n",
       "</style>\n",
       "<table border=\"1\" class=\"dataframe\">\n",
       "  <thead>\n",
       "    <tr style=\"text-align: right;\">\n",
       "      <th></th>\n",
       "      <th>loudness</th>\n",
       "      <th>time_signature</th>\n",
       "    </tr>\n",
       "  </thead>\n",
       "  <tbody>\n",
       "    <tr>\n",
       "      <th>750</th>\n",
       "      <td>NaN</td>\n",
       "      <td>NaN</td>\n",
       "    </tr>\n",
       "    <tr>\n",
       "      <th>772</th>\n",
       "      <td>NaN</td>\n",
       "      <td>NaN</td>\n",
       "    </tr>\n",
       "    <tr>\n",
       "      <th>1096</th>\n",
       "      <td>NaN</td>\n",
       "      <td>NaN</td>\n",
       "    </tr>\n",
       "    <tr>\n",
       "      <th>1312</th>\n",
       "      <td>NaN</td>\n",
       "      <td>NaN</td>\n",
       "    </tr>\n",
       "    <tr>\n",
       "      <th>1400</th>\n",
       "      <td>NaN</td>\n",
       "      <td>NaN</td>\n",
       "    </tr>\n",
       "    <tr>\n",
       "      <th>...</th>\n",
       "      <td>...</td>\n",
       "      <td>...</td>\n",
       "    </tr>\n",
       "    <tr>\n",
       "      <th>109982</th>\n",
       "      <td>NaN</td>\n",
       "      <td>NaN</td>\n",
       "    </tr>\n",
       "    <tr>\n",
       "      <th>111012</th>\n",
       "      <td>NaN</td>\n",
       "      <td>NaN</td>\n",
       "    </tr>\n",
       "    <tr>\n",
       "      <th>112868</th>\n",
       "      <td>NaN</td>\n",
       "      <td>NaN</td>\n",
       "    </tr>\n",
       "    <tr>\n",
       "      <th>112883</th>\n",
       "      <td>NaN</td>\n",
       "      <td>NaN</td>\n",
       "    </tr>\n",
       "    <tr>\n",
       "      <th>113959</th>\n",
       "      <td>NaN</td>\n",
       "      <td>NaN</td>\n",
       "    </tr>\n",
       "  </tbody>\n",
       "</table>\n",
       "<p>96 rows × 2 columns</p>\n",
       "</div>"
      ],
      "text/plain": [
       "        loudness  time_signature\n",
       "750          NaN             NaN\n",
       "772          NaN             NaN\n",
       "1096         NaN             NaN\n",
       "1312         NaN             NaN\n",
       "1400         NaN             NaN\n",
       "...          ...             ...\n",
       "109982       NaN             NaN\n",
       "111012       NaN             NaN\n",
       "112868       NaN             NaN\n",
       "112883       NaN             NaN\n",
       "113959       NaN             NaN\n",
       "\n",
       "[96 rows x 2 columns]"
      ]
     },
     "execution_count": 45,
     "metadata": {},
     "output_type": "execute_result"
    }
   ],
   "source": [
    "df_categorical_fillna[df_categorical_fillna[[\"loudness\", \"time_signature\"]].isna().all(axis=1)][[\"loudness\", \"time_signature\"]]"
   ]
  },
  {
   "cell_type": "code",
   "execution_count": 46,
   "id": "72690cc2",
   "metadata": {
    "execution": {
     "iopub.execute_input": "2024-11-23T08:26:28.340829Z",
     "iopub.status.busy": "2024-11-23T08:26:28.340462Z",
     "iopub.status.idle": "2024-11-23T08:26:28.371539Z",
     "shell.execute_reply": "2024-11-23T08:26:28.370364Z"
    },
    "papermill": {
     "duration": 0.055912,
     "end_time": "2024-11-23T08:26:28.373835",
     "exception": false,
     "start_time": "2024-11-23T08:26:28.317923",
     "status": "completed"
    },
    "tags": []
   },
   "outputs": [
    {
     "data": {
      "text/html": [
       "<div>\n",
       "<style scoped>\n",
       "    .dataframe tbody tr th:only-of-type {\n",
       "        vertical-align: middle;\n",
       "    }\n",
       "\n",
       "    .dataframe tbody tr th {\n",
       "        vertical-align: top;\n",
       "    }\n",
       "\n",
       "    .dataframe thead th {\n",
       "        text-align: right;\n",
       "    }\n",
       "</style>\n",
       "<table border=\"1\" class=\"dataframe\">\n",
       "  <thead>\n",
       "    <tr style=\"text-align: right;\">\n",
       "      <th></th>\n",
       "      <th>Unnamed: 0</th>\n",
       "      <th>track_id</th>\n",
       "      <th>artists</th>\n",
       "      <th>album_name</th>\n",
       "      <th>track_name</th>\n",
       "      <th>popularity</th>\n",
       "      <th>duration_ms</th>\n",
       "      <th>explicit</th>\n",
       "      <th>danceability</th>\n",
       "      <th>energy</th>\n",
       "      <th>...</th>\n",
       "      <th>loudness</th>\n",
       "      <th>mode</th>\n",
       "      <th>speechiness</th>\n",
       "      <th>acousticness</th>\n",
       "      <th>instrumentalness</th>\n",
       "      <th>liveness</th>\n",
       "      <th>valence</th>\n",
       "      <th>tempo</th>\n",
       "      <th>time_signature</th>\n",
       "      <th>track_genre</th>\n",
       "    </tr>\n",
       "  </thead>\n",
       "  <tbody>\n",
       "    <tr>\n",
       "      <th>301</th>\n",
       "      <td>301.0</td>\n",
       "      <td>4j0xGuo8Z47wfBiVunT6VR</td>\n",
       "      <td>Rachael Yamagata</td>\n",
       "      <td>One Spring Night (Original Television Soundtra...</td>\n",
       "      <td>We Could Still Be Happy</td>\n",
       "      <td>43.0</td>\n",
       "      <td>279260.0</td>\n",
       "      <td>False</td>\n",
       "      <td>0.513</td>\n",
       "      <td>0.3170</td>\n",
       "      <td>...</td>\n",
       "      <td>-17.036</td>\n",
       "      <td>1.0</td>\n",
       "      <td>0.0363</td>\n",
       "      <td>0.3650</td>\n",
       "      <td>0.003000</td>\n",
       "      <td>0.1180</td>\n",
       "      <td>0.17700</td>\n",
       "      <td>84.853</td>\n",
       "      <td>NaN</td>\n",
       "      <td>acoustic</td>\n",
       "    </tr>\n",
       "    <tr>\n",
       "      <th>402</th>\n",
       "      <td>402.0</td>\n",
       "      <td>7AKxbxzkxm2ERWrd1ggniO</td>\n",
       "      <td>Ichiko Aoba</td>\n",
       "      <td>Asleep Among Endives</td>\n",
       "      <td>Asleep Among Endives</td>\n",
       "      <td>58.0</td>\n",
       "      <td>306243.0</td>\n",
       "      <td>False</td>\n",
       "      <td>0.451</td>\n",
       "      <td>0.0318</td>\n",
       "      <td>...</td>\n",
       "      <td>-19.933</td>\n",
       "      <td>0.0</td>\n",
       "      <td>0.0421</td>\n",
       "      <td>0.9830</td>\n",
       "      <td>0.053200</td>\n",
       "      <td>0.0989</td>\n",
       "      <td>0.14800</td>\n",
       "      <td>123.985</td>\n",
       "      <td>NaN</td>\n",
       "      <td>acoustic</td>\n",
       "    </tr>\n",
       "    <tr>\n",
       "      <th>750</th>\n",
       "      <td>750.0</td>\n",
       "      <td>0N8Xztr4pBHJ7V0moJWhbO</td>\n",
       "      <td>Aimyon</td>\n",
       "      <td>青春のエキサイトメント</td>\n",
       "      <td>愛を伝えたいだとか</td>\n",
       "      <td>65.0</td>\n",
       "      <td>235240.0</td>\n",
       "      <td>False</td>\n",
       "      <td>0.673</td>\n",
       "      <td>0.8500</td>\n",
       "      <td>...</td>\n",
       "      <td>NaN</td>\n",
       "      <td>1.0</td>\n",
       "      <td>0.0337</td>\n",
       "      <td>0.0345</td>\n",
       "      <td>0.000011</td>\n",
       "      <td>0.0943</td>\n",
       "      <td>0.79300</td>\n",
       "      <td>100.008</td>\n",
       "      <td>NaN</td>\n",
       "      <td>acoustic</td>\n",
       "    </tr>\n",
       "    <tr>\n",
       "      <th>772</th>\n",
       "      <td>772.0</td>\n",
       "      <td>4OaLdPqqqrtfLPFqSna89W</td>\n",
       "      <td>JJ Heller</td>\n",
       "      <td>Suitcase</td>\n",
       "      <td>Suitcase</td>\n",
       "      <td>46.0</td>\n",
       "      <td>229519.0</td>\n",
       "      <td>False</td>\n",
       "      <td>0.397</td>\n",
       "      <td>0.3120</td>\n",
       "      <td>...</td>\n",
       "      <td>NaN</td>\n",
       "      <td>1.0</td>\n",
       "      <td>0.0307</td>\n",
       "      <td>0.7720</td>\n",
       "      <td>0.000000</td>\n",
       "      <td>0.1170</td>\n",
       "      <td>0.14100</td>\n",
       "      <td>179.605</td>\n",
       "      <td>NaN</td>\n",
       "      <td>acoustic</td>\n",
       "    </tr>\n",
       "    <tr>\n",
       "      <th>1096</th>\n",
       "      <td>1096.0</td>\n",
       "      <td>NaN</td>\n",
       "      <td>Jackie Mittoo</td>\n",
       "      <td>The Keyboard King at Studio One</td>\n",
       "      <td>Black Organ</td>\n",
       "      <td>34.0</td>\n",
       "      <td>191506.0</td>\n",
       "      <td>False</td>\n",
       "      <td>0.837</td>\n",
       "      <td>0.5980</td>\n",
       "      <td>...</td>\n",
       "      <td>NaN</td>\n",
       "      <td>0.0</td>\n",
       "      <td>0.1810</td>\n",
       "      <td>0.3910</td>\n",
       "      <td>0.238000</td>\n",
       "      <td>0.0598</td>\n",
       "      <td>0.98300</td>\n",
       "      <td>145.219</td>\n",
       "      <td>NaN</td>\n",
       "      <td>afrobeat</td>\n",
       "    </tr>\n",
       "    <tr>\n",
       "      <th>...</th>\n",
       "      <td>...</td>\n",
       "      <td>...</td>\n",
       "      <td>...</td>\n",
       "      <td>...</td>\n",
       "      <td>...</td>\n",
       "      <td>...</td>\n",
       "      <td>...</td>\n",
       "      <td>...</td>\n",
       "      <td>...</td>\n",
       "      <td>...</td>\n",
       "      <td>...</td>\n",
       "      <td>...</td>\n",
       "      <td>...</td>\n",
       "      <td>...</td>\n",
       "      <td>...</td>\n",
       "      <td>...</td>\n",
       "      <td>...</td>\n",
       "      <td>...</td>\n",
       "      <td>...</td>\n",
       "      <td>...</td>\n",
       "      <td>...</td>\n",
       "    </tr>\n",
       "    <tr>\n",
       "      <th>112865</th>\n",
       "      <td>112865.0</td>\n",
       "      <td>1oSWrUVYSAnom3NGPvoBnt</td>\n",
       "      <td>Perdenin Ardındakiler</td>\n",
       "      <td>Yalnız Kalmışım</td>\n",
       "      <td>Yalnız Kalmışım</td>\n",
       "      <td>38.0</td>\n",
       "      <td>171146.0</td>\n",
       "      <td>False</td>\n",
       "      <td>0.793</td>\n",
       "      <td>0.2930</td>\n",
       "      <td>...</td>\n",
       "      <td>-14.005</td>\n",
       "      <td>0.0</td>\n",
       "      <td>0.0358</td>\n",
       "      <td>0.0125</td>\n",
       "      <td>0.621000</td>\n",
       "      <td>0.0934</td>\n",
       "      <td>0.17600</td>\n",
       "      <td>114.970</td>\n",
       "      <td>NaN</td>\n",
       "      <td>turkish</td>\n",
       "    </tr>\n",
       "    <tr>\n",
       "      <th>112868</th>\n",
       "      <td>112868.0</td>\n",
       "      <td>2GiUWH13wdIfvvR2vjemAH</td>\n",
       "      <td>Athena;Aylin Aslım;Bülent Ortaçgil;Feridun Düz...</td>\n",
       "      <td>Savaşa Hiç Gerek Yok</td>\n",
       "      <td>Savaşa Hiç Gerek Yok - Version 1</td>\n",
       "      <td>37.0</td>\n",
       "      <td>218120.0</td>\n",
       "      <td>False</td>\n",
       "      <td>0.591</td>\n",
       "      <td>0.6170</td>\n",
       "      <td>...</td>\n",
       "      <td>NaN</td>\n",
       "      <td>1.0</td>\n",
       "      <td>0.0252</td>\n",
       "      <td>0.0225</td>\n",
       "      <td>0.000000</td>\n",
       "      <td>0.1010</td>\n",
       "      <td>0.36000</td>\n",
       "      <td>97.963</td>\n",
       "      <td>NaN</td>\n",
       "      <td>turkish</td>\n",
       "    </tr>\n",
       "    <tr>\n",
       "      <th>112883</th>\n",
       "      <td>112883.0</td>\n",
       "      <td>10aQdFAd97zPjzxqaKKo8s</td>\n",
       "      <td>Volkan Konak</td>\n",
       "      <td>Klasikler 1</td>\n",
       "      <td>Feriğim</td>\n",
       "      <td>38.0</td>\n",
       "      <td>259091.0</td>\n",
       "      <td>False</td>\n",
       "      <td>0.714</td>\n",
       "      <td>0.6200</td>\n",
       "      <td>...</td>\n",
       "      <td>NaN</td>\n",
       "      <td>0.0</td>\n",
       "      <td>0.0437</td>\n",
       "      <td>0.5490</td>\n",
       "      <td>0.000000</td>\n",
       "      <td>0.6520</td>\n",
       "      <td>0.66700</td>\n",
       "      <td>104.005</td>\n",
       "      <td>NaN</td>\n",
       "      <td>turkish</td>\n",
       "    </tr>\n",
       "    <tr>\n",
       "      <th>113790</th>\n",
       "      <td>113790.0</td>\n",
       "      <td>1JkzzVIHygqz274CKFvjoa</td>\n",
       "      <td>Reiki Armonía</td>\n",
       "      <td>Sonidos de Fondo para Reiki: Gotas de Agua</td>\n",
       "      <td>Para Reiki: Gotas de Agua, Pt. 01</td>\n",
       "      <td>23.0</td>\n",
       "      <td>104025.0</td>\n",
       "      <td>False</td>\n",
       "      <td>0.173</td>\n",
       "      <td>0.8950</td>\n",
       "      <td>...</td>\n",
       "      <td>-33.335</td>\n",
       "      <td>1.0</td>\n",
       "      <td>0.0431</td>\n",
       "      <td>0.1520</td>\n",
       "      <td>0.992000</td>\n",
       "      <td>0.9200</td>\n",
       "      <td>0.00312</td>\n",
       "      <td>94.917</td>\n",
       "      <td>NaN</td>\n",
       "      <td>world-music</td>\n",
       "    </tr>\n",
       "    <tr>\n",
       "      <th>113959</th>\n",
       "      <td>113959.0</td>\n",
       "      <td>1V0iyVxxWAidx25wcYdzEp</td>\n",
       "      <td>Housefires</td>\n",
       "      <td>We Say Yes</td>\n",
       "      <td>Open Space</td>\n",
       "      <td>50.0</td>\n",
       "      <td>456981.0</td>\n",
       "      <td>False</td>\n",
       "      <td>0.319</td>\n",
       "      <td>0.2290</td>\n",
       "      <td>...</td>\n",
       "      <td>NaN</td>\n",
       "      <td>1.0</td>\n",
       "      <td>0.0324</td>\n",
       "      <td>0.8880</td>\n",
       "      <td>0.000167</td>\n",
       "      <td>0.1100</td>\n",
       "      <td>0.14600</td>\n",
       "      <td>123.835</td>\n",
       "      <td>NaN</td>\n",
       "      <td>world-music</td>\n",
       "    </tr>\n",
       "  </tbody>\n",
       "</table>\n",
       "<p>252 rows × 21 columns</p>\n",
       "</div>"
      ],
      "text/plain": [
       "        Unnamed: 0                track_id  \\\n",
       "301          301.0  4j0xGuo8Z47wfBiVunT6VR   \n",
       "402          402.0  7AKxbxzkxm2ERWrd1ggniO   \n",
       "750          750.0  0N8Xztr4pBHJ7V0moJWhbO   \n",
       "772          772.0  4OaLdPqqqrtfLPFqSna89W   \n",
       "1096        1096.0                     NaN   \n",
       "...            ...                     ...   \n",
       "112865    112865.0  1oSWrUVYSAnom3NGPvoBnt   \n",
       "112868    112868.0  2GiUWH13wdIfvvR2vjemAH   \n",
       "112883    112883.0  10aQdFAd97zPjzxqaKKo8s   \n",
       "113790    113790.0  1JkzzVIHygqz274CKFvjoa   \n",
       "113959    113959.0  1V0iyVxxWAidx25wcYdzEp   \n",
       "\n",
       "                                                  artists  \\\n",
       "301                                      Rachael Yamagata   \n",
       "402                                           Ichiko Aoba   \n",
       "750                                                Aimyon   \n",
       "772                                             JJ Heller   \n",
       "1096                                        Jackie Mittoo   \n",
       "...                                                   ...   \n",
       "112865                              Perdenin Ardındakiler   \n",
       "112868  Athena;Aylin Aslım;Bülent Ortaçgil;Feridun Düz...   \n",
       "112883                                       Volkan Konak   \n",
       "113790                                      Reiki Armonía   \n",
       "113959                                         Housefires   \n",
       "\n",
       "                                               album_name  \\\n",
       "301     One Spring Night (Original Television Soundtra...   \n",
       "402                                  Asleep Among Endives   \n",
       "750                                           青春のエキサイトメント   \n",
       "772                                              Suitcase   \n",
       "1096                      The Keyboard King at Studio One   \n",
       "...                                                   ...   \n",
       "112865                                    Yalnız Kalmışım   \n",
       "112868                               Savaşa Hiç Gerek Yok   \n",
       "112883                                        Klasikler 1   \n",
       "113790         Sonidos de Fondo para Reiki: Gotas de Agua   \n",
       "113959                                         We Say Yes   \n",
       "\n",
       "                               track_name  popularity  duration_ms explicit  \\\n",
       "301               We Could Still Be Happy        43.0     279260.0    False   \n",
       "402                  Asleep Among Endives        58.0     306243.0    False   \n",
       "750                             愛を伝えたいだとか        65.0     235240.0    False   \n",
       "772                              Suitcase        46.0     229519.0    False   \n",
       "1096                          Black Organ        34.0     191506.0    False   \n",
       "...                                   ...         ...          ...      ...   \n",
       "112865                    Yalnız Kalmışım        38.0     171146.0    False   \n",
       "112868   Savaşa Hiç Gerek Yok - Version 1        37.0     218120.0    False   \n",
       "112883                            Feriğim        38.0     259091.0    False   \n",
       "113790  Para Reiki: Gotas de Agua, Pt. 01        23.0     104025.0    False   \n",
       "113959                         Open Space        50.0     456981.0    False   \n",
       "\n",
       "        danceability  energy  ...  loudness  mode  speechiness  acousticness  \\\n",
       "301            0.513  0.3170  ...   -17.036   1.0       0.0363        0.3650   \n",
       "402            0.451  0.0318  ...   -19.933   0.0       0.0421        0.9830   \n",
       "750            0.673  0.8500  ...       NaN   1.0       0.0337        0.0345   \n",
       "772            0.397  0.3120  ...       NaN   1.0       0.0307        0.7720   \n",
       "1096           0.837  0.5980  ...       NaN   0.0       0.1810        0.3910   \n",
       "...              ...     ...  ...       ...   ...          ...           ...   \n",
       "112865         0.793  0.2930  ...   -14.005   0.0       0.0358        0.0125   \n",
       "112868         0.591  0.6170  ...       NaN   1.0       0.0252        0.0225   \n",
       "112883         0.714  0.6200  ...       NaN   0.0       0.0437        0.5490   \n",
       "113790         0.173  0.8950  ...   -33.335   1.0       0.0431        0.1520   \n",
       "113959         0.319  0.2290  ...       NaN   1.0       0.0324        0.8880   \n",
       "\n",
       "        instrumentalness  liveness  valence    tempo  time_signature  \\\n",
       "301             0.003000    0.1180  0.17700   84.853             NaN   \n",
       "402             0.053200    0.0989  0.14800  123.985             NaN   \n",
       "750             0.000011    0.0943  0.79300  100.008             NaN   \n",
       "772             0.000000    0.1170  0.14100  179.605             NaN   \n",
       "1096            0.238000    0.0598  0.98300  145.219             NaN   \n",
       "...                  ...       ...      ...      ...             ...   \n",
       "112865          0.621000    0.0934  0.17600  114.970             NaN   \n",
       "112868          0.000000    0.1010  0.36000   97.963             NaN   \n",
       "112883          0.000000    0.6520  0.66700  104.005             NaN   \n",
       "113790          0.992000    0.9200  0.00312   94.917             NaN   \n",
       "113959          0.000167    0.1100  0.14600  123.835             NaN   \n",
       "\n",
       "        track_genre  \n",
       "301        acoustic  \n",
       "402        acoustic  \n",
       "750        acoustic  \n",
       "772        acoustic  \n",
       "1096       afrobeat  \n",
       "...             ...  \n",
       "112865      turkish  \n",
       "112868      turkish  \n",
       "112883      turkish  \n",
       "113790  world-music  \n",
       "113959  world-music  \n",
       "\n",
       "[252 rows x 21 columns]"
      ]
     },
     "execution_count": 46,
     "metadata": {},
     "output_type": "execute_result"
    }
   ],
   "source": [
    "df_categorical_fillna[df_categorical_fillna['time_signature'].isnull()]"
   ]
  },
  {
   "cell_type": "markdown",
   "id": "a2172484",
   "metadata": {
    "papermill": {
     "duration": 0.021618,
     "end_time": "2024-11-23T08:26:28.418969",
     "exception": false,
     "start_time": "2024-11-23T08:26:28.397351",
     "status": "completed"
    },
    "tags": []
   },
   "source": [
    "2.3.4 Makine Öğrenmesi ile Değer Atama Teknikleri¶\r\n",
    "Makine öğrenmesi yöntemleri kullanarak da eksik verileri doldurmak mümkündür. Makine Öğrenmesi modelleri bu bootcamp'in konusu olmadığı için detaylı bir anlatım gerçekleştirilmeyecektir.\r\n",
    "\r\n",
    "Hangi yöntemler kullanılabilir?:\r\n",
    "\r\n",
    "KNNImputer (K-Nearest Neighbor)\r\n",
    "Random Forest Classifier\r\n",
    "Google -> \"How can I fill missing values by using Machine Learning techniques in Python?\", \"Python ile eksik verileri Makine Öğrenmesi teknikleri kullanarak nasıl doldurabilirim?\""
   ]
  },
  {
   "cell_type": "markdown",
   "id": "f77b5b13",
   "metadata": {
    "papermill": {
     "duration": 0.021567,
     "end_time": "2024-11-23T08:26:28.464289",
     "exception": false,
     "start_time": "2024-11-23T08:26:28.442722",
     "status": "completed"
    },
    "tags": []
   },
   "source": [
    "3. Kategorik Değişken Analizi"
   ]
  },
  {
   "cell_type": "code",
   "execution_count": 47,
   "id": "80d3e94b",
   "metadata": {
    "execution": {
     "iopub.execute_input": "2024-11-23T08:26:28.509379Z",
     "iopub.status.busy": "2024-11-23T08:26:28.508975Z",
     "iopub.status.idle": "2024-11-23T08:26:28.556510Z",
     "shell.execute_reply": "2024-11-23T08:26:28.555084Z"
    },
    "papermill": {
     "duration": 0.073286,
     "end_time": "2024-11-23T08:26:28.558878",
     "exception": false,
     "start_time": "2024-11-23T08:26:28.485592",
     "status": "completed"
    },
    "tags": []
   },
   "outputs": [
    {
     "name": "stdout",
     "output_type": "stream",
     "text": [
      "<class 'pandas.core.frame.DataFrame'>\n",
      "RangeIndex: 114000 entries, 0 to 113999\n",
      "Data columns (total 21 columns):\n",
      " #   Column            Non-Null Count   Dtype  \n",
      "---  ------            --------------   -----  \n",
      " 0   Unnamed: 0        114000 non-null  int64  \n",
      " 1   track_id          114000 non-null  object \n",
      " 2   artists           113999 non-null  object \n",
      " 3   album_name        113999 non-null  object \n",
      " 4   track_name        113999 non-null  object \n",
      " 5   popularity        114000 non-null  int64  \n",
      " 6   duration_ms       114000 non-null  int64  \n",
      " 7   explicit          114000 non-null  bool   \n",
      " 8   danceability      114000 non-null  float64\n",
      " 9   energy            114000 non-null  float64\n",
      " 10  key               114000 non-null  int64  \n",
      " 11  loudness          114000 non-null  float64\n",
      " 12  mode              114000 non-null  int64  \n",
      " 13  speechiness       114000 non-null  float64\n",
      " 14  acousticness      114000 non-null  float64\n",
      " 15  instrumentalness  114000 non-null  float64\n",
      " 16  liveness          114000 non-null  float64\n",
      " 17  valence           114000 non-null  float64\n",
      " 18  tempo             114000 non-null  float64\n",
      " 19  time_signature    114000 non-null  int64  \n",
      " 20  track_genre       114000 non-null  object \n",
      "dtypes: bool(1), float64(9), int64(6), object(5)\n",
      "memory usage: 17.5+ MB\n"
     ]
    }
   ],
   "source": [
    "df = df_.copy()\n",
    "df.info()"
   ]
  },
  {
   "cell_type": "markdown",
   "id": "40b0660d",
   "metadata": {
    "papermill": {
     "duration": 0.021628,
     "end_time": "2024-11-23T08:26:28.602722",
     "exception": false,
     "start_time": "2024-11-23T08:26:28.581094",
     "status": "completed"
    },
    "tags": []
   },
   "source": [
    "3.1 Kategorik Değişken İşlemleri"
   ]
  },
  {
   "cell_type": "code",
   "execution_count": 48,
   "id": "f975a55c",
   "metadata": {
    "execution": {
     "iopub.execute_input": "2024-11-23T08:26:28.647795Z",
     "iopub.status.busy": "2024-11-23T08:26:28.647460Z",
     "iopub.status.idle": "2024-11-23T08:26:28.663645Z",
     "shell.execute_reply": "2024-11-23T08:26:28.662593Z"
    },
    "papermill": {
     "duration": 0.041316,
     "end_time": "2024-11-23T08:26:28.665897",
     "exception": false,
     "start_time": "2024-11-23T08:26:28.624581",
     "status": "completed"
    },
    "tags": []
   },
   "outputs": [
    {
     "data": {
      "text/html": [
       "<div>\n",
       "<style scoped>\n",
       "    .dataframe tbody tr th:only-of-type {\n",
       "        vertical-align: middle;\n",
       "    }\n",
       "\n",
       "    .dataframe tbody tr th {\n",
       "        vertical-align: top;\n",
       "    }\n",
       "\n",
       "    .dataframe thead th {\n",
       "        text-align: right;\n",
       "    }\n",
       "</style>\n",
       "<table border=\"1\" class=\"dataframe\">\n",
       "  <thead>\n",
       "    <tr style=\"text-align: right;\">\n",
       "      <th></th>\n",
       "      <th>track_id</th>\n",
       "      <th>artists</th>\n",
       "      <th>album_name</th>\n",
       "      <th>track_name</th>\n",
       "      <th>track_genre</th>\n",
       "    </tr>\n",
       "  </thead>\n",
       "  <tbody>\n",
       "    <tr>\n",
       "      <th>0</th>\n",
       "      <td>5SuOikwiRyPMVoIQDJUgSV</td>\n",
       "      <td>Gen Hoshino</td>\n",
       "      <td>Comedy</td>\n",
       "      <td>Comedy</td>\n",
       "      <td>acoustic</td>\n",
       "    </tr>\n",
       "    <tr>\n",
       "      <th>1</th>\n",
       "      <td>4qPNDBW1i3p13qLCt0Ki3A</td>\n",
       "      <td>Ben Woodward</td>\n",
       "      <td>Ghost (Acoustic)</td>\n",
       "      <td>Ghost - Acoustic</td>\n",
       "      <td>acoustic</td>\n",
       "    </tr>\n",
       "    <tr>\n",
       "      <th>2</th>\n",
       "      <td>1iJBSr7s7jYXzM8EGcbK5b</td>\n",
       "      <td>Ingrid Michaelson;ZAYN</td>\n",
       "      <td>To Begin Again</td>\n",
       "      <td>To Begin Again</td>\n",
       "      <td>acoustic</td>\n",
       "    </tr>\n",
       "  </tbody>\n",
       "</table>\n",
       "</div>"
      ],
      "text/plain": [
       "                 track_id                 artists        album_name  \\\n",
       "0  5SuOikwiRyPMVoIQDJUgSV             Gen Hoshino            Comedy   \n",
       "1  4qPNDBW1i3p13qLCt0Ki3A            Ben Woodward  Ghost (Acoustic)   \n",
       "2  1iJBSr7s7jYXzM8EGcbK5b  Ingrid Michaelson;ZAYN    To Begin Again   \n",
       "\n",
       "         track_name track_genre  \n",
       "0            Comedy    acoustic  \n",
       "1  Ghost - Acoustic    acoustic  \n",
       "2    To Begin Again    acoustic  "
      ]
     },
     "execution_count": 48,
     "metadata": {},
     "output_type": "execute_result"
    }
   ],
   "source": [
    "# Spesifik bir veri tipi tutan değişkenleri seçmek için select_dtypes() kullanabiliriz.\n",
    "df_categorical = df.select_dtypes(include = \"object\")\n",
    "df_categorical.head(3)"
   ]
  },
  {
   "cell_type": "code",
   "execution_count": 49,
   "id": "f1b28226",
   "metadata": {
    "execution": {
     "iopub.execute_input": "2024-11-23T08:26:28.712066Z",
     "iopub.status.busy": "2024-11-23T08:26:28.711701Z",
     "iopub.status.idle": "2024-11-23T08:26:28.727376Z",
     "shell.execute_reply": "2024-11-23T08:26:28.726198Z"
    },
    "papermill": {
     "duration": 0.04173,
     "end_time": "2024-11-23T08:26:28.729252",
     "exception": false,
     "start_time": "2024-11-23T08:26:28.687522",
     "status": "completed"
    },
    "tags": []
   },
   "outputs": [
    {
     "data": {
      "text/plain": [
       "array(['Gen Hoshino', 'Ben Woodward', 'Ingrid Michaelson;ZAYN', ...,\n",
       "       'Cuencos Tibetanos Sonidos Relajantes',\n",
       "       'Bryan & Katie Torwalt;Brock Human', 'Jesus Culture'], dtype=object)"
      ]
     },
     "execution_count": 49,
     "metadata": {},
     "output_type": "execute_result"
    }
   ],
   "source": [
    "# Kategorik bir değişkendeki benzersiz değerleri gözlemlemek için unique() kullanabiliriz.\n",
    "df_categorical[\"artists\"].unique()"
   ]
  },
  {
   "cell_type": "code",
   "execution_count": 50,
   "id": "25d56cb4",
   "metadata": {
    "execution": {
     "iopub.execute_input": "2024-11-23T08:26:28.774619Z",
     "iopub.status.busy": "2024-11-23T08:26:28.773880Z",
     "iopub.status.idle": "2024-11-23T08:26:28.853378Z",
     "shell.execute_reply": "2024-11-23T08:26:28.852158Z"
    },
    "papermill": {
     "duration": 0.104971,
     "end_time": "2024-11-23T08:26:28.855703",
     "exception": false,
     "start_time": "2024-11-23T08:26:28.750732",
     "status": "completed"
    },
    "tags": []
   },
   "outputs": [
    {
     "name": "stdout",
     "output_type": "stream",
     "text": [
      "There are 89741 unique values in \"track_id\" categorical feature.\n",
      "\n",
      "There are 31437 unique values in \"artists\" categorical feature.\n",
      "\n",
      "There are 46589 unique values in \"album_name\" categorical feature.\n",
      "\n",
      "There are 73608 unique values in \"track_name\" categorical feature.\n",
      "\n",
      "There are 114 unique values in \"track_genre\" categorical feature.\n",
      "\n"
     ]
    }
   ],
   "source": [
    "# Kategorik değişkenlerdeki benzersiz değerlerin sayısını görebilmek için nunique() kullanabiliriz.\n",
    "for col in df_categorical.columns:\n",
    "    print(f'There are {df_categorical[col].nunique()} unique values in \"{col}\" categorical feature.\\n')"
   ]
  },
  {
   "cell_type": "code",
   "execution_count": 51,
   "id": "1852df86",
   "metadata": {
    "execution": {
     "iopub.execute_input": "2024-11-23T08:26:28.901280Z",
     "iopub.status.busy": "2024-11-23T08:26:28.900806Z",
     "iopub.status.idle": "2024-11-23T08:26:29.076099Z",
     "shell.execute_reply": "2024-11-23T08:26:29.075065Z"
    },
    "papermill": {
     "duration": 0.200648,
     "end_time": "2024-11-23T08:26:29.078206",
     "exception": false,
     "start_time": "2024-11-23T08:26:28.877558",
     "status": "completed"
    },
    "tags": []
   },
   "outputs": [
    {
     "name": "stdout",
     "output_type": "stream",
     "text": [
      "track_id\n",
      "6S3JlDAGk3uu3NtZbPnuhS    9\n",
      "2Ey6v4Sekh3Z0RUSISRosD    8\n",
      "2kkvB3RNRzwjFdGhaUA0tz    8\n",
      "5ZsAhuQ24mWHiduaxJqnhW    7\n",
      "08kTa3SL9sV6Iy8KLKtGql    7\n",
      "                         ..\n",
      "0kJ7eKX6aWl8X1W5Xrosn6    1\n",
      "4bYH5445Bn2w9UiGM0NxQw    1\n",
      "1T5C6ENvpM3IiYeezsK9uI    1\n",
      "34SatKRJgtXfL0bcgk7HMA    1\n",
      "2hETkH7cOfqmz3LqZDHZf5    1\n",
      "Name: count, Length: 89741, dtype: int64\n",
      " *********************************************\n",
      "artists\n",
      "The Beatles                                                                 279\n",
      "George Jones                                                                271\n",
      "Stevie Wonder                                                               236\n",
      "Linkin Park                                                                 224\n",
      "Ella Fitzgerald                                                             222\n",
      "                                                                           ... \n",
      "Automatic Tasty                                                               1\n",
      "o9                                                                            1\n",
      "Pyotr Ilyich Tchaikovsky;National Philharmonic Orchestra;Richard Bonynge      1\n",
      "tstewart;Ólafur Arnalds                                                       1\n",
      "Jesus Culture                                                                 1\n",
      "Name: count, Length: 31437, dtype: int64\n",
      " *********************************************\n",
      "album_name\n",
      "Alternative Christmas 2022     195\n",
      "Feliz Cumpleaños con Perreo    184\n",
      "Metal                          143\n",
      "Halloween con perreito         123\n",
      "Halloween Party 2022           115\n",
      "                              ... \n",
      "Me Alcançou                      1\n",
      "Comunhão e Adoração              1\n",
      "Força Pra Encarar                1\n",
      "The Way of the Fist              1\n",
      "Revelation Songs                 1\n",
      "Name: count, Length: 46589, dtype: int64\n",
      " *********************************************\n",
      "track_name\n",
      "Run Rudolph Run                      151\n",
      "Halloween                             88\n",
      "Frosty The Snowman                    81\n",
      "Little Saint Nick - 1991 Remix        76\n",
      "Last Last                             75\n",
      "                                    ... \n",
      "Mitt Gullbergs kaj paradis (Live)      1\n",
      "Vill Inte Längre                       1\n",
      "Så länge du är med mig                 1\n",
      "Just Plain Bad                         1\n",
      "Barbincor                              1\n",
      "Name: count, Length: 73608, dtype: int64\n",
      " *********************************************\n",
      "track_genre\n",
      "acoustic             1000\n",
      "punk-rock            1000\n",
      "progressive-house    1000\n",
      "power-pop            1000\n",
      "pop                  1000\n",
      "                     ... \n",
      "folk                 1000\n",
      "emo                  1000\n",
      "electronic           1000\n",
      "electro              1000\n",
      "world-music          1000\n",
      "Name: count, Length: 114, dtype: int64\n",
      " *********************************************\n"
     ]
    }
   ],
   "source": [
    "# Her bir kategorik değişken için toplam gözlem sayısını value_counts() ile buluyoruz.\n",
    "for col in df_categorical.columns:\n",
    "    print(f'{df_categorical[col].value_counts()}\\n', 5*\"*********\")"
   ]
  },
  {
   "cell_type": "code",
   "execution_count": 52,
   "id": "99febc90",
   "metadata": {
    "execution": {
     "iopub.execute_input": "2024-11-23T08:26:29.125194Z",
     "iopub.status.busy": "2024-11-23T08:26:29.124330Z",
     "iopub.status.idle": "2024-11-23T08:26:29.137501Z",
     "shell.execute_reply": "2024-11-23T08:26:29.136352Z"
    },
    "papermill": {
     "duration": 0.038872,
     "end_time": "2024-11-23T08:26:29.139568",
     "exception": false,
     "start_time": "2024-11-23T08:26:29.100696",
     "status": "completed"
    },
    "tags": []
   },
   "outputs": [
    {
     "data": {
      "text/plain": [
       "['world-music',\n",
       " 'turkish',\n",
       " 'trip-hop',\n",
       " 'trance',\n",
       " 'techno',\n",
       " 'tango',\n",
       " 'synth-pop',\n",
       " 'swedish',\n",
       " 'study',\n",
       " 'spanish',\n",
       " 'soul',\n",
       " 'songwriter',\n",
       " 'sleep',\n",
       " 'ska',\n",
       " 'singer-songwriter',\n",
       " 'show-tunes',\n",
       " 'sertanejo',\n",
       " 'samba',\n",
       " 'salsa',\n",
       " 'sad',\n",
       " 'romance',\n",
       " 'rockabilly',\n",
       " 'rock',\n",
       " 'rock-n-roll',\n",
       " 'reggaeton',\n",
       " 'reggae',\n",
       " 'r-n-b',\n",
       " 'punk',\n",
       " 'punk-rock',\n",
       " 'psych-rock',\n",
       " 'progressive-house',\n",
       " 'power-pop',\n",
       " 'pop',\n",
       " 'pop-film',\n",
       " 'piano',\n",
       " 'party',\n",
       " 'pagode',\n",
       " 'opera',\n",
       " 'new-age',\n",
       " 'mpb',\n",
       " 'minimal-techno',\n",
       " 'metalcore',\n",
       " 'metal',\n",
       " 'mandopop',\n",
       " 'malay',\n",
       " 'latino',\n",
       " 'latin',\n",
       " 'kids',\n",
       " 'k-pop',\n",
       " 'jazz',\n",
       " 'j-rock',\n",
       " 'j-pop',\n",
       " 'j-idol',\n",
       " 'j-dance',\n",
       " 'iranian',\n",
       " 'industrial',\n",
       " 'indie',\n",
       " 'indie-pop',\n",
       " 'indian',\n",
       " 'idm',\n",
       " 'house',\n",
       " 'honky-tonk',\n",
       " 'hip-hop',\n",
       " 'heavy-metal',\n",
       " 'hardstyle',\n",
       " 'hardcore',\n",
       " 'hard-rock',\n",
       " 'happy',\n",
       " 'guitar',\n",
       " 'grunge',\n",
       " 'groove',\n",
       " 'grindcore',\n",
       " 'goth',\n",
       " 'gospel',\n",
       " 'german',\n",
       " 'garage',\n",
       " 'funk',\n",
       " 'french',\n",
       " 'forro',\n",
       " 'folk',\n",
       " 'emo',\n",
       " 'electronic',\n",
       " 'electro',\n",
       " 'edm',\n",
       " 'dubstep',\n",
       " 'dub',\n",
       " 'drum-and-bass',\n",
       " 'disney',\n",
       " 'disco',\n",
       " 'detroit-techno',\n",
       " 'deep-house',\n",
       " 'death-metal',\n",
       " 'dancehall',\n",
       " 'dance',\n",
       " 'country',\n",
       " 'comedy',\n",
       " 'club',\n",
       " 'classical',\n",
       " 'chill',\n",
       " 'children',\n",
       " 'chicago-house',\n",
       " 'cantopop',\n",
       " 'british',\n",
       " 'breakbeat',\n",
       " 'brazil',\n",
       " 'blues',\n",
       " 'bluegrass',\n",
       " 'black-metal',\n",
       " 'anime',\n",
       " 'ambient',\n",
       " 'alternative',\n",
       " 'alt-rock',\n",
       " 'afrobeat',\n",
       " 'acoustic']"
      ]
     },
     "execution_count": 52,
     "metadata": {},
     "output_type": "execute_result"
    }
   ],
   "source": [
    "# Kategorik bir değişkende bulunan kategorik değerleri bir liste haline getirip sonra kullanabiliriz.\n",
    "comp_categories = df[\"track_genre\"].unique().tolist()[::-1]\n",
    "comp_categories"
   ]
  },
  {
   "cell_type": "code",
   "execution_count": 53,
   "id": "585307b2",
   "metadata": {
    "execution": {
     "iopub.execute_input": "2024-11-23T08:26:29.187855Z",
     "iopub.status.busy": "2024-11-23T08:26:29.187511Z",
     "iopub.status.idle": "2024-11-23T08:26:29.198936Z",
     "shell.execute_reply": "2024-11-23T08:26:29.198095Z"
    },
    "papermill": {
     "duration": 0.037591,
     "end_time": "2024-11-23T08:26:29.201073",
     "exception": false,
     "start_time": "2024-11-23T08:26:29.163482",
     "status": "completed"
    },
    "tags": []
   },
   "outputs": [],
   "source": [
    "# Ordinal değişken nasıl oluşturulur?\n",
    "from pandas.api.types import CategoricalDtype\n",
    "\n",
    "df[\"track_genre\"] = df[\"track_genre\"].astype(CategoricalDtype(categories = comp_categories, ordered = True))\n",
    "\n",
    "# ALIŞTIRMA: astype('category') ile CategoricalDtype arasında fark var mıdır? Varsa nedir? Araştırın."
   ]
  },
  {
   "cell_type": "code",
   "execution_count": 54,
   "id": "d45f3c9b",
   "metadata": {
    "execution": {
     "iopub.execute_input": "2024-11-23T08:26:29.248883Z",
     "iopub.status.busy": "2024-11-23T08:26:29.248529Z",
     "iopub.status.idle": "2024-11-23T08:26:29.257168Z",
     "shell.execute_reply": "2024-11-23T08:26:29.256069Z"
    },
    "papermill": {
     "duration": 0.035232,
     "end_time": "2024-11-23T08:26:29.259212",
     "exception": false,
     "start_time": "2024-11-23T08:26:29.223980",
     "status": "completed"
    },
    "tags": []
   },
   "outputs": [
    {
     "data": {
      "text/plain": [
       "0    acoustic\n",
       "1    acoustic\n",
       "2    acoustic\n",
       "3    acoustic\n",
       "4    acoustic\n",
       "Name: track_genre, dtype: category\n",
       "Categories (114, object): ['world-music' < 'turkish' < 'trip-hop' < 'trance' ... 'alternative' < 'alt-rock' < 'afrobeat' < 'acoustic']"
      ]
     },
     "execution_count": 54,
     "metadata": {},
     "output_type": "execute_result"
    }
   ],
   "source": [
    "df[\"track_genre\"].head()"
   ]
  },
  {
   "cell_type": "markdown",
   "id": "327babe5",
   "metadata": {
    "papermill": {
     "duration": 0.023081,
     "end_time": "2024-11-23T08:26:29.305779",
     "exception": false,
     "start_time": "2024-11-23T08:26:29.282698",
     "status": "completed"
    },
    "tags": []
   },
   "source": [
    "3.2 Kategorik Değişkenlerde Görselleştirme İşlemleri"
   ]
  },
  {
   "cell_type": "code",
   "execution_count": 55,
   "id": "68521f28",
   "metadata": {
    "execution": {
     "iopub.execute_input": "2024-11-23T08:26:29.353720Z",
     "iopub.status.busy": "2024-11-23T08:26:29.352929Z",
     "iopub.status.idle": "2024-11-23T08:26:30.335773Z",
     "shell.execute_reply": "2024-11-23T08:26:30.334748Z"
    },
    "papermill": {
     "duration": 1.009638,
     "end_time": "2024-11-23T08:26:30.338577",
     "exception": false,
     "start_time": "2024-11-23T08:26:29.328939",
     "status": "completed"
    },
    "tags": []
   },
   "outputs": [
    {
     "data": {
      "image/png": "[encoded data removed]",
      "text/plain": [
       "<Figure size 640x480 with 1 Axes>"
      ]
     },
     "metadata": {},
     "output_type": "display_data"
    }
   ],
   "source": [
    "# Kategorik bir değişkendeki kategorilerin gözlem sayılarını basitçe görselleştirelim.\n",
    "df['track_genre'].value_counts().plot.barh();"
   ]
  },
  {
   "cell_type": "code",
   "execution_count": 56,
   "id": "86912ea7",
   "metadata": {
    "execution": {
     "iopub.execute_input": "2024-11-23T08:26:30.391096Z",
     "iopub.status.busy": "2024-11-23T08:26:30.389802Z",
     "iopub.status.idle": "2024-11-23T08:27:05.660665Z",
     "shell.execute_reply": "2024-11-23T08:27:05.659588Z"
    },
    "papermill": {
     "duration": 35.330591,
     "end_time": "2024-11-23T08:27:05.693393",
     "exception": false,
     "start_time": "2024-11-23T08:26:30.362802",
     "status": "completed"
    },
    "tags": []
   },
   "outputs": [
    {
     "name": "stderr",
     "output_type": "stream",
     "text": [
      "/opt/conda/lib/python3.10/site-packages/seaborn/categorical.py:641: FutureWarning: The default of observed=False is deprecated and will be changed to True in a future version of pandas. Pass observed=False to retain current behavior or observed=True to adopt the future default and silence this warning.\n",
      "  grouped_vals = vals.groupby(grouper)\n"
     ]
    },
    {
     "data": {
      "image/png": "[encoded data removed]",
      "text/plain": [
       "<Figure size 640x480 with 1 Axes>"
      ]
     },
     "metadata": {},
     "output_type": "display_data"
    }
   ],
   "source": [
    "sns.countplot(data = df,\n",
    "              y = \"track_genre\",\n",
    "              hue = \"track_genre\",\n",
    "              order = df[\"track_genre\"].value_counts().index,\n",
    "              palette = \"Set1\");"
   ]
  },
  {
   "cell_type": "code",
   "execution_count": 57,
   "id": "969d8cb7",
   "metadata": {
    "execution": {
     "iopub.execute_input": "2024-11-23T08:27:05.751496Z",
     "iopub.status.busy": "2024-11-23T08:27:05.751117Z",
     "iopub.status.idle": "2024-11-23T08:27:09.720718Z",
     "shell.execute_reply": "2024-11-23T08:27:09.719578Z"
    },
    "papermill": {
     "duration": 4.00084,
     "end_time": "2024-11-23T08:27:09.722775",
     "exception": false,
     "start_time": "2024-11-23T08:27:05.721935",
     "status": "completed"
    },
    "tags": []
   },
   "outputs": [
    {
     "name": "stderr",
     "output_type": "stream",
     "text": [
      "/opt/conda/lib/python3.10/site-packages/seaborn/categorical.py:641: FutureWarning: The default of observed=False is deprecated and will be changed to True in a future version of pandas. Pass observed=False to retain current behavior or observed=True to adopt the future default and silence this warning.\n",
      "  grouped_vals = vals.groupby(grouper)\n"
     ]
    },
    {
     "data": {
      "image/png": "[encoded data removed]",
      "text/plain": [
       "<Figure size 640x480 with 1 Axes>"
      ]
     },
     "metadata": {},
     "output_type": "display_data"
    }
   ],
   "source": [
    "sns.barplot(data = df, x = \"track_genre\", y = df.track_genre.index);"
   ]
  },
  {
   "cell_type": "code",
   "execution_count": null,
   "id": "c0598429",
   "metadata": {
    "papermill": {
     "duration": 0.028726,
     "end_time": "2024-11-23T08:27:09.779991",
     "exception": false,
     "start_time": "2024-11-23T08:27:09.751265",
     "status": "completed"
    },
    "tags": []
   },
   "outputs": [],
   "source": []
  }
 ],
 "metadata": {
  "kaggle": {
   "accelerator": "none",
   "dataSources": [
    {
     "datasetId": 2570056,
     "sourceId": 4372070,
     "sourceType": "datasetVersion"
    }
   ],
   "dockerImageVersionId": 30786,
   "isGpuEnabled": false,
   "isInternetEnabled": false,
   "language": "python",
   "sourceType": "notebook"
  },
  "kernelspec": {
   "display_name": "Python 3",
   "language": "python",
   "name": "python3"
  },
  "language_info": {
   "codemirror_mode": {
    "name": "ipython",
    "version": 3
   },
   "file_extension": ".py",
   "mimetype": "text/x-python",
   "name": "python",
   "nbconvert_exporter": "python",
   "pygments_lexer": "ipython3",
   "version": "3.10.14"
  },
  "papermill": {
   "default_parameters": {},
   "duration": 56.917592,
   "end_time": "2024-11-23T08:27:11.032254",
   "environment_variables": {},
   "exception": null,
   "input_path": "__notebook__.ipynb",
   "output_path": "__notebook__.ipynb",
   "parameters": {},
   "start_time": "2024-11-23T08:26:14.114662",
   "version": "2.6.0"
  }
 },
 "nbformat": 4,
 "nbformat_minor": 5
}
