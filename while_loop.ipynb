{
  "nbformat": 4,
  "nbformat_minor": 0,
  "metadata": {
    "colab": {
      "provenance": [],
      "authorship_tag": "ABX9TyOYWHKh/Bzm2bEo5kBtz21z",
      "include_colab_link": true
    },
    "kernelspec": {
      "name": "python3",
      "display_name": "Python 3"
    },
    "language_info": {
      "name": "python"
    }
  },
  "cells": [
    {
      "cell_type": "markdown",
      "metadata": {
        "id": "view-in-github",
        "colab_type": "text"
      },
      "source": [
        "<a href=\"https://colab.research.google.com/github/elifnuryaygin03/elifnuryaygin/blob/main/while_loop.ipynb\" target=\"_parent\"><img src=\"https://colab.research.google.com/assets/colab-badge.svg\" alt=\"Open In Colab\"/></a>"
      ]
    },
    {
      "cell_type": "markdown",
      "source": [
        "### Exercise 1: Learning Rate Schedule using While Loops\n",
        "\n",
        "#### Problem Statement\n",
        "\n",
        "Given an initial learning rate and a decay factor, use a while loop to apply the decay to the learning rate at each epoch until a specified number of epochs is reached.\n",
        "\n",
        "**Example Input**:\n",
        "```python\n",
        "initial_lr = 0.1\n",
        "decay_factor = 0.9\n",
        "epochs = 5\n",
        "```\n",
        "\n",
        "**Instructions**:\n",
        "1. Initialize the learning rate to `initial_lr`.\n",
        "2. Use a while loop to apply the decay factor to the learning rate for each epoch.\n",
        "3. Print the learning rate for each epoch."
      ],
      "metadata": {
        "id": "OVOt6hZmK-oN"
      }
    },
    {
      "cell_type": "markdown",
      "source": [],
      "metadata": {
        "id": "nTDQQ-64L8cr"
      }
    },
    {
      "cell_type": "code",
      "source": [
        "# Initial learning rate\n",
        "initial_lr = 0.1\n",
        "# Decay factor\n",
        "decay_factor = 0.9\n",
        "# Number of epochs\n",
        "epochs = 5\n",
        "\n",
        "# Initialize current learning rate\n",
        "current_lr = initial_lr\n",
        "# Initialize current epoch\n",
        "current_epoch = 0\n",
        "\n",
        "# While loop to apply learning rate decay\n",
        "while current_epoch < epochs:\n",
        "    print(f\"Epoch {current_epoch + 1}: Learning rate = {current_lr:.5f}\")\n",
        "    # Apply decay to the current learning rate\n",
        "    current_lr *= decay_factor\n",
        "    # Increment the current epoch\n",
        "    current_epoch += 1\n",
        "\n",
        "# Notebook grading\n",
        "if abs(current_lr - 0.059049) < 1e-6:\n",
        "    print(\"Nice work!\")\n",
        "else:\n",
        "    print(\"Not quite. Check your learning rate calculations.\")"
      ],
      "metadata": {
        "colab": {
          "base_uri": "https://localhost:8080/"
        },
        "id": "zDYo9y9MLC6i",
        "outputId": "fcb37ef0-fcf8-403e-aafe-d624a5a99ded"
      },
      "execution_count": 1,
      "outputs": [
        {
          "output_type": "stream",
          "name": "stdout",
          "text": [
            "Epoch 1: Learning rate = 0.10000\n",
            "Epoch 2: Learning rate = 0.09000\n",
            "Epoch 3: Learning rate = 0.08100\n",
            "Epoch 4: Learning rate = 0.07290\n",
            "Epoch 5: Learning rate = 0.06561\n",
            "Nice work!\n"
          ]
        }
      ]
    },
    {
      "cell_type": "markdown",
      "source": [
        "\n",
        "Exercise 2: Iterating Through Model Parameters using For Loops\n",
        "Problem Statement\n",
        "Given a list of model parameters and their corresponding gradients, use a for loop to update each parameter.\n",
        "\n",
        "Example Input:\n",
        "\n",
        "parameters = [0.5, 1.5, -0.5]\n",
        "gradients = [0.1, -0.2, 0.05]\n",
        "learning_rate = 0.01\n",
        "Instructions:\n",
        "\n",
        "Use a for loop to iterate through the parameters and gradients.\n",
        "Apply a gradient update to each parameter using the learning rate."
      ],
      "metadata": {
        "id": "Qbf8BEOeL8aS"
      }
    },
    {
      "cell_type": "code",
      "source": [
        "# Model parameters\n",
        "parameters = [0.5, 1.5, -0.5]\n",
        "# Corresponding gradients\n",
        "gradients = [0.1, -0.2, 0.05]\n",
        "# Learning rate\n",
        "learning_rate = 0.01\n",
        "\n",
        "# For loop to update each parameter\n",
        "for i in range(len(parameters)):\n",
        "    parameters[i] -= learning_rate * gradients[i]\n",
        "    print(f\"Updated parameter {i + 1}: {parameters[i]:.5f}\")\n",
        "\n",
        "# Notebook grading\n",
        "if parameters == [0.499, 1.502, -0.5005]:\n",
        "    print(\"Nice work!\")\n",
        "else:\n",
        "    print(\"Not quite. Check your parameter updates.\")"
      ],
      "metadata": {
        "colab": {
          "base_uri": "https://localhost:8080/"
        },
        "id": "MjopglHIMLMm",
        "outputId": "bee48ba9-adbc-4391-8976-ccda709a3626"
      },
      "execution_count": 2,
      "outputs": [
        {
          "output_type": "stream",
          "name": "stdout",
          "text": [
            "Updated parameter 1: 0.49900\n",
            "Updated parameter 2: 1.50200\n",
            "Updated parameter 3: -0.50050\n",
            "Nice work!\n"
          ]
        }
      ]
    }
  ]
}