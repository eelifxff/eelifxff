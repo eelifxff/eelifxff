{
  "nbformat": 4,
  "nbformat_minor": 0,
  "metadata": {
    "colab": {
      "provenance": [],
      "authorship_tag": "ABX9TyPG/Flk7LxUqEUAL0Fz8pCI",
      "include_colab_link": true
    },
    "kernelspec": {
      "name": "python3",
      "display_name": "Python 3"
    },
    "language_info": {
      "name": "python"
    }
  },
  "cells": [
    {
      "cell_type": "markdown",
      "metadata": {
        "id": "view-in-github",
        "colab_type": "text"
      },
      "source": [
        "<a href=\"https://colab.research.google.com/github/elifnuryaygin03/elifnuryaygin/blob/main/Untitled22.ipynb\" target=\"_parent\"><img src=\"https://colab.research.google.com/assets/colab-badge.svg\" alt=\"Open In Colab\"/></a>"
      ]
    },
    {
      "cell_type": "code",
      "execution_count": 1,
      "metadata": {
        "colab": {
          "base_uri": "https://localhost:8080/"
        },
        "id": "oYe9kUw5q9jd",
        "outputId": "4e582841-5695-4e6a-aba0-9deb5edc3380"
      },
      "outputs": [
        {
          "output_type": "stream",
          "name": "stdout",
          "text": [
            "10\n",
            "50\n",
            "Number 145 is odd.\n",
            "Somebody who is 35 years old will pay $2.5 to ride the bus.\n"
          ]
        }
      ],
      "source": [
        "#First Example - try changing the value of phone_balance\n",
        "phone_balance = 10\n",
        "bank_balance = 50\n",
        "\n",
        "if phone_balance < 10:\n",
        "    phone_balance += 10\n",
        "    bank_balance -= 10\n",
        "\n",
        "print(phone_balance)\n",
        "print(bank_balance)\n",
        "\n",
        "#Second Example - try changing the value of number\n",
        "\n",
        "number = 145\n",
        "if number % 2 == 0:\n",
        "    print(\"Number \" + str(number) + \" is even.\")\n",
        "else:\n",
        "    print(\"Number \" + str(number) + \" is odd.\")\n",
        "\n",
        "#Third Example - try to change the value of age\n",
        "age = 35\n",
        "\n",
        "# Here are the age limits for bus fares\n",
        "free_up_to_age = 4\n",
        "child_up_to_age = 18\n",
        "senior_from_age = 65\n",
        "\n",
        "# These lines determine the bus fare prices\n",
        "concession_ticket = 1.25\n",
        "adult_ticket = 2.50\n",
        "\n",
        "# Here is the logic for bus fare prices\n",
        "if age <= free_up_to_age:\n",
        "    ticket_price = 0\n",
        "elif age <= child_up_to_age:\n",
        "    ticket_price = concession_ticket\n",
        "elif age >= senior_from_age:\n",
        "    ticket_price = concession_ticket\n",
        "else:\n",
        "    ticket_price = adult_ticket\n",
        "\n",
        "message = \"Somebody who is {} years old will pay ${} to ride the bus.\".format(age, ticket_price)\n",
        "print(message)"
      ]
    }
  ]
}