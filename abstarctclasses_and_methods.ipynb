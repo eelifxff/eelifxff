{
  "nbformat": 4,
  "nbformat_minor": 0,
  "metadata": {
    "colab": {
      "provenance": [],
      "gpuType": "T4",
      "authorship_tag": "ABX9TyPi+mKbAW+wbcdMTji4ZSyJ",
      "include_colab_link": true
    },
    "kernelspec": {
      "name": "python3",
      "display_name": "Python 3"
    },
    "language_info": {
      "name": "python"
    },
    "accelerator": "GPU"
  },
  "cells": [
    {
      "cell_type": "markdown",
      "metadata": {
        "id": "view-in-github",
        "colab_type": "text"
      },
      "source": [
        "<a href=\"https://colab.research.google.com/github/elifnuryaygin03/elifnuryaygin/blob/main/abstarctclasses_and_methods.ipynb\" target=\"_parent\"><img src=\"https://colab.research.google.com/assets/colab-badge.svg\" alt=\"Open In Colab\"/></a>"
      ]
    },
    {
      "cell_type": "code",
      "execution_count": 1,
      "metadata": {
        "colab": {
          "base_uri": "https://localhost:8080/"
        },
        "id": "tl_NKHdpsJ6X",
        "outputId": "52c03018-b6b4-439e-931c-ae444bd61666"
      },
      "outputs": [
        {
          "output_type": "stream",
          "name": "stdout",
          "text": [
            "This is the Swiss Bank\n",
            "Swiss Bank: 1000\n",
            "Withdrawn amount: 30\n",
            "New Balance: 970\n",
            "Insufficient funds\n"
          ]
        }
      ],
      "source": [
        "# Import ABC and abstractmethod from the module abc (which stands for abstract base classes)\n",
        "from abc import ABC, abstractmethod\n",
        "\n",
        "# Class Bank\n",
        "class Bank(ABC):\n",
        "\n",
        "    \"\"\" An abstract bank class\n",
        "\n",
        "    [IMPLEMENT ME]\n",
        "        1. This class must derive from class ABC\n",
        "        2. Write a basicinfo() function that prints out \"This is a generic bank\" and\n",
        "           returns the string \"Generic bank: 0\"\n",
        "        3. Define a second function called withdraw and keep it empty by\n",
        "           adding the `pass` keyword under it. Make this function abstract by\n",
        "           adding an '@abstractmethod' tag right above the function declaration.\n",
        "    \"\"\"\n",
        "    ### YOUR CODE HERE\n",
        "    def basicinfo(self):\n",
        "        print(\"This is a generic bank\")\n",
        "        return \"Generic bank: 0\"\n",
        "\n",
        "    @abstractmethod\n",
        "    def withdraw(self, amount):\n",
        "        pass\n",
        "\n",
        "\n",
        "# Class Swiss\n",
        "class Swiss(Bank):\n",
        "    \"\"\" A specific type of bank than derives from class Bank\n",
        "\n",
        "    [IMPLEMENT ME]\n",
        "        1. This class must derive from class Bank\n",
        "        2. Create a constructor for this class that initializes a class\n",
        "           variable `bal` to 1000\n",
        "        3. Implement the basicinfo() function so that it prints \"This is the\n",
        "           Swiss Bank\" and returns a string with \"Swiss Bank: \" (don't forget\n",
        "           the space after the colon) followed by the current bank balance.\n",
        "\n",
        "           For example, if self.bal = 80, then it would return \"Swiss Bank: 80\"\n",
        "\n",
        "        4. Implement withdraw so that it takes one argument (in addition to\n",
        "           self) that is an integer which represents the amount to be withdrawn\n",
        "           from the bank. Deduct the withdrawn amount from the bank bal, print\n",
        "           the withdrawn amount (\"Withdrawn amount: {amount}\"), print the new\n",
        "           balance (\"New Balance: {self.bal}\"), and return the new balance.\n",
        "\n",
        "           Note: Make sure to verify that there is enough money to withdraw!\n",
        "                 If amount is greater than balance, then do not deduct any\n",
        "                 money from the class variable `bal`. Instead, print a\n",
        "                 statement saying `\"Insufficient funds\"`, and return the\n",
        "                 original account balance instead.\n",
        "    \"\"\"\n",
        "    ### YOUR CODE HERE\n",
        "    def __init__(self):\n",
        "        self.bal = 1000\n",
        "\n",
        "    def basicinfo(self):\n",
        "        print(\"This is the Swiss Bank\")\n",
        "        return f\"Swiss Bank: {self.bal}\"\n",
        "\n",
        "    def withdraw(self, amount):\n",
        "        if amount > self.bal:\n",
        "            print(\"Insufficient funds\")\n",
        "            return self.bal\n",
        "        else:\n",
        "            self.bal -= amount\n",
        "            print(f\"Withdrawn amount: {amount}\")\n",
        "            print(f\"New Balance: {self.bal}\")\n",
        "            return self.bal\n",
        "\n",
        "# Driver Code\n",
        "def main():\n",
        "    assert issubclass(Bank, ABC), \"Bank must derive from class ABC\"\n",
        "    s = Swiss()\n",
        "    print(s.basicinfo())\n",
        "    s.withdraw(30)\n",
        "    s.withdraw(1000)\n",
        "\n",
        "if __name__ == \"__main__\":\n",
        "    main()"
      ]
    }
  ]
}