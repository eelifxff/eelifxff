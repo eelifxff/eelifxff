{
  "nbformat": 4,
  "nbformat_minor": 0,
  "metadata": {
    "colab": {
      "provenance": [],
      "authorship_tag": "ABX9TyNS6sICOhD7KxCwu9TQJura",
      "include_colab_link": true
    },
    "kernelspec": {
      "name": "python3",
      "display_name": "Python 3"
    },
    "language_info": {
      "name": "python"
    }
  },
  "cells": [
    {
      "cell_type": "markdown",
      "metadata": {
        "id": "view-in-github",
        "colab_type": "text"
      },
      "source": [
        "<a href=\"https://colab.research.google.com/github/elifnuryaygin03/elifnuryaygin/blob/main/if_statement.ipynb\" target=\"_parent\"><img src=\"https://colab.research.google.com/assets/colab-badge.svg\" alt=\"Open In Colab\"/></a>"
      ]
    },
    {
      "cell_type": "code",
      "execution_count": 1,
      "metadata": {
        "colab": {
          "base_uri": "https://localhost:8080/"
        },
        "id": "gQjqYzTgIVoM",
        "outputId": "96ceddcd-95b5-4f01-b5e5-b579dcf5ba78"
      },
      "outputs": [
        {
          "output_type": "stream",
          "name": "stdout",
          "text": [
            "Model performance: Good\n",
            "Not quite! Are your result strings formatted correctly?\n"
          ]
        }
      ],
      "source": [
        "accuracy = 0.85  # use this input to make your submission\n",
        "\n",
        "# write your if statement here\n",
        "if 0.0 <= accuracy <= 0.5:\n",
        "    result = \"Model performance = Poor\"\n",
        "\n",
        "elif 5.1 <= accuracy <= 0.75:\n",
        "    result = \"Model performance: Average\"\n",
        "\n",
        "elif 0.76 <= accuracy <= 0.9:\n",
        "    result = \"Model performance: Good\"\n",
        "\n",
        "elif 0.91 <= accuracy <= 1.0:\n",
        "    result = \"Model performance: Excellent\"\n",
        "\n",
        "else:\n",
        "    result = \"Invalid accuracy score.\"\n",
        "# Check the result\n",
        "print(result)\n",
        "\n",
        "# Notebook grading\n",
        "if result == \"Model performance: Good.\":\n",
        "    print(\"Nice work!\")\n",
        "else:\n",
        "    print(\"Not quite! Are your result strings formatted correctly?\")"
      ]
    }
  ]
}