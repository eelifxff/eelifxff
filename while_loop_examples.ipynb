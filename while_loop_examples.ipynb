{
  "nbformat": 4,
  "nbformat_minor": 0,
  "metadata": {
    "colab": {
      "provenance": [],
      "authorship_tag": "ABX9TyMwslFz8mp3I972lsiP8D5V",
      "include_colab_link": true
    },
    "kernelspec": {
      "name": "python3",
      "display_name": "Python 3"
    },
    "language_info": {
      "name": "python"
    }
  },
  "cells": [
    {
      "cell_type": "markdown",
      "metadata": {
        "id": "view-in-github",
        "colab_type": "text"
      },
      "source": [
        "<a href=\"https://colab.research.google.com/github/elifnuryaygin03/elifnuryaygin/blob/main/while_loop_examples.ipynb\" target=\"_parent\"><img src=\"https://colab.research.google.com/assets/colab-badge.svg\" alt=\"Open In Colab\"/></a>"
      ]
    },
    {
      "cell_type": "markdown",
      "source": [
        "Exercise 1: Count Image Batches\n",
        "In this exercise, you'll simulate processing batches of images in a machine learning model. You'll start from a given number of images and process them in batches until all images are processed. Use processed_images as the variable that you'll change each time through the loop.\n",
        "\n",
        "Example Input:\n",
        "\n",
        "total_images = 100\n",
        "batch_size = 20\n",
        "Example Output:\n",
        "\n",
        "processed_images = 100"
      ],
      "metadata": {
        "id": "cLEtKOU9ORdB"
      }
    },
    {
      "cell_type": "code",
      "source": [
        "total_images = 100\n",
        "batch_size = 20\n",
        "\n",
        "processed_images = 0\n",
        "while processed_images < total_images:\n",
        "    processed_images += batch_size\n",
        "\n",
        "### Notebook grading\n",
        "def get_solution(total_images, batch_size):\n",
        "    processed_images = 0\n",
        "    while processed_images < total_images:\n",
        "        processed_images += batch_size\n",
        "    return processed_images\n",
        "\n",
        "correct = get_solution(total_images, batch_size)\n",
        "\n",
        "if processed_images == correct:\n",
        "    print(\"Good job!\")\n",
        "else:\n",
        "    print(\"Oops! It doesn't look like the expected answer.\")"
      ],
      "metadata": {
        "colab": {
          "base_uri": "https://localhost:8080/"
        },
        "id": "tGsTrRGUOTek",
        "outputId": "a7ffa4dc-2780-4cff-b894-bef790896d47"
      },
      "execution_count": 1,
      "outputs": [
        {
          "output_type": "stream",
          "name": "stdout",
          "text": [
            "Good job!\n"
          ]
        }
      ]
    },
    {
      "cell_type": "markdown",
      "source": [
        "Exercise 2: Validate Batch Processing\n",
        "In this exercise, you'll validate that your batch processing function works correctly and handle the case where the number of images to process is less than the batch size.\n",
        "\n",
        "Example Input:\n",
        "\n",
        "total_images = 100\n",
        "batch_size = 20\n",
        "Example Output:\n",
        "\n",
        "result = 100\n",
        "Example Input with total_images < batch_size:\n",
        "\n",
        "total_images = 10\n",
        "batch_size = 20\n",
        "Example Output:\n",
        "\n",
        "result = 10"
      ],
      "metadata": {
        "id": "Rsjvt9aLOdhC"
      }
    },
    {
      "cell_type": "markdown",
      "source": [],
      "metadata": {
        "id": "hbGH54TaO3_v"
      }
    },
    {
      "cell_type": "code",
      "source": [
        "total_images = 100\n",
        "batch_size = 20\n",
        "\n",
        "if total_images < batch_size:\n",
        "    result = total_images\n",
        "else:\n",
        "    processed_images = 0\n",
        "    while processed_images < total_images:\n",
        "        processed_images += batch_size\n",
        "    result = processed_images\n",
        "\n",
        "### Notebook grading\n",
        "def get_solution(total_images, batch_size):\n",
        "    if total_images < batch_size:\n",
        "        return total_images\n",
        "    else:\n",
        "        processed_images = 0\n",
        "        while processed_images < total_images:\n",
        "            processed_images += batch_size\n",
        "        return processed_images\n",
        "\n",
        "correct_ans = get_solution(total_images, batch_size)\n",
        "\n",
        "if result == correct_ans:\n",
        "    print(\"Good job!\")\n",
        "else:\n",
        "    print(\"Oops! It doesn't look like the expected answer.\")"
      ],
      "metadata": {
        "colab": {
          "base_uri": "https://localhost:8080/"
        },
        "id": "Ir1SvMF3OsuK",
        "outputId": "25ed4c61-132b-4cab-dbf0-ad98e94151e3"
      },
      "execution_count": 2,
      "outputs": [
        {
          "output_type": "stream",
          "name": "stdout",
          "text": [
            "Good job!\n"
          ]
        }
      ]
    },
    {
      "cell_type": "markdown",
      "source": [
        "Exercise 3: Find Nearest Batch Size\n",
        "In this exercise, you'll write a while loop that finds the largest batch size (a perfect square less than an integer limit) and stores it in a variable nearest_batch. A batch size is the product of an integer multiplied by itself, for example 36 is a perfect batch size because it equals 6*6.\n",
        "\n",
        "Example Input:\n",
        "\n",
        "limit = 50\n",
        "Example Output:\n",
        "\n",
        "nearest_batch = 36"
      ],
      "metadata": {
        "id": "g1J1J5fsO4B5"
      }
    },
    {
      "cell_type": "code",
      "source": [
        "limit = 50\n",
        "nearest_batch = 0\n",
        "current_value = 0\n",
        "\n",
        "while (current_value + 1)**2 < limit:\n",
        "    current_value += 1\n",
        "    nearest_batch = current_value**2\n",
        "\n",
        "### Notebook grading\n",
        "def get_solution(limit):\n",
        "    current_value = 0\n",
        "    while (current_value + 1)**2 < limit:\n",
        "        current_value += 1\n",
        "        nearest_batch = current_value**2\n",
        "    return nearest_batch\n",
        "\n",
        "correct_ans = get_solution(limit)\n",
        "\n",
        "if nearest_batch == correct_ans:\n",
        "    print(\"Good job!\")\n",
        "else:\n",
        "    print(\"Not quite. Did you assign your result to `nearest_batch`?\")"
      ],
      "metadata": {
        "colab": {
          "base_uri": "https://localhost:8080/"
        },
        "id": "ttYOEEGvPDsj",
        "outputId": "9cd6752d-119b-401c-aaa9-787240fd046f"
      },
      "execution_count": 3,
      "outputs": [
        {
          "output_type": "stream",
          "name": "stdout",
          "text": [
            "Good job!\n"
          ]
        }
      ]
    }
  ]
}