{
  "nbformat": 4,
  "nbformat_minor": 0,
  "metadata": {
    "colab": {
      "provenance": [],
      "authorship_tag": "ABX9TyM712vOFRHNSqGx2c7qC2KF",
      "include_colab_link": true
    },
    "kernelspec": {
      "name": "python3",
      "display_name": "Python 3"
    },
    "language_info": {
      "name": "python"
    }
  },
  "cells": [
    {
      "cell_type": "markdown",
      "metadata": {
        "id": "view-in-github",
        "colab_type": "text"
      },
      "source": [
        "<a href=\"https://colab.research.google.com/github/elifnuryaygin03/elifnuryaygin/blob/main/key_value_dictionary.ipynb\" target=\"_parent\"><img src=\"https://colab.research.google.com/assets/colab-badge.svg\" alt=\"Open In Colab\"/></a>"
      ]
    },
    {
      "cell_type": "code",
      "execution_count": null,
      "metadata": {
        "id": "M5vdTHmKtCUN"
      },
      "outputs": [],
      "source": [
        "#Iterating Through Dictionaries\n",
        "#Run and experiment with this example in the code cell below!"
      ]
    },
    {
      "cell_type": "code",
      "source": [
        "cast = {\n",
        "           \"Jerry Seinfeld\": \"Jerry Seinfeld\",\n",
        "           \"Julia Louis-Dreyfus\": \"Elaine Benes\",\n",
        "           \"Jason Alexander\": \"George Costanza\",\n",
        "           \"Michael Richards\": \"Cosmo Kramer\"\n",
        "       }\n",
        "\n",
        "print(\"Iterating through keys:\")\n",
        "for key in cast:\n",
        "    print(key)\n",
        "\n",
        "print(\"\\nIterating through keys and values:\")\n",
        "for key, value in cast.items():\n",
        "    print(\"Actor: {}    Role: {}\".format(key, value))"
      ],
      "metadata": {
        "colab": {
          "base_uri": "https://localhost:8080/"
        },
        "id": "sOoAqs1atIeF",
        "outputId": "10972e98-bf29-4269-9f0f-84c02367d30b"
      },
      "execution_count": 1,
      "outputs": [
        {
          "output_type": "stream",
          "name": "stdout",
          "text": [
            "Iterating through keys:\n",
            "Jerry Seinfeld\n",
            "Julia Louis-Dreyfus\n",
            "Jason Alexander\n",
            "Michael Richards\n",
            "\n",
            "Iterating through keys and values:\n",
            "Actor: Jerry Seinfeld    Role: Jerry Seinfeld\n",
            "Actor: Julia Louis-Dreyfus    Role: Elaine Benes\n",
            "Actor: Jason Alexander    Role: George Costanza\n",
            "Actor: Michael Richards    Role: Cosmo Kramer\n"
          ]
        }
      ]
    }
  ]
}