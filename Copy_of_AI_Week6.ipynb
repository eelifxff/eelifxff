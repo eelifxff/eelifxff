{
  "cells": [
    {
      "cell_type": "markdown",
      "metadata": {
        "id": "view-in-github",
        "colab_type": "text"
      },
      "source": [
        "<a href=\"https://colab.research.google.com/github/elifnuryaygin03/elifnuryaygin/blob/main/Copy_of_AI_Week6.ipynb\" target=\"_parent\"><img src=\"https://colab.research.google.com/assets/colab-badge.svg\" alt=\"Open In Colab\"/></a>"
      ]
    },
    {
      "cell_type": "markdown",
      "metadata": {
        "id": "w_y46olokdAP"
      },
      "source": [
        "#Week 6"
      ]
    },
    {
      "cell_type": "markdown",
      "metadata": {
        "id": "y_hUEHkwke-Q"
      },
      "source": [
        "**TASK1**\n",
        "\n",
        "Write a NumPy program to create an array of all the even integers from 30 to 70 and then print the results"
      ]
    },
    {
      "cell_type": "code",
      "execution_count": null,
      "metadata": {
        "id": "-EMQttPMlIEa",
        "colab": {
          "base_uri": "https://localhost:8080/"
        },
        "outputId": "15924088-f27b-44ca-8768-137b837693d6"
      },
      "outputs": [
        {
          "output_type": "execute_result",
          "data": {
            "text/plain": [
              "array([30, 32, 34, 36, 38, 40, 42, 44, 46, 48, 50, 52, 54, 56, 58, 60, 62,\n",
              "       64, 66, 68, 70])"
            ]
          },
          "metadata": {},
          "execution_count": 2
        }
      ],
      "source": [
        "import numpy as np\n",
        "np.arange(30,71,2)"
      ]
    },
    {
      "cell_type": "markdown",
      "metadata": {
        "id": "6eeaPKHLlIY-"
      },
      "source": [
        "**TASK 2**\n",
        "\n",
        "Write a NumPy program to generate an array of 15 random numbers from a standard normal distribution"
      ]
    },
    {
      "cell_type": "code",
      "execution_count": null,
      "metadata": {
        "id": "1W29DVswm0aK",
        "colab": {
          "base_uri": "https://localhost:8080/"
        },
        "outputId": "165824ef-b86e-45b9-8c5a-5ce73a3eb167"
      },
      "outputs": [
        {
          "output_type": "execute_result",
          "data": {
            "text/plain": [
              "array([-0.28859991, -1.98170054, -0.84620955, -0.92215096, -1.01007668,\n",
              "        0.98040847,  0.20106487,  0.68237861,  0.44279148,  0.65505606,\n",
              "       -0.64333502, -0.38446341, -1.43944927,  0.51039903,  0.71189285])"
            ]
          },
          "metadata": {},
          "execution_count": 3
        }
      ],
      "source": [
        "np.random.normal(0,1,15)"
      ]
    },
    {
      "cell_type": "markdown",
      "metadata": {
        "id": "hF3f8zE1m0rW"
      },
      "source": [
        "**TASK 3**\n",
        "\n",
        "Write a NumPy program to create a 3x4 matrix filled with values from 10 to 21"
      ]
    },
    {
      "cell_type": "code",
      "execution_count": null,
      "metadata": {
        "id": "kPmYIuwum6uF",
        "colab": {
          "base_uri": "https://localhost:8080/"
        },
        "outputId": "d5ce3023-73eb-4aa3-811a-c8cf72287d6d"
      },
      "outputs": [
        {
          "output_type": "execute_result",
          "data": {
            "text/plain": [
              "array([[10, 11, 12, 13],\n",
              "       [14, 15, 16, 17],\n",
              "       [18, 19, 20, 21]])"
            ]
          },
          "metadata": {},
          "execution_count": 4
        }
      ],
      "source": [
        "np.arange(10,22).reshape((3,4))"
      ]
    },
    {
      "cell_type": "markdown",
      "metadata": {
        "id": "c9ZaKAgLm6QI"
      },
      "source": [
        "**TASK 4**\n",
        "\n",
        "Write a NumPy program to create a 5x5 zero matrix with elements on the main diagonal equal to 1, 2, 3, 4, 5"
      ]
    },
    {
      "cell_type": "code",
      "execution_count": null,
      "metadata": {
        "id": "GEDhO8mvnC7E"
      },
      "outputs": [],
      "source": [
        "x=np.diag([1,2,3,4,5])"
      ]
    },
    {
      "cell_type": "markdown",
      "metadata": {
        "id": "bJ9OxvdunDKs"
      },
      "source": [
        "**TASK 5**\n",
        "\n",
        "Write a NumPy program to add elements in a matrix. If an element in the matrix is 0, we will not add the element below this element"
      ]
    },
    {
      "cell_type": "code",
      "execution_count": null,
      "metadata": {
        "colab": {
          "base_uri": "https://localhost:8080/"
        },
        "id": "KdAYN-qvnp8a",
        "outputId": "dd28ab8c-fd7b-4f44-fabf-cc0e587ee553"
      },
      "outputs": [
        {
          "data": {
            "text/plain": [
              "array([[ 1,  2,  3],\n",
              "       [ 4,  5, 56],\n",
              "       [ 6,  6,  4],\n",
              "       [ 2,  3,  4]])"
            ]
          },
          "execution_count": 10,
          "metadata": {},
          "output_type": "execute_result"
        }
      ],
      "source": []
    },
    {
      "cell_type": "markdown",
      "metadata": {
        "id": "u69DVOYALKM2"
      },
      "source": []
    },
    {
      "cell_type": "markdown",
      "metadata": {
        "id": "AWO5n_CdnqT2"
      },
      "source": [
        "**TASK 6**\n",
        "\n",
        "Write a NumPy program to sort a given array by row and column in ascending order"
      ]
    },
    {
      "cell_type": "code",
      "execution_count": null,
      "metadata": {
        "id": "5IIb0Tjdn2GR",
        "colab": {
          "base_uri": "https://localhost:8080/"
        },
        "outputId": "4079e1f6-f5be-4767-c636-9af8d66fe2de"
      },
      "outputs": [
        {
          "output_type": "execute_result",
          "data": {
            "text/plain": [
              "array([[1, 2, 3, 4, 5],\n",
              "       [0, 0, 0, 0, 0],\n",
              "       [0, 0, 0, 0, 0],\n",
              "       [0, 0, 0, 0, 0],\n",
              "       [0, 0, 0, 0, 0]])"
            ]
          },
          "metadata": {},
          "execution_count": 11
        }
      ],
      "source": [
        "np.sort(x,axis=0)[::-1]"
      ]
    },
    {
      "cell_type": "markdown",
      "metadata": {
        "id": "zvLpusHTn2Qb"
      },
      "source": [
        "**TASK 7**\n",
        "\n",
        "Write a NumPy program to create a 4x4 array, now create a new array from the said array swapping first and last, second and third columns."
      ]
    },
    {
      "cell_type": "code",
      "execution_count": null,
      "metadata": {
        "id": "-BcNtq5xn-rN"
      },
      "outputs": [],
      "source": [
        "\n"
      ]
    },
    {
      "cell_type": "code",
      "execution_count": null,
      "metadata": {
        "id": "tc8A4DFIWNwL"
      },
      "outputs": [],
      "source": []
    },
    {
      "cell_type": "markdown",
      "metadata": {
        "id": "MtxG10l8n-9K"
      },
      "source": [
        "**TASK 8**\n",
        "\n",
        "You are given a space separated list of numbers.\n",
        "Your task is to print a reversed NumPy array with the element type float."
      ]
    },
    {
      "cell_type": "code",
      "execution_count": null,
      "metadata": {
        "id": "qVmqBQ3sobK4"
      },
      "outputs": [],
      "source": []
    },
    {
      "cell_type": "code",
      "execution_count": null,
      "metadata": {
        "id": "3Vwzn4FxWuW8"
      },
      "outputs": [],
      "source": []
    },
    {
      "cell_type": "markdown",
      "metadata": {
        "id": "z4oKaOGEobWm"
      },
      "source": [
        "**TASK 9**\n",
        "\n",
        "You are given a space separated list of nine integers. Your task is to convert this list into a X NumPy array."
      ]
    },
    {
      "cell_type": "code",
      "execution_count": null,
      "metadata": {
        "id": "oe7hHLfponHb"
      },
      "outputs": [],
      "source": []
    },
    {
      "cell_type": "markdown",
      "metadata": {
        "id": "4B2C4JpEomg5"
      },
      "source": [
        "**TASK 10**\n",
        "\n",
        "Arithmetic :\n",
        "\n",
        "https://www.hackerrank.com/challenges/np-array-mathematics/problem?isFullScreen=true\n"
      ]
    },
    {
      "cell_type": "markdown",
      "metadata": {
        "id": "EW4o3XuGox4v"
      },
      "source": [
        "**TASK 11**\n",
        "\n",
        "Sum and Prod\n",
        "\n",
        "https://www.hackerrank.com/challenges/np-sum-and-prod/problem?isFullScreen=true"
      ]
    },
    {
      "cell_type": "markdown",
      "metadata": {
        "id": "e1JGTB_xo8AY"
      },
      "source": [
        "**TASK 12**\n",
        "\n",
        "dot and cross :\n",
        "\n",
        "https://www.hackerrank.com/challenges/np-dot-and-cross/problem?isFullScreen=true"
      ]
    },
    {
      "cell_type": "markdown",
      "metadata": {
        "id": "ORi3hpnnpFU_"
      },
      "source": [
        "**TASK 13**\n",
        "\n",
        "min max:\n",
        "\n",
        "https://www.hackerrank.com/challenges/np-min-and-max/problem?isFullScreen=true"
      ]
    },
    {
      "cell_type": "code",
      "execution_count": null,
      "metadata": {
        "id": "_YGcx6WZou-v"
      },
      "outputs": [],
      "source": []
    }
  ],
  "metadata": {
    "colab": {
      "provenance": [],
      "include_colab_link": true
    },
    "kernelspec": {
      "display_name": "Python 3 (ipykernel)",
      "language": "python",
      "name": "python3"
    },
    "language_info": {
      "codemirror_mode": {
        "name": "ipython",
        "version": 3
      },
      "file_extension": ".py",
      "mimetype": "text/x-python",
      "name": "python",
      "nbconvert_exporter": "python",
      "pygments_lexer": "ipython3",
      "version": "3.8.16"
    }
  },
  "nbformat": 4,
  "nbformat_minor": 0
}