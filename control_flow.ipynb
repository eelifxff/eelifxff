{
  "nbformat": 4,
  "nbformat_minor": 0,
  "metadata": {
    "colab": {
      "provenance": [],
      "authorship_tag": "ABX9TyMYfHwhl2iygI90ejSF86Ag",
      "include_colab_link": true
    },
    "kernelspec": {
      "name": "python3",
      "display_name": "Python 3"
    },
    "language_info": {
      "name": "python"
    }
  },
  "cells": [
    {
      "cell_type": "markdown",
      "metadata": {
        "id": "view-in-github",
        "colab_type": "text"
      },
      "source": [
        "<a href=\"https://colab.research.google.com/github/elifnuryaygin03/elifnuryaygin/blob/main/control_flow.ipynb\" target=\"_parent\"><img src=\"https://colab.research.google.com/assets/colab-badge.svg\" alt=\"Open In Colab\"/></a>"
      ]
    },
    {
      "cell_type": "markdown",
      "source": [
        "Exercise 1: Count Model Types\n",
        "In this exercise, you'll count the number of specific model types in a dataset. Use the dictionary of models and the list of model types to count the total number of each model type, but do not count other items in the dataset.\n",
        "\n",
        "Example Input:\n",
        "\n",
        "dataset_items = {'logistic_regression': 4, 'decision_tree': 19, 'random_forest': 3, 'datasets': 8}\n",
        "model_types = ['logistic_regression', 'decision_tree', 'random_forest', 'support_vector_machine']\n",
        "Example Output:\n",
        "\n",
        "result = 26"
      ],
      "metadata": {
        "id": "45xNZcIwC-w8"
      }
    },
    {
      "cell_type": "markdown",
      "source": [],
      "metadata": {
        "id": "jbeDBLr3DU8J"
      }
    },
    {
      "cell_type": "code",
      "source": [
        "result = 0\n",
        "dataset_items = {'logistic_regression': 4, 'decision_tree': 19, 'random_forest': 3, 'datasets': 8}\n",
        "model_types = ['logistic_regression', 'decision_tree', 'random_forest', 'support_vector_machine']\n",
        "\n",
        "# Iterate through the dictionary\n",
        "for model, count in dataset_items.items():\n",
        "    if model in model_types:\n",
        "        result += count\n",
        "\n",
        "### Notebook grading\n",
        "def get_solution(dataset_items, model_types):\n",
        "    result = 0\n",
        "    for model, count in dataset_items.items():\n",
        "        if model in model_types:\n",
        "            result += count\n",
        "    return result\n",
        "\n",
        "correct_answer = get_solution(dataset_items, model_types)\n",
        "if result == correct_answer:\n",
        "    print(\"Nice work!\")\n",
        "else:\n",
        "    print(\"Try again. That doesn't look like what expected.\")"
      ],
      "metadata": {
        "colab": {
          "base_uri": "https://localhost:8080/"
        },
        "id": "0UYlrn61DCfv",
        "outputId": "c075cf54-98a9-4f5c-d22b-edac29aaa2e1"
      },
      "execution_count": 1,
      "outputs": [
        {
          "output_type": "stream",
          "name": "stdout",
          "text": [
            "Nice work!\n"
          ]
        }
      ]
    },
    {
      "cell_type": "markdown",
      "source": [
        "**bold text**Exercise 2: Validate Model Type Counting Function\n",
        "In this exercise, you'll validate that your solution works with any dictionary of items to count the number of specific model types in the dataset.\n",
        "\n",
        "Example Input 1:\n",
        "\n",
        "dataset_items = {'support_vector_machine': 5, 'neural_network': 19, 'random_forest': 3, 'datasets': 8, 'linear_regression': 4}\n",
        "model_types = ['logistic_regression', 'decision_tree', 'random_forest', 'support_vector_machine']\n",
        "Example Input 2:\n",
        "\n",
        "dataset_items = {'naive_bayes': 5, 'k_means': 2, 'random_forest': 3, 'datasets': 8, 'decision_tree': 4}\n",
        "model_types = ['logistic_regression', 'decision_tree', 'random_forest', 'support_vector_machine']\n",
        "Example Input 3:\n",
        "\n",
        "dataset_items = {'k_means': 2, 'datasets': 3, 'support_vector_machine': 8, 'logistic_regression': 4, 'pandas': 10}\n",
        "model_types = ['logistic_regression', 'decision_tree', 'random_forest', 'support_vector_machine']"
      ],
      "metadata": {
        "id": "WmORh988DU-1"
      }
    },
    {
      "cell_type": "code",
      "source": [
        "# Example 1\n",
        "result = 0\n",
        "dataset_items = {'support_vector_machine': 5, 'neural_network': 19, 'random_forest': 3, 'datasets': 8, 'linear_regression': 4}\n",
        "model_types = ['logistic_regression', 'decision_tree', 'random_forest', 'support_vector_machine']\n",
        "\n",
        "# Your previous solution here\n",
        "for model, count in dataset_items.items():\n",
        "    if model in model_types:\n",
        "        result += count\n",
        "\n",
        "print(result)\n",
        "\n",
        "# Example 2\n",
        "result = 0\n",
        "dataset_items = {'naive_bayes': 5, 'k_means': 2, 'random_forest': 3, 'datasets': 8, 'decision_tree': 4}\n",
        "model_types = ['logistic_regression', 'decision_tree', 'random_forest', 'support_vector_machine']\n",
        "\n",
        "# Your previous solution here\n",
        "for model, count in dataset_items.items():\n",
        "    if model in model_types:\n",
        "        result += count\n",
        "\n",
        "print(result)\n",
        "\n",
        "# Example 3\n",
        "result = 0\n",
        "dataset_items = {'k_means': 2, 'datasets': 3, 'support_vector_machine': 8, 'logistic_regression': 4, 'pandas': 10}\n",
        "model_types = ['logistic_regression', 'decision_tree', 'random_forest', 'support_vector_machine']\n",
        "\n",
        "# Your previous solution here\n",
        "for model, count in dataset_items.items():\n",
        "    if model in model_types:\n",
        "        result += count\n",
        "\n",
        "print(result)"
      ],
      "metadata": {
        "colab": {
          "base_uri": "https://localhost:8080/"
        },
        "id": "l9-GQKm8DdrC",
        "outputId": "959f03e8-f35b-4a5d-d0d7-3f85bc7c8d71"
      },
      "execution_count": 2,
      "outputs": [
        {
          "output_type": "stream",
          "name": "stdout",
          "text": [
            "8\n",
            "7\n",
            "12\n"
          ]
        }
      ]
    },
    {
      "cell_type": "markdown",
      "source": [
        "Exercise 3: Count Model Types and Other Items¶\n",
        "In this exercise, you'll count both the number of specific model types and other items in the dataset.\n",
        "\n",
        "Example Input:\n",
        "\n",
        "dataset_items = {'logistic_regression': 4, 'decision_tree': 19, 'random_forest': 3, 'datasets': 8}\n",
        "model_types = ['logistic_regression', 'decision_tree', 'random_forest', 'support_vector_machine']\n",
        "Example Output:\n",
        "\n",
        "model_count = 26\n",
        "non_model_count = 8"
      ],
      "metadata": {
        "id": "n0c1ONGADpVt"
      }
    },
    {
      "cell_type": "code",
      "source": [
        "model_count, non_model_count = 0, 0\n",
        "dataset_items = {'logistic_regression': 4, 'decision_tree': 19, 'random_forest': 3, 'datasets': 8}\n",
        "model_types = ['logistic_regression', 'decision_tree', 'random_forest', 'support_vector_machine']\n",
        "\n",
        "# Iterate through the dictionary\n",
        "for model, count in dataset_items.items():\n",
        "    if model in model_types:\n",
        "        model_count += count\n",
        "    else:\n",
        "        non_model_count += count\n",
        "\n",
        "### Notebook grading\n",
        "def get_solution(dataset_items, model_types):\n",
        "    model_count, non_model_count = 0, 0\n",
        "    for model, count in dataset_items.items():\n",
        "        if model in model_types:\n",
        "            model_count += count\n",
        "        else:\n",
        "            non_model_count += count\n",
        "    return model_count, non_model_count\n",
        "\n",
        "correct_model, correct_non_model = get_solution(dataset_items, model_types)\n",
        "if model_count == correct_model and non_model_count == correct_non_model:\n",
        "    print(\"Nice work!\")\n",
        "else:\n",
        "    print(\"Try again. That doesn't look like what expected.\")"
      ],
      "metadata": {
        "colab": {
          "base_uri": "https://localhost:8080/"
        },
        "id": "iSb0elHQEFw_",
        "outputId": "69fefe66-c324-45fd-ce87-ed4fdf7be55c"
      },
      "execution_count": 4,
      "outputs": [
        {
          "output_type": "stream",
          "name": "stdout",
          "text": [
            "Nice work!\n"
          ]
        }
      ]
    },
    {
      "cell_type": "markdown",
      "source": [
        "Exercise 4: Calculate Total Model Parameters\n",
        "In this exercise, you'll write a loop that iterates over a dictionary of models and their parameters, calculating the total number of parameters used by models of specific types.\n",
        "\n",
        "Example Input:\n",
        "\n",
        "model_parameters = {'logistic_regression': 100, 'decision_tree': 200, 'random_forest': 300, 'datasets': 50}\n",
        "model_types = ['logistic_regression', 'decision_tree', 'random_forest', 'support_vector_machine']\n",
        "Example Output:\n",
        "\n",
        "total_parameters = 600"
      ],
      "metadata": {
        "id": "xgfcqLX8EJwc"
      }
    },
    {
      "cell_type": "code",
      "source": [
        "model_parameters = {'logistic_regression': 100, 'decision_tree': 200, 'random_forest': 300, 'datasets': 50}\n",
        "model_types = ['logistic_regression', 'decision_tree', 'random_forest', 'support_vector_machine']\n",
        "total_parameters = 0\n",
        "\n",
        "# Iterate through the dictionary\n",
        "for model, params in model_parameters.items():\n",
        "    if model in model_types:\n",
        "        total_parameters += params\n",
        "\n",
        "### Notebook grading\n",
        "def get_solution(model_parameters, model_types):\n",
        "    total_parameters = 0\n",
        "    for model, params in model_parameters.items():\n",
        "        if model in model_types:\n",
        "            total_parameters += params\n",
        "    return total_parameters\n",
        "\n",
        "correct_total_parameters = get_solution(model_parameters, model_types)\n",
        "if total_parameters == correct_total_parameters:\n",
        "    print(\"Nice work!\")\n",
        "else:\n",
        "    print(\"Try again. That doesn't look like what expected.\")"
      ],
      "metadata": {
        "colab": {
          "base_uri": "https://localhost:8080/"
        },
        "id": "y5qMFRe4EONj",
        "outputId": "56165e44-35f1-46f1-cd54-d34963e4cc53"
      },
      "execution_count": 5,
      "outputs": [
        {
          "output_type": "stream",
          "name": "stdout",
          "text": [
            "Nice work!\n"
          ]
        }
      ]
    },
    {
      "cell_type": "markdown",
      "source": [
        "Exercise 5: Separate Models by Type\n",
        "In this exercise, you'll write a loop that iterates over a dictionary of models and separates them into different categories based on their types.\n",
        "\n",
        "Example Input:\n",
        "\n",
        "model_info = {'model_a': 'regression', 'model_b': 'classification', 'model_c': 'clustering', 'model_d': 'regression'}\n",
        "model_categories = {'regression': 0, 'classification': 0, 'clustering': 0}\n",
        "Example Output:\n",
        "\n",
        "model_categories = {'regression': 2, 'classification': 1, 'clustering': 1}"
      ],
      "metadata": {
        "id": "eopqtr63EXKf"
      }
    },
    {
      "cell_type": "markdown",
      "source": [],
      "metadata": {
        "id": "utvSmdGtEfac"
      }
    },
    {
      "cell_type": "code",
      "source": [
        "model_info = {'model_a': 'regression', 'model_b': 'classification', 'model_c': 'clustering', 'model_d': 'regression'}\n",
        "model_categories = {'regression': 0, 'classification': 0, 'clustering': 0}\n",
        "\n",
        "# Iterate through the dictionary\n",
        "for model, category in model_info.items():\n",
        "    if category in model_categories:\n",
        "        model_categories[category] += 1\n",
        "\n",
        "### Notebook grading\n",
        "def get_solution(model_info, model_categories):\n",
        "    model_categories = {'regression': 0, 'classification': 0, 'clustering': 0}\n",
        "    for model, category in model_info.items():\n",
        "        if category in model_categories:\n",
        "            model_categories[category] += 1\n",
        "    return model_categories\n",
        "\n",
        "correct_model_categories = get_solution(model_info, model_categories)\n",
        "if model_categories == correct_model_categories:\n",
        "    print(\"Nice work!\")\n",
        "else:\n",
        "    print(\"Try again. That doesn't look like what expected.\")"
      ],
      "metadata": {
        "colab": {
          "base_uri": "https://localhost:8080/"
        },
        "id": "M-acnWr_EarD",
        "outputId": "a7b2ebe2-e0d1-4cad-91a0-572731537486"
      },
      "execution_count": 6,
      "outputs": [
        {
          "output_type": "stream",
          "name": "stdout",
          "text": [
            "Nice work!\n"
          ]
        }
      ]
    },
    {
      "cell_type": "markdown",
      "source": [
        "## Exercise 6: Filter Models by Accuracy\n",
        "\n",
        "In this exercise, you'll write a loop that iterates over a dictionary of models and their accuracies, filtering out models that do not meet a specified accuracy threshold.\n",
        "\n",
        "**Example Input**:\n",
        "```python\n",
        "model_accuracies = {'model_a': 0.95, 'model_b': 0.80, 'model_c': 0.85, 'model_d': 0.90}\n",
        "accuracy_threshold = 0.85\n",
        "```\n",
        "\n",
        "**Example Output**:\n",
        "```python\n",
        "filtered_models = {'model_a': 0.95, 'model_c': 0.85, 'model_d': 0.90}\n",
        "count = 3"
      ],
      "metadata": {
        "id": "lQjDTj50EfdE"
      }
    },
    {
      "cell_type": "code",
      "source": [
        "model_accuracies = {'model_a': 0.95, 'model_b': 0.80, 'model_c': 0.85, 'model_d': 0.90}\n",
        "accuracy_threshold = 0.85\n",
        "filtered_models = {}\n",
        "count = 0\n",
        "\n",
        "# Iterate through the dictionary\n",
        "for model, category in model_info.items():\n",
        "    if category in model_categories:\n",
        "        model_categories[category] += 1\n",
        "\n",
        "### Notebook grading\n",
        "def get_solution(model_accuracies, accuracy_threshold):\n",
        "    filtered_models = {}\n",
        "    count = 0\n",
        "    for model, accuracy in model_accuracies.items():\n",
        "        if accuracy >= accuracy_threshold:\n",
        "            filtered_models[model] = accuracy\n",
        "            count += 1\n",
        "    return filtered_models, count\n",
        "\n",
        "correct_filtered_models, correct_count = get_solution(model_accuracies, accuracy_threshold)\n",
        "if filtered_models == correct_filtered_models and count == correct_count:\n",
        "    print(\"Nice work!\")\n",
        "else:\n",
        "    print(\"Try again. That doesn't look like what expected.\")"
      ],
      "metadata": {
        "colab": {
          "base_uri": "https://localhost:8080/"
        },
        "id": "5TE7Veb0EmjA",
        "outputId": "156ce0a0-2a98-4a15-b658-1aa2dff3fab3"
      },
      "execution_count": 7,
      "outputs": [
        {
          "output_type": "stream",
          "name": "stdout",
          "text": [
            "Try again. That doesn't look like what expected.\n"
          ]
        }
      ]
    }
  ]
}