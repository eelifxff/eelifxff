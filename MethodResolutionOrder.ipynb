{
  "nbformat": 4,
  "nbformat_minor": 0,
  "metadata": {
    "colab": {
      "provenance": [],
      "gpuType": "T4",
      "authorship_tag": "ABX9TyNPM+rGwGSMgakTVCQUfg2s",
      "include_colab_link": true
    },
    "kernelspec": {
      "name": "python3",
      "display_name": "Python 3"
    },
    "language_info": {
      "name": "python"
    },
    "accelerator": "GPU"
  },
  "cells": [
    {
      "cell_type": "markdown",
      "metadata": {
        "id": "view-in-github",
        "colab_type": "text"
      },
      "source": [
        "<a href=\"https://colab.research.google.com/github/elifnuryaygin03/elifnuryaygin/blob/main/MethodResolutionOrder.ipynb\" target=\"_parent\"><img src=\"https://colab.research.google.com/assets/colab-badge.svg\" alt=\"Open In Colab\"/></a>"
      ]
    },
    {
      "cell_type": "markdown",
      "source": [],
      "metadata": {
        "id": "d-dw_p7HrSvr"
      }
    },
    {
      "cell_type": "markdown",
      "source": [
        "Working with Methods: Examples\n",
        "You have learned how to use objects, classes and the methods inside them.  You have covered these both in cases where there is only one class, as well as when there are multiple classes. You also explored how multiple inheritance works in Python and the role Method Resolution Order(MRO) plays in determining the call for the method.\n",
        "\n",
        "The following examples demonstrate how the function call is resolved in cases of multiple inheritance in different scenarios. Note that all the functions have the same names in all of the examples."
      ],
      "metadata": {
        "id": "JVz4ooWIrX8Z"
      }
    },
    {
      "cell_type": "code",
      "source": [
        "# Example 1\n",
        "class A:\n",
        "   def a(self):\n",
        "       return \"Function inside A\"\n",
        "\n",
        "class B:\n",
        "    def a(self):\n",
        "        return \"Function inside B\"\n",
        "\n",
        "class C(B,A):\n",
        "    pass\n",
        "\n",
        "# Driver code\n",
        "c = C()\n",
        "print(c.a())"
      ],
      "metadata": {
        "colab": {
          "base_uri": "https://localhost:8080/"
        },
        "id": "9QWA6lwyria6",
        "outputId": "ee9bb271-8f88-44c6-da58-058e139556bc"
      },
      "execution_count": 1,
      "outputs": [
        {
          "output_type": "stream",
          "name": "stdout",
          "text": [
            "Function inside B\n"
          ]
        }
      ]
    },
    {
      "cell_type": "markdown",
      "source": [
        "Class C inherits from classes B and A. When I don't find any function a() inside class C, I should search for classes B and A and its important that I do it in that order.\n",
        "\n",
        "I will now add one more level to this and note the output."
      ],
      "metadata": {
        "id": "zxisyZC4sRFs"
      }
    },
    {
      "cell_type": "code",
      "source": [
        "class A:\n",
        "    def b(self):\n",
        "        return \"Function inside A\"\n",
        "\n",
        "class B:\n",
        "    def b(self):\n",
        "        return \"Function inside B\"\n",
        "\n",
        "class C(A, B):\n",
        "    def b(self):\n",
        "        return \"Function inside C\"\n",
        "    pass\n",
        "\n",
        "class D(C):\n",
        "    pass\n",
        "\n",
        "d = D()\n",
        "print(d.b())"
      ],
      "metadata": {
        "colab": {
          "base_uri": "https://localhost:8080/"
        },
        "id": "iMd-eHHqsp60",
        "outputId": "614fb0ab-cdea-41ce-eb2d-cdb4159c1026"
      },
      "execution_count": 2,
      "outputs": [
        {
          "output_type": "stream",
          "name": "stdout",
          "text": [
            "Function inside C\n"
          ]
        }
      ]
    },
    {
      "cell_type": "markdown",
      "source": [
        "Class D inherits from class C, which in turn inherits from classes A and B. Class D accesses the immediate superclass of class D, which is class C and resolves the value of the variable once it's found in that superclass.\n",
        "\n",
        "Now let’s say I comment out the declaration inside class C."
      ],
      "metadata": {
        "id": "zCy6Fdtxsxvp"
      }
    },
    {
      "cell_type": "code",
      "source": [
        "    # def b(self):\n",
        "    #     return \"Function inside C\""
      ],
      "metadata": {
        "id": "3o_k8rF6s5Zv"
      },
      "execution_count": 3,
      "outputs": []
    },
    {
      "cell_type": "markdown",
      "source": [
        "And replace it with the pass keyword to keep the code functional.\n",
        "\n",
        "Since there was no value present inside class C either, the function call above would go to A. That is because class C will point to class A as having higher precedence while inheriting.\n",
        "\n",
        "Now let's take another example of a similar scenario."
      ],
      "metadata": {
        "id": "V4CCpRoXtCXZ"
      }
    },
    {
      "cell_type": "code",
      "source": [
        "class A:\n",
        "    def c(self):\n",
        "        return \"Function inside A\"\n",
        "\n",
        "class B:\n",
        "    def c(self):\n",
        "        return \"Function inside B\"\n",
        "\n",
        "class C(A, B):\n",
        "    def c(self):\n",
        "        return \"Function inside C\"\n",
        "\n",
        "class D(A, C):\n",
        "    pass\n",
        "\n",
        "d = D()\n",
        "print(d.a)"
      ],
      "metadata": {
        "colab": {
          "base_uri": "https://localhost:8080/",
          "height": 228
        },
        "id": "PqDDVbjYtFHj",
        "outputId": "b0671629-86ee-4920-f679-379000257c09"
      },
      "execution_count": 4,
      "outputs": [
        {
          "output_type": "error",
          "ename": "TypeError",
          "evalue": "Cannot create a consistent method resolution\norder (MRO) for bases A, C",
          "traceback": [
            "\u001b[0;31m---------------------------------------------------------------------------\u001b[0m",
            "\u001b[0;31mTypeError\u001b[0m                                 Traceback (most recent call last)",
            "\u001b[0;32m<ipython-input-4-7e89c6e71995>\u001b[0m in \u001b[0;36m<cell line: 13>\u001b[0;34m()\u001b[0m\n\u001b[1;32m     11\u001b[0m         \u001b[0;32mreturn\u001b[0m \u001b[0;34m\"Function inside C\"\u001b[0m\u001b[0;34m\u001b[0m\u001b[0;34m\u001b[0m\u001b[0m\n\u001b[1;32m     12\u001b[0m \u001b[0;34m\u001b[0m\u001b[0m\n\u001b[0;32m---> 13\u001b[0;31m \u001b[0;32mclass\u001b[0m \u001b[0mD\u001b[0m\u001b[0;34m(\u001b[0m\u001b[0mA\u001b[0m\u001b[0;34m,\u001b[0m \u001b[0mC\u001b[0m\u001b[0;34m)\u001b[0m\u001b[0;34m:\u001b[0m\u001b[0;34m\u001b[0m\u001b[0;34m\u001b[0m\u001b[0m\n\u001b[0m\u001b[1;32m     14\u001b[0m     \u001b[0;32mpass\u001b[0m\u001b[0;34m\u001b[0m\u001b[0;34m\u001b[0m\u001b[0m\n\u001b[1;32m     15\u001b[0m \u001b[0;34m\u001b[0m\u001b[0m\n",
            "\u001b[0;31mTypeError\u001b[0m: Cannot create a consistent method resolution\norder (MRO) for bases A, C"
          ]
        }
      ]
    },
    {
      "cell_type": "markdown",
      "source": [
        "Note that this throws an error. In the code above, class D inherits from both class A and class C.\n",
        "\n",
        "Class C is its immediate superclass, but since this is multiple inheritance, the rules are more complicated and it also has to check the classes passed to it for precedence.\n",
        "\n",
        "In this particular case, class D is unable to resolve the order that should be followed, while resolving the value for the variable in cases where the variable is not present in the class of the given object.\n",
        "\n",
        "It results in a TypeError because it's unable to create method resolution order (MRO). MRO is Python’s way of resolving the order of precedence of classes while dealing with inheritance.\n",
        "\n",
        "Let's examine one final example."
      ],
      "metadata": {
        "id": "g8RT2db_tMiw"
      }
    },
    {
      "cell_type": "code",
      "source": [
        "class A:\n",
        "    def d(self):\n",
        "        return \"Function inside A\"\n",
        "\n",
        "class B:\n",
        "    def d(self):\n",
        "        return \"Function inside B\"\n",
        "\n",
        "\n",
        "class C:\n",
        "    def d(self):\n",
        "        return \"Function inside C\"\n",
        "\n",
        "\n",
        "class D(A, B):\n",
        "    def d(self):\n",
        "        return \"Function inside D\"\n",
        "\n",
        "\n",
        "class E(B, C):\n",
        "    def d(self):\n",
        "        return \"Function inside E\"\n",
        "\n",
        "\n",
        "class F(E,D,C):\n",
        "    pass\n",
        "\n",
        "f = F()\n",
        "print(f.d())\n",
        "print(F.mro())"
      ],
      "metadata": {
        "colab": {
          "base_uri": "https://localhost:8080/"
        },
        "id": "yLpXWEi3tRdT",
        "outputId": "1f4a8505-ce3e-4bab-8124-41c25c45df2e"
      },
      "execution_count": 5,
      "outputs": [
        {
          "output_type": "stream",
          "name": "stdout",
          "text": [
            "Function inside E\n",
            "[<class '__main__.F'>, <class '__main__.E'>, <class '__main__.D'>, <class '__main__.A'>, <class '__main__.B'>, <class '__main__.C'>, <class 'object'>]\n"
          ]
        }
      ]
    },
    {
      "cell_type": "markdown",
      "source": [
        "The code here is simple. class F directly inherits from its immediate superclass and the first class that is passed to it. The second line then demonstrates the return from the mro() function.\n",
        "\n",
        "The examples in this reading demonstrate how code in which multiple inheritance is used, can get complicated and very messy, very fast. Multiple inheritance, with all the advantages and flexibility that it provides, should only be used once you have a strong command of Python as a language to avoid creating 'spaghetti code' that's difficult to understand and update.\n",
        "\n"
      ],
      "metadata": {
        "id": "5C_ZhntwtYwm"
      }
    }
  ]
}