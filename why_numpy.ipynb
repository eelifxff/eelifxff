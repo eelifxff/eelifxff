{
  "nbformat": 4,
  "nbformat_minor": 0,
  "metadata": {
    "colab": {
      "provenance": [],
      "machine_shape": "hm",
      "gpuType": "L4",
      "include_colab_link": true
    },
    "kernelspec": {
      "name": "python3",
      "display_name": "Python 3"
    },
    "language_info": {
      "name": "python"
    },
    "accelerator": "GPU"
  },
  "cells": [
    {
      "cell_type": "markdown",
      "metadata": {
        "id": "view-in-github",
        "colab_type": "text"
      },
      "source": [
        "<a href=\"https://colab.research.google.com/github/elifnuryaygin03/eelifxff/blob/main/why_numpy.ipynb\" target=\"_parent\"><img src=\"https://colab.research.google.com/assets/colab-badge.svg\" alt=\"Open In Colab\"/></a>"
      ]
    },
    {
      "cell_type": "code",
      "execution_count": 1,
      "metadata": {
        "colab": {
          "base_uri": "https://localhost:8080/"
        },
        "id": "WLT4XP5fCEsE",
        "outputId": "1a6a0789-654b-49e2-fdf6-59e196b64283"
      },
      "outputs": [
        {
          "output_type": "stream",
          "name": "stdout",
          "text": [
            "Requirement already satisfied: numpy in /usr/local/lib/python3.10/dist-packages (1.26.4)\n"
          ]
        }
      ],
      "source": [
        "!pip install numpy"
      ]
    },
    {
      "cell_type": "code",
      "source": [
        "import numpy as np"
      ],
      "metadata": {
        "id": "jCI0ktTSCQaV"
      },
      "execution_count": 2,
      "outputs": []
    },
    {
      "cell_type": "code",
      "source": [
        "array = np.array([1,2,3,4,5])"
      ],
      "metadata": {
        "id": "nhdX6jg4CS5B"
      },
      "execution_count": 3,
      "outputs": []
    },
    {
      "cell_type": "code",
      "source": [
        "print(type(array))"
      ],
      "metadata": {
        "colab": {
          "base_uri": "https://localhost:8080/"
        },
        "id": "SqnWi274CURG",
        "outputId": "a2ac2ab1-5cf3-4be7-8ae7-5316940aa192"
      },
      "execution_count": 4,
      "outputs": [
        {
          "output_type": "stream",
          "name": "stdout",
          "text": [
            "<class 'numpy.ndarray'>\n"
          ]
        }
      ]
    },
    {
      "cell_type": "code",
      "source": [
        "revenues = [2000,5000,3000,6500,7200,3100,2650,1900,3820,5120,4100]"
      ],
      "metadata": {
        "id": "iu-Ic7ouCWCL"
      },
      "execution_count": 5,
      "outputs": []
    },
    {
      "cell_type": "code",
      "source": [
        "import time"
      ],
      "metadata": {
        "id": "lABuzpgfCYp6"
      },
      "execution_count": 6,
      "outputs": []
    },
    {
      "cell_type": "code",
      "source": [
        "initial_time = time.time()\n",
        "sum = 0"
      ],
      "metadata": {
        "id": "hu5cPlNOChg-"
      },
      "execution_count": 7,
      "outputs": []
    },
    {
      "cell_type": "code",
      "source": [
        "for i in revenues:\n",
        "  sum += i\n",
        "print(sum)\n",
        "termination_time = time.time()\n",
        "\n",
        "print(\"Execution Time: \",termination_time-initial_time)"
      ],
      "metadata": {
        "colab": {
          "base_uri": "https://localhost:8080/"
        },
        "id": "VXnqvg9ACjwT",
        "outputId": "a120ed5f-a147-4656-9f46-8d578d680a4c"
      },
      "execution_count": 8,
      "outputs": [
        {
          "output_type": "stream",
          "name": "stdout",
          "text": [
            "44390\n",
            "Execution Time:  3.272641181945801\n"
          ]
        }
      ]
    },
    {
      "cell_type": "code",
      "source": [
        "array = np.array(revenues)\n",
        "\n",
        "initial_time = time.time()\n",
        "\n",
        "sum = array.sum()\n",
        "print(sum)\n",
        "termination_time = time.time()\n",
        "\n",
        "print(\"Execution Time: \",termination_time-initial_time)"
      ],
      "metadata": {
        "colab": {
          "base_uri": "https://localhost:8080/"
        },
        "id": "j518cuwsClso",
        "outputId": "cc40f562-8b7e-43cf-8202-dea7acc8deba"
      },
      "execution_count": 9,
      "outputs": [
        {
          "output_type": "stream",
          "name": "stdout",
          "text": [
            "44390\n",
            "Execution Time:  0.0036258697509765625\n"
          ]
        }
      ]
    },
    {
      "cell_type": "code",
      "source": [
        "x = ['Ben',500,'Jake','Liz',6000]\n",
        "print(x)"
      ],
      "metadata": {
        "colab": {
          "base_uri": "https://localhost:8080/"
        },
        "id": "4AiMZc4tCqWM",
        "outputId": "caa60838-b35e-40f8-9deb-476112670524"
      },
      "execution_count": 10,
      "outputs": [
        {
          "output_type": "stream",
          "name": "stdout",
          "text": [
            "['Ben', 500, 'Jake', 'Liz', 6000]\n"
          ]
        }
      ]
    },
    {
      "cell_type": "code",
      "source": [
        "for i in x:\n",
        "  print(type(i))"
      ],
      "metadata": {
        "colab": {
          "base_uri": "https://localhost:8080/"
        },
        "id": "vNgbEcuFCsRp",
        "outputId": "e8e6f703-f1da-45e4-9696-a4db223e4eca"
      },
      "execution_count": 11,
      "outputs": [
        {
          "output_type": "stream",
          "name": "stdout",
          "text": [
            "<class 'str'>\n",
            "<class 'int'>\n",
            "<class 'str'>\n",
            "<class 'str'>\n",
            "<class 'int'>\n"
          ]
        }
      ]
    },
    {
      "cell_type": "code",
      "source": [
        "arrayx = np.array(x)\n",
        "print(arrayx)"
      ],
      "metadata": {
        "colab": {
          "base_uri": "https://localhost:8080/"
        },
        "id": "3cStzw9xCuPG",
        "outputId": "55b8844d-da99-47b0-eb08-81f620c1efe5"
      },
      "execution_count": 12,
      "outputs": [
        {
          "output_type": "stream",
          "name": "stdout",
          "text": [
            "['Ben' '500' 'Jake' 'Liz' '6000']\n"
          ]
        }
      ]
    },
    {
      "cell_type": "code",
      "source": [
        "for i in arrayx:\n",
        "  print(type(i))"
      ],
      "metadata": {
        "colab": {
          "base_uri": "https://localhost:8080/"
        },
        "id": "j5cHxl_1CwSu",
        "outputId": "6a1548cc-e0a8-4fb5-b0d7-6b715f34b07d"
      },
      "execution_count": 13,
      "outputs": [
        {
          "output_type": "stream",
          "name": "stdout",
          "text": [
            "<class 'numpy.str_'>\n",
            "<class 'numpy.str_'>\n",
            "<class 'numpy.str_'>\n",
            "<class 'numpy.str_'>\n",
            "<class 'numpy.str_'>\n"
          ]
        }
      ]
    },
    {
      "cell_type": "code",
      "source": [
        "array2  = np.array([[1, 2, 3], [4, 5, 6]])"
      ],
      "metadata": {
        "id": "-aF1-s2xCymJ"
      },
      "execution_count": 14,
      "outputs": []
    },
    {
      "cell_type": "code",
      "source": [
        "print(array2)"
      ],
      "metadata": {
        "colab": {
          "base_uri": "https://localhost:8080/"
        },
        "id": "cvFA81onC0o-",
        "outputId": "016e0d75-031d-4a15-ddbd-c7eb4c50a676"
      },
      "execution_count": 15,
      "outputs": [
        {
          "output_type": "stream",
          "name": "stdout",
          "text": [
            "[[1 2 3]\n",
            " [4 5 6]]\n"
          ]
        }
      ]
    },
    {
      "cell_type": "code",
      "source": [
        "array2.ndim"
      ],
      "metadata": {
        "colab": {
          "base_uri": "https://localhost:8080/"
        },
        "id": "ZbRQeMLjC2Wo",
        "outputId": "793992fe-9ebc-43ec-800a-b93626eb5a19"
      },
      "execution_count": 16,
      "outputs": [
        {
          "output_type": "execute_result",
          "data": {
            "text/plain": [
              "2"
            ]
          },
          "metadata": {},
          "execution_count": 16
        }
      ]
    },
    {
      "cell_type": "code",
      "source": [
        "array2.shape"
      ],
      "metadata": {
        "colab": {
          "base_uri": "https://localhost:8080/"
        },
        "id": "gLvX5y5vC39M",
        "outputId": "2386be12-bd7b-4a61-ddf5-e089e59741e3"
      },
      "execution_count": 17,
      "outputs": [
        {
          "output_type": "execute_result",
          "data": {
            "text/plain": [
              "(2, 3)"
            ]
          },
          "metadata": {},
          "execution_count": 17
        }
      ]
    },
    {
      "cell_type": "code",
      "source": [
        "array2.size"
      ],
      "metadata": {
        "colab": {
          "base_uri": "https://localhost:8080/"
        },
        "id": "bzDQlHV6C5rI",
        "outputId": "66af886f-b7e1-4c26-f421-160f0c9979ab"
      },
      "execution_count": 18,
      "outputs": [
        {
          "output_type": "execute_result",
          "data": {
            "text/plain": [
              "6"
            ]
          },
          "metadata": {},
          "execution_count": 18
        }
      ]
    },
    {
      "cell_type": "code",
      "source": [],
      "metadata": {
        "id": "68eH3hIGC7Ca"
      },
      "execution_count": null,
      "outputs": []
    }
  ]
}